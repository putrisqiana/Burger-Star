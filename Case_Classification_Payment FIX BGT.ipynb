{
  "nbformat": 4,
  "nbformat_minor": 0,
  "metadata": {
    "colab": {
      "name": "Case_Classification Payment.ipynb",
      "version": "0.3.2",
      "provenance": []
    },
    "kernelspec": {
      "name": "python3",
      "display_name": "Python 3"
    }
  },
  "cells": [
    {
      "cell_type": "code",
      "metadata": {
        "id": "3Wzppm8qr43z",
        "colab_type": "code",
        "colab": {}
      },
      "source": [
        "import numpy as np\n",
        "import pandas as pd\n",
        "from sklearn.tree import DecisionTreeClassifier"
      ],
      "execution_count": 0,
      "outputs": []
    },
    {
      "cell_type": "code",
      "metadata": {
        "id": "LSyiTydIr__a",
        "colab_type": "code",
        "colab": {}
      },
      "source": [
        "resto = pd.read_csv('Static Dataset Transaction - Burger Star (Outlet A) .csv')"
      ],
      "execution_count": 0,
      "outputs": []
    },
    {
      "cell_type": "code",
      "metadata": {
        "id": "zRQO0lIbsP3J",
        "colab_type": "code",
        "outputId": "6739e776-39b2-462d-9c08-ed7772426fb1",
        "colab": {
          "base_uri": "https://localhost:8080/",
          "height": 188
        }
      },
      "source": [
        "resto.head()"
      ],
      "execution_count": 0,
      "outputs": [
        {
          "output_type": "execute_result",
          "data": {
            "text/html": [
              "<div>\n",
              "<style scoped>\n",
              "    .dataframe tbody tr th:only-of-type {\n",
              "        vertical-align: middle;\n",
              "    }\n",
              "\n",
              "    .dataframe tbody tr th {\n",
              "        vertical-align: top;\n",
              "    }\n",
              "\n",
              "    .dataframe thead th {\n",
              "        text-align: right;\n",
              "    }\n",
              "</style>\n",
              "<table border=\"1\" class=\"dataframe\">\n",
              "  <thead>\n",
              "    <tr style=\"text-align: right;\">\n",
              "      <th></th>\n",
              "      <th>Timestamp</th>\n",
              "      <th>Type Burger</th>\n",
              "      <th>Code Burger</th>\n",
              "      <th>Amount Burger</th>\n",
              "      <th>Type Drink</th>\n",
              "      <th>Code Drink</th>\n",
              "      <th>Amount Drink</th>\n",
              "      <th>Gender</th>\n",
              "      <th>Payment</th>\n",
              "    </tr>\n",
              "  </thead>\n",
              "  <tbody>\n",
              "    <tr>\n",
              "      <th>0</th>\n",
              "      <td>10:01</td>\n",
              "      <td>Beef burger</td>\n",
              "      <td>1</td>\n",
              "      <td>6</td>\n",
              "      <td>Mineral water</td>\n",
              "      <td>1</td>\n",
              "      <td>3</td>\n",
              "      <td>1</td>\n",
              "      <td>DANA</td>\n",
              "    </tr>\n",
              "    <tr>\n",
              "      <th>1</th>\n",
              "      <td>10:04</td>\n",
              "      <td>Cheese burger</td>\n",
              "      <td>3</td>\n",
              "      <td>12</td>\n",
              "      <td>Coke</td>\n",
              "      <td>2</td>\n",
              "      <td>10</td>\n",
              "      <td>0</td>\n",
              "      <td>DANA</td>\n",
              "    </tr>\n",
              "    <tr>\n",
              "      <th>2</th>\n",
              "      <td>10:05</td>\n",
              "      <td>Double cheese burger</td>\n",
              "      <td>4</td>\n",
              "      <td>10</td>\n",
              "      <td>Mineral water</td>\n",
              "      <td>1</td>\n",
              "      <td>5</td>\n",
              "      <td>0</td>\n",
              "      <td>LINK AJA</td>\n",
              "    </tr>\n",
              "    <tr>\n",
              "      <th>3</th>\n",
              "      <td>10:06</td>\n",
              "      <td>Chicken burger</td>\n",
              "      <td>2</td>\n",
              "      <td>9</td>\n",
              "      <td>Coffe</td>\n",
              "      <td>3</td>\n",
              "      <td>9</td>\n",
              "      <td>0</td>\n",
              "      <td>DANA</td>\n",
              "    </tr>\n",
              "    <tr>\n",
              "      <th>4</th>\n",
              "      <td>10:07</td>\n",
              "      <td>Cheese burger</td>\n",
              "      <td>3</td>\n",
              "      <td>11</td>\n",
              "      <td>Coke</td>\n",
              "      <td>2</td>\n",
              "      <td>3</td>\n",
              "      <td>1</td>\n",
              "      <td>DANA</td>\n",
              "    </tr>\n",
              "  </tbody>\n",
              "</table>\n",
              "</div>"
            ],
            "text/plain": [
              "  Timestamp           Type Burger  Code Burger  ...  Amount Drink Gender   Payment\n",
              "0     10:01           Beef burger            1  ...             3      1      DANA\n",
              "1     10:04         Cheese burger            3  ...            10      0      DANA\n",
              "2     10:05  Double cheese burger            4  ...             5      0  LINK AJA\n",
              "3     10:06        Chicken burger            2  ...             9      0      DANA\n",
              "4     10:07         Cheese burger            3  ...             3      1      DANA\n",
              "\n",
              "[5 rows x 9 columns]"
            ]
          },
          "metadata": {
            "tags": []
          },
          "execution_count": 3
        }
      ]
    },
    {
      "cell_type": "code",
      "metadata": {
        "id": "b40BeDRmvPqx",
        "colab_type": "code",
        "outputId": "ea4cd693-92fc-4739-afd9-79cf59397068",
        "colab": {
          "base_uri": "https://localhost:8080/",
          "height": 255
        }
      },
      "source": [
        "resto.info()"
      ],
      "execution_count": 0,
      "outputs": [
        {
          "output_type": "stream",
          "text": [
            "<class 'pandas.core.frame.DataFrame'>\n",
            "RangeIndex: 312 entries, 0 to 311\n",
            "Data columns (total 9 columns):\n",
            "Timestamp        312 non-null object\n",
            "Type Burger      312 non-null object\n",
            "Code Burger      312 non-null int64\n",
            "Amount Burger    312 non-null int64\n",
            "Type Drink       312 non-null object\n",
            "Code Drink       312 non-null int64\n",
            "Amount Drink     312 non-null int64\n",
            "Gender           312 non-null int64\n",
            "Payment          312 non-null object\n",
            "dtypes: int64(5), object(4)\n",
            "memory usage: 22.0+ KB\n"
          ],
          "name": "stdout"
        }
      ]
    },
    {
      "cell_type": "code",
      "metadata": {
        "id": "UnVGvxrHsSVK",
        "colab_type": "code",
        "colab": {}
      },
      "source": [
        "rest=resto.drop(columns=['Timestamp'])"
      ],
      "execution_count": 0,
      "outputs": []
    },
    {
      "cell_type": "code",
      "metadata": {
        "id": "ktqeCMyPsT_Z",
        "colab_type": "code",
        "outputId": "2da33340-3740-4816-c383-8cbe151fb05f",
        "colab": {
          "base_uri": "https://localhost:8080/",
          "height": 204
        }
      },
      "source": [
        "rest.head()"
      ],
      "execution_count": 0,
      "outputs": [
        {
          "output_type": "execute_result",
          "data": {
            "text/html": [
              "<div>\n",
              "<style scoped>\n",
              "    .dataframe tbody tr th:only-of-type {\n",
              "        vertical-align: middle;\n",
              "    }\n",
              "\n",
              "    .dataframe tbody tr th {\n",
              "        vertical-align: top;\n",
              "    }\n",
              "\n",
              "    .dataframe thead th {\n",
              "        text-align: right;\n",
              "    }\n",
              "</style>\n",
              "<table border=\"1\" class=\"dataframe\">\n",
              "  <thead>\n",
              "    <tr style=\"text-align: right;\">\n",
              "      <th></th>\n",
              "      <th>Type Burger</th>\n",
              "      <th>Code Burger</th>\n",
              "      <th>Amount Burger</th>\n",
              "      <th>Type Drink</th>\n",
              "      <th>Code Drink</th>\n",
              "      <th>Amount Drink</th>\n",
              "      <th>Gender</th>\n",
              "      <th>Payment</th>\n",
              "    </tr>\n",
              "  </thead>\n",
              "  <tbody>\n",
              "    <tr>\n",
              "      <th>0</th>\n",
              "      <td>Beef burger</td>\n",
              "      <td>1</td>\n",
              "      <td>6</td>\n",
              "      <td>Mineral water</td>\n",
              "      <td>1</td>\n",
              "      <td>3</td>\n",
              "      <td>1</td>\n",
              "      <td>DANA</td>\n",
              "    </tr>\n",
              "    <tr>\n",
              "      <th>1</th>\n",
              "      <td>Cheese burger</td>\n",
              "      <td>3</td>\n",
              "      <td>12</td>\n",
              "      <td>Coke</td>\n",
              "      <td>2</td>\n",
              "      <td>10</td>\n",
              "      <td>0</td>\n",
              "      <td>DANA</td>\n",
              "    </tr>\n",
              "    <tr>\n",
              "      <th>2</th>\n",
              "      <td>Double cheese burger</td>\n",
              "      <td>4</td>\n",
              "      <td>10</td>\n",
              "      <td>Mineral water</td>\n",
              "      <td>1</td>\n",
              "      <td>5</td>\n",
              "      <td>0</td>\n",
              "      <td>LINK AJA</td>\n",
              "    </tr>\n",
              "    <tr>\n",
              "      <th>3</th>\n",
              "      <td>Chicken burger</td>\n",
              "      <td>2</td>\n",
              "      <td>9</td>\n",
              "      <td>Coffe</td>\n",
              "      <td>3</td>\n",
              "      <td>9</td>\n",
              "      <td>0</td>\n",
              "      <td>DANA</td>\n",
              "    </tr>\n",
              "    <tr>\n",
              "      <th>4</th>\n",
              "      <td>Cheese burger</td>\n",
              "      <td>3</td>\n",
              "      <td>11</td>\n",
              "      <td>Coke</td>\n",
              "      <td>2</td>\n",
              "      <td>3</td>\n",
              "      <td>1</td>\n",
              "      <td>DANA</td>\n",
              "    </tr>\n",
              "  </tbody>\n",
              "</table>\n",
              "</div>"
            ],
            "text/plain": [
              "            Type Burger  Code Burger  ...  Gender   Payment\n",
              "0           Beef burger            1  ...       1      DANA\n",
              "1         Cheese burger            3  ...       0      DANA\n",
              "2  Double cheese burger            4  ...       0  LINK AJA\n",
              "3        Chicken burger            2  ...       0      DANA\n",
              "4         Cheese burger            3  ...       1      DANA\n",
              "\n",
              "[5 rows x 8 columns]"
            ]
          },
          "metadata": {
            "tags": []
          },
          "execution_count": 6
        }
      ]
    },
    {
      "cell_type": "code",
      "metadata": {
        "id": "Nq8itQB3vabb",
        "colab_type": "code",
        "outputId": "7ba59faf-24da-4ed8-ed7b-9f600af91631",
        "colab": {
          "base_uri": "https://localhost:8080/",
          "height": 238
        }
      },
      "source": [
        "rest.info()"
      ],
      "execution_count": 0,
      "outputs": [
        {
          "output_type": "stream",
          "text": [
            "<class 'pandas.core.frame.DataFrame'>\n",
            "RangeIndex: 312 entries, 0 to 311\n",
            "Data columns (total 8 columns):\n",
            "Type Burger      312 non-null object\n",
            "Code Burger      312 non-null int64\n",
            "Amount Burger    312 non-null int64\n",
            "Type Drink       312 non-null object\n",
            "Code Drink       312 non-null int64\n",
            "Amount Drink     312 non-null int64\n",
            "Gender           312 non-null int64\n",
            "Payment          312 non-null object\n",
            "dtypes: int64(5), object(3)\n",
            "memory usage: 19.6+ KB\n"
          ],
          "name": "stdout"
        }
      ]
    },
    {
      "cell_type": "code",
      "metadata": {
        "id": "N6p1QjA0sb13",
        "colab_type": "code",
        "outputId": "f0a7bb51-a69a-4021-c203-f5a6cae2e1d8",
        "colab": {
          "base_uri": "https://localhost:8080/",
          "height": 102
        }
      },
      "source": [
        "rest['Type Burger'].value_counts()"
      ],
      "execution_count": 0,
      "outputs": [
        {
          "output_type": "execute_result",
          "data": {
            "text/plain": [
              "Beef burger             116\n",
              "Chicken burger           71\n",
              "Double cheese burger     69\n",
              "Cheese burger            56\n",
              "Name: Type Burger, dtype: int64"
            ]
          },
          "metadata": {
            "tags": []
          },
          "execution_count": 8
        }
      ]
    },
    {
      "cell_type": "code",
      "metadata": {
        "id": "RDB_nlDnsfaU",
        "colab_type": "code",
        "outputId": "39adecd8-4d37-47d4-a0f5-175c10c923af",
        "colab": {
          "base_uri": "https://localhost:8080/",
          "height": 102
        }
      },
      "source": [
        "rest['Type Drink'].value_counts()"
      ],
      "execution_count": 0,
      "outputs": [
        {
          "output_type": "execute_result",
          "data": {
            "text/plain": [
              "Mineral water    109\n",
              "Coffe             88\n",
              "Coke              69\n",
              "None              46\n",
              "Name: Type Drink, dtype: int64"
            ]
          },
          "metadata": {
            "tags": []
          },
          "execution_count": 9
        }
      ]
    },
    {
      "cell_type": "code",
      "metadata": {
        "id": "WF4FZ2yzslgE",
        "colab_type": "code",
        "outputId": "5a18a674-54d3-4517-ecd2-7407678a08c8",
        "colab": {
          "base_uri": "https://localhost:8080/",
          "height": 68
        }
      },
      "source": [
        "rest['Gender'].value_counts()"
      ],
      "execution_count": 0,
      "outputs": [
        {
          "output_type": "execute_result",
          "data": {
            "text/plain": [
              "0    171\n",
              "1    141\n",
              "Name: Gender, dtype: int64"
            ]
          },
          "metadata": {
            "tags": []
          },
          "execution_count": 10
        }
      ]
    },
    {
      "cell_type": "code",
      "metadata": {
        "id": "RxFIU0YLsnw6",
        "colab_type": "code",
        "outputId": "f0454131-f636-4899-80f5-1d6a7405a818",
        "colab": {
          "base_uri": "https://localhost:8080/",
          "height": 114
        }
      },
      "source": [
        "rest['Payment'].value_counts()"
      ],
      "execution_count": 0,
      "outputs": [
        {
          "output_type": "execute_result",
          "data": {
            "text/plain": [
              "LINK AJA    67\n",
              "GOPAY       65\n",
              "DANA        64\n",
              "TUNAI       64\n",
              "OVO         52\n",
              "Name: Payment, dtype: int64"
            ]
          },
          "metadata": {
            "tags": []
          },
          "execution_count": 11
        }
      ]
    },
    {
      "cell_type": "code",
      "metadata": {
        "id": "3FJKe07Lsp2J",
        "colab_type": "code",
        "outputId": "93fadb7c-b5d9-4e8e-d8b2-5ea395be9fca",
        "colab": {
          "base_uri": "https://localhost:8080/",
          "height": 1000
        }
      },
      "source": [
        "data=rest.drop(columns=['Code Burger', 'Code Drink', 'Payment'])\n",
        "data"
      ],
      "execution_count": 0,
      "outputs": [
        {
          "output_type": "execute_result",
          "data": {
            "text/html": [
              "<div>\n",
              "<style scoped>\n",
              "    .dataframe tbody tr th:only-of-type {\n",
              "        vertical-align: middle;\n",
              "    }\n",
              "\n",
              "    .dataframe tbody tr th {\n",
              "        vertical-align: top;\n",
              "    }\n",
              "\n",
              "    .dataframe thead th {\n",
              "        text-align: right;\n",
              "    }\n",
              "</style>\n",
              "<table border=\"1\" class=\"dataframe\">\n",
              "  <thead>\n",
              "    <tr style=\"text-align: right;\">\n",
              "      <th></th>\n",
              "      <th>Type Burger</th>\n",
              "      <th>Amount Burger</th>\n",
              "      <th>Type Drink</th>\n",
              "      <th>Amount Drink</th>\n",
              "      <th>Gender</th>\n",
              "    </tr>\n",
              "  </thead>\n",
              "  <tbody>\n",
              "    <tr>\n",
              "      <th>0</th>\n",
              "      <td>Beef burger</td>\n",
              "      <td>6</td>\n",
              "      <td>Mineral water</td>\n",
              "      <td>3</td>\n",
              "      <td>1</td>\n",
              "    </tr>\n",
              "    <tr>\n",
              "      <th>1</th>\n",
              "      <td>Cheese burger</td>\n",
              "      <td>12</td>\n",
              "      <td>Coke</td>\n",
              "      <td>10</td>\n",
              "      <td>0</td>\n",
              "    </tr>\n",
              "    <tr>\n",
              "      <th>2</th>\n",
              "      <td>Double cheese burger</td>\n",
              "      <td>10</td>\n",
              "      <td>Mineral water</td>\n",
              "      <td>5</td>\n",
              "      <td>0</td>\n",
              "    </tr>\n",
              "    <tr>\n",
              "      <th>3</th>\n",
              "      <td>Chicken burger</td>\n",
              "      <td>9</td>\n",
              "      <td>Coffe</td>\n",
              "      <td>9</td>\n",
              "      <td>0</td>\n",
              "    </tr>\n",
              "    <tr>\n",
              "      <th>4</th>\n",
              "      <td>Cheese burger</td>\n",
              "      <td>11</td>\n",
              "      <td>Coke</td>\n",
              "      <td>3</td>\n",
              "      <td>1</td>\n",
              "    </tr>\n",
              "    <tr>\n",
              "      <th>5</th>\n",
              "      <td>Double cheese burger</td>\n",
              "      <td>8</td>\n",
              "      <td>Mineral water</td>\n",
              "      <td>4</td>\n",
              "      <td>1</td>\n",
              "    </tr>\n",
              "    <tr>\n",
              "      <th>6</th>\n",
              "      <td>Beef burger</td>\n",
              "      <td>7</td>\n",
              "      <td>Mineral water</td>\n",
              "      <td>7</td>\n",
              "      <td>1</td>\n",
              "    </tr>\n",
              "    <tr>\n",
              "      <th>7</th>\n",
              "      <td>Beef burger</td>\n",
              "      <td>6</td>\n",
              "      <td>Mineral water</td>\n",
              "      <td>3</td>\n",
              "      <td>1</td>\n",
              "    </tr>\n",
              "    <tr>\n",
              "      <th>8</th>\n",
              "      <td>Double cheese burger</td>\n",
              "      <td>5</td>\n",
              "      <td>Coffe</td>\n",
              "      <td>2</td>\n",
              "      <td>0</td>\n",
              "    </tr>\n",
              "    <tr>\n",
              "      <th>9</th>\n",
              "      <td>Chicken burger</td>\n",
              "      <td>9</td>\n",
              "      <td>Coffe</td>\n",
              "      <td>9</td>\n",
              "      <td>0</td>\n",
              "    </tr>\n",
              "    <tr>\n",
              "      <th>10</th>\n",
              "      <td>Cheese burger</td>\n",
              "      <td>11</td>\n",
              "      <td>Coke</td>\n",
              "      <td>3</td>\n",
              "      <td>1</td>\n",
              "    </tr>\n",
              "    <tr>\n",
              "      <th>11</th>\n",
              "      <td>Beef burger</td>\n",
              "      <td>7</td>\n",
              "      <td>Mineral water</td>\n",
              "      <td>7</td>\n",
              "      <td>1</td>\n",
              "    </tr>\n",
              "    <tr>\n",
              "      <th>12</th>\n",
              "      <td>Chicken burger</td>\n",
              "      <td>11</td>\n",
              "      <td>None</td>\n",
              "      <td>0</td>\n",
              "      <td>0</td>\n",
              "    </tr>\n",
              "    <tr>\n",
              "      <th>13</th>\n",
              "      <td>Beef burger</td>\n",
              "      <td>8</td>\n",
              "      <td>Mineral water</td>\n",
              "      <td>10</td>\n",
              "      <td>0</td>\n",
              "    </tr>\n",
              "    <tr>\n",
              "      <th>14</th>\n",
              "      <td>Beef burger</td>\n",
              "      <td>7</td>\n",
              "      <td>Mineral water</td>\n",
              "      <td>5</td>\n",
              "      <td>1</td>\n",
              "    </tr>\n",
              "    <tr>\n",
              "      <th>15</th>\n",
              "      <td>Beef burger</td>\n",
              "      <td>11</td>\n",
              "      <td>Mineral water</td>\n",
              "      <td>9</td>\n",
              "      <td>0</td>\n",
              "    </tr>\n",
              "    <tr>\n",
              "      <th>16</th>\n",
              "      <td>Beef burger</td>\n",
              "      <td>1</td>\n",
              "      <td>Mineral water</td>\n",
              "      <td>1</td>\n",
              "      <td>1</td>\n",
              "    </tr>\n",
              "    <tr>\n",
              "      <th>17</th>\n",
              "      <td>Beef burger</td>\n",
              "      <td>1</td>\n",
              "      <td>Coffe</td>\n",
              "      <td>1</td>\n",
              "      <td>1</td>\n",
              "    </tr>\n",
              "    <tr>\n",
              "      <th>18</th>\n",
              "      <td>Beef burger</td>\n",
              "      <td>1</td>\n",
              "      <td>Coffe</td>\n",
              "      <td>1</td>\n",
              "      <td>1</td>\n",
              "    </tr>\n",
              "    <tr>\n",
              "      <th>19</th>\n",
              "      <td>Chicken burger</td>\n",
              "      <td>3</td>\n",
              "      <td>Coffe</td>\n",
              "      <td>3</td>\n",
              "      <td>0</td>\n",
              "    </tr>\n",
              "    <tr>\n",
              "      <th>20</th>\n",
              "      <td>Cheese burger</td>\n",
              "      <td>9</td>\n",
              "      <td>Coke</td>\n",
              "      <td>9</td>\n",
              "      <td>0</td>\n",
              "    </tr>\n",
              "    <tr>\n",
              "      <th>21</th>\n",
              "      <td>Double cheese burger</td>\n",
              "      <td>3</td>\n",
              "      <td>Mineral water</td>\n",
              "      <td>3</td>\n",
              "      <td>0</td>\n",
              "    </tr>\n",
              "    <tr>\n",
              "      <th>22</th>\n",
              "      <td>Double cheese burger</td>\n",
              "      <td>5</td>\n",
              "      <td>Coffe</td>\n",
              "      <td>5</td>\n",
              "      <td>0</td>\n",
              "    </tr>\n",
              "    <tr>\n",
              "      <th>23</th>\n",
              "      <td>Double cheese burger</td>\n",
              "      <td>5</td>\n",
              "      <td>Mineral water</td>\n",
              "      <td>5</td>\n",
              "      <td>0</td>\n",
              "    </tr>\n",
              "    <tr>\n",
              "      <th>24</th>\n",
              "      <td>Beef burger</td>\n",
              "      <td>1</td>\n",
              "      <td>None</td>\n",
              "      <td>1</td>\n",
              "      <td>0</td>\n",
              "    </tr>\n",
              "    <tr>\n",
              "      <th>25</th>\n",
              "      <td>Chicken burger</td>\n",
              "      <td>7</td>\n",
              "      <td>None</td>\n",
              "      <td>0</td>\n",
              "      <td>1</td>\n",
              "    </tr>\n",
              "    <tr>\n",
              "      <th>26</th>\n",
              "      <td>Cheese burger</td>\n",
              "      <td>12</td>\n",
              "      <td>Coke</td>\n",
              "      <td>10</td>\n",
              "      <td>0</td>\n",
              "    </tr>\n",
              "    <tr>\n",
              "      <th>27</th>\n",
              "      <td>Double cheese burger</td>\n",
              "      <td>8</td>\n",
              "      <td>Mineral water</td>\n",
              "      <td>4</td>\n",
              "      <td>1</td>\n",
              "    </tr>\n",
              "    <tr>\n",
              "      <th>28</th>\n",
              "      <td>Beef burger</td>\n",
              "      <td>7</td>\n",
              "      <td>Mineral water</td>\n",
              "      <td>7</td>\n",
              "      <td>1</td>\n",
              "    </tr>\n",
              "    <tr>\n",
              "      <th>29</th>\n",
              "      <td>Double cheese burger</td>\n",
              "      <td>5</td>\n",
              "      <td>Coffe</td>\n",
              "      <td>2</td>\n",
              "      <td>0</td>\n",
              "    </tr>\n",
              "    <tr>\n",
              "      <th>...</th>\n",
              "      <td>...</td>\n",
              "      <td>...</td>\n",
              "      <td>...</td>\n",
              "      <td>...</td>\n",
              "      <td>...</td>\n",
              "    </tr>\n",
              "    <tr>\n",
              "      <th>282</th>\n",
              "      <td>Beef burger</td>\n",
              "      <td>3</td>\n",
              "      <td>Coke</td>\n",
              "      <td>3</td>\n",
              "      <td>0</td>\n",
              "    </tr>\n",
              "    <tr>\n",
              "      <th>283</th>\n",
              "      <td>Beef burger</td>\n",
              "      <td>6</td>\n",
              "      <td>Mineral water</td>\n",
              "      <td>3</td>\n",
              "      <td>1</td>\n",
              "    </tr>\n",
              "    <tr>\n",
              "      <th>284</th>\n",
              "      <td>Beef burger</td>\n",
              "      <td>6</td>\n",
              "      <td>Mineral water</td>\n",
              "      <td>3</td>\n",
              "      <td>1</td>\n",
              "    </tr>\n",
              "    <tr>\n",
              "      <th>285</th>\n",
              "      <td>Double cheese burger</td>\n",
              "      <td>5</td>\n",
              "      <td>Coffe</td>\n",
              "      <td>2</td>\n",
              "      <td>0</td>\n",
              "    </tr>\n",
              "    <tr>\n",
              "      <th>286</th>\n",
              "      <td>Chicken burger</td>\n",
              "      <td>7</td>\n",
              "      <td>None</td>\n",
              "      <td>0</td>\n",
              "      <td>1</td>\n",
              "    </tr>\n",
              "    <tr>\n",
              "      <th>287</th>\n",
              "      <td>Cheese burger</td>\n",
              "      <td>12</td>\n",
              "      <td>Coke</td>\n",
              "      <td>10</td>\n",
              "      <td>0</td>\n",
              "    </tr>\n",
              "    <tr>\n",
              "      <th>288</th>\n",
              "      <td>Double cheese burger</td>\n",
              "      <td>10</td>\n",
              "      <td>Mineral water</td>\n",
              "      <td>5</td>\n",
              "      <td>0</td>\n",
              "    </tr>\n",
              "    <tr>\n",
              "      <th>289</th>\n",
              "      <td>Chicken burger</td>\n",
              "      <td>9</td>\n",
              "      <td>Coffe</td>\n",
              "      <td>9</td>\n",
              "      <td>0</td>\n",
              "    </tr>\n",
              "    <tr>\n",
              "      <th>290</th>\n",
              "      <td>Cheese burger</td>\n",
              "      <td>11</td>\n",
              "      <td>Coke</td>\n",
              "      <td>3</td>\n",
              "      <td>1</td>\n",
              "    </tr>\n",
              "    <tr>\n",
              "      <th>291</th>\n",
              "      <td>Double cheese burger</td>\n",
              "      <td>8</td>\n",
              "      <td>Mineral water</td>\n",
              "      <td>4</td>\n",
              "      <td>1</td>\n",
              "    </tr>\n",
              "    <tr>\n",
              "      <th>292</th>\n",
              "      <td>Beef burger</td>\n",
              "      <td>7</td>\n",
              "      <td>Mineral water</td>\n",
              "      <td>7</td>\n",
              "      <td>1</td>\n",
              "    </tr>\n",
              "    <tr>\n",
              "      <th>293</th>\n",
              "      <td>Chicken burger</td>\n",
              "      <td>11</td>\n",
              "      <td>None</td>\n",
              "      <td>0</td>\n",
              "      <td>0</td>\n",
              "    </tr>\n",
              "    <tr>\n",
              "      <th>294</th>\n",
              "      <td>Beef burger</td>\n",
              "      <td>6</td>\n",
              "      <td>Mineral water</td>\n",
              "      <td>3</td>\n",
              "      <td>1</td>\n",
              "    </tr>\n",
              "    <tr>\n",
              "      <th>295</th>\n",
              "      <td>Double cheese burger</td>\n",
              "      <td>5</td>\n",
              "      <td>Coffe</td>\n",
              "      <td>2</td>\n",
              "      <td>0</td>\n",
              "    </tr>\n",
              "    <tr>\n",
              "      <th>296</th>\n",
              "      <td>Chicken burger</td>\n",
              "      <td>7</td>\n",
              "      <td>None</td>\n",
              "      <td>0</td>\n",
              "      <td>1</td>\n",
              "    </tr>\n",
              "    <tr>\n",
              "      <th>297</th>\n",
              "      <td>Cheese burger</td>\n",
              "      <td>12</td>\n",
              "      <td>Coke</td>\n",
              "      <td>10</td>\n",
              "      <td>0</td>\n",
              "    </tr>\n",
              "    <tr>\n",
              "      <th>298</th>\n",
              "      <td>Double cheese burger</td>\n",
              "      <td>10</td>\n",
              "      <td>Mineral water</td>\n",
              "      <td>5</td>\n",
              "      <td>0</td>\n",
              "    </tr>\n",
              "    <tr>\n",
              "      <th>299</th>\n",
              "      <td>Chicken burger</td>\n",
              "      <td>9</td>\n",
              "      <td>Coffe</td>\n",
              "      <td>9</td>\n",
              "      <td>0</td>\n",
              "    </tr>\n",
              "    <tr>\n",
              "      <th>300</th>\n",
              "      <td>Cheese burger</td>\n",
              "      <td>11</td>\n",
              "      <td>Coke</td>\n",
              "      <td>3</td>\n",
              "      <td>1</td>\n",
              "    </tr>\n",
              "    <tr>\n",
              "      <th>301</th>\n",
              "      <td>Double cheese burger</td>\n",
              "      <td>8</td>\n",
              "      <td>Mineral water</td>\n",
              "      <td>4</td>\n",
              "      <td>1</td>\n",
              "    </tr>\n",
              "    <tr>\n",
              "      <th>302</th>\n",
              "      <td>Beef burger</td>\n",
              "      <td>7</td>\n",
              "      <td>Mineral water</td>\n",
              "      <td>7</td>\n",
              "      <td>1</td>\n",
              "    </tr>\n",
              "    <tr>\n",
              "      <th>303</th>\n",
              "      <td>Chicken burger</td>\n",
              "      <td>11</td>\n",
              "      <td>None</td>\n",
              "      <td>0</td>\n",
              "      <td>0</td>\n",
              "    </tr>\n",
              "    <tr>\n",
              "      <th>304</th>\n",
              "      <td>Beef burger</td>\n",
              "      <td>10</td>\n",
              "      <td>Mineral water</td>\n",
              "      <td>3</td>\n",
              "      <td>1</td>\n",
              "    </tr>\n",
              "    <tr>\n",
              "      <th>305</th>\n",
              "      <td>Beef burger</td>\n",
              "      <td>9</td>\n",
              "      <td>Coffe</td>\n",
              "      <td>2</td>\n",
              "      <td>1</td>\n",
              "    </tr>\n",
              "    <tr>\n",
              "      <th>306</th>\n",
              "      <td>Beef burger</td>\n",
              "      <td>11</td>\n",
              "      <td>Coke</td>\n",
              "      <td>0</td>\n",
              "      <td>1</td>\n",
              "    </tr>\n",
              "    <tr>\n",
              "      <th>307</th>\n",
              "      <td>Beef burger</td>\n",
              "      <td>8</td>\n",
              "      <td>Mineral water</td>\n",
              "      <td>10</td>\n",
              "      <td>0</td>\n",
              "    </tr>\n",
              "    <tr>\n",
              "      <th>308</th>\n",
              "      <td>Beef burger</td>\n",
              "      <td>7</td>\n",
              "      <td>Mineral water</td>\n",
              "      <td>5</td>\n",
              "      <td>1</td>\n",
              "    </tr>\n",
              "    <tr>\n",
              "      <th>309</th>\n",
              "      <td>Beef burger</td>\n",
              "      <td>11</td>\n",
              "      <td>Mineral water</td>\n",
              "      <td>9</td>\n",
              "      <td>0</td>\n",
              "    </tr>\n",
              "    <tr>\n",
              "      <th>310</th>\n",
              "      <td>Beef burger</td>\n",
              "      <td>2</td>\n",
              "      <td>Coffe</td>\n",
              "      <td>2</td>\n",
              "      <td>0</td>\n",
              "    </tr>\n",
              "    <tr>\n",
              "      <th>311</th>\n",
              "      <td>Beef burger</td>\n",
              "      <td>1</td>\n",
              "      <td>None</td>\n",
              "      <td>1</td>\n",
              "      <td>0</td>\n",
              "    </tr>\n",
              "  </tbody>\n",
              "</table>\n",
              "<p>312 rows × 5 columns</p>\n",
              "</div>"
            ],
            "text/plain": [
              "              Type Burger  Amount Burger     Type Drink  Amount Drink  Gender\n",
              "0             Beef burger              6  Mineral water             3       1\n",
              "1           Cheese burger             12           Coke            10       0\n",
              "2    Double cheese burger             10  Mineral water             5       0\n",
              "3          Chicken burger              9          Coffe             9       0\n",
              "4           Cheese burger             11           Coke             3       1\n",
              "5    Double cheese burger              8  Mineral water             4       1\n",
              "6             Beef burger              7  Mineral water             7       1\n",
              "7             Beef burger              6  Mineral water             3       1\n",
              "8    Double cheese burger              5          Coffe             2       0\n",
              "9          Chicken burger              9          Coffe             9       0\n",
              "10          Cheese burger             11           Coke             3       1\n",
              "11            Beef burger              7  Mineral water             7       1\n",
              "12         Chicken burger             11           None             0       0\n",
              "13            Beef burger              8  Mineral water            10       0\n",
              "14            Beef burger              7  Mineral water             5       1\n",
              "15            Beef burger             11  Mineral water             9       0\n",
              "16            Beef burger              1  Mineral water             1       1\n",
              "17            Beef burger              1          Coffe             1       1\n",
              "18            Beef burger              1          Coffe             1       1\n",
              "19         Chicken burger              3          Coffe             3       0\n",
              "20          Cheese burger              9           Coke             9       0\n",
              "21   Double cheese burger              3  Mineral water             3       0\n",
              "22   Double cheese burger              5          Coffe             5       0\n",
              "23   Double cheese burger              5  Mineral water             5       0\n",
              "24            Beef burger              1           None             1       0\n",
              "25         Chicken burger              7           None             0       1\n",
              "26          Cheese burger             12           Coke            10       0\n",
              "27   Double cheese burger              8  Mineral water             4       1\n",
              "28            Beef burger              7  Mineral water             7       1\n",
              "29   Double cheese burger              5          Coffe             2       0\n",
              "..                    ...            ...            ...           ...     ...\n",
              "282           Beef burger              3           Coke             3       0\n",
              "283           Beef burger              6  Mineral water             3       1\n",
              "284           Beef burger              6  Mineral water             3       1\n",
              "285  Double cheese burger              5          Coffe             2       0\n",
              "286        Chicken burger              7           None             0       1\n",
              "287         Cheese burger             12           Coke            10       0\n",
              "288  Double cheese burger             10  Mineral water             5       0\n",
              "289        Chicken burger              9          Coffe             9       0\n",
              "290         Cheese burger             11           Coke             3       1\n",
              "291  Double cheese burger              8  Mineral water             4       1\n",
              "292           Beef burger              7  Mineral water             7       1\n",
              "293        Chicken burger             11           None             0       0\n",
              "294           Beef burger              6  Mineral water             3       1\n",
              "295  Double cheese burger              5          Coffe             2       0\n",
              "296        Chicken burger              7           None             0       1\n",
              "297         Cheese burger             12           Coke            10       0\n",
              "298  Double cheese burger             10  Mineral water             5       0\n",
              "299        Chicken burger              9          Coffe             9       0\n",
              "300         Cheese burger             11           Coke             3       1\n",
              "301  Double cheese burger              8  Mineral water             4       1\n",
              "302           Beef burger              7  Mineral water             7       1\n",
              "303        Chicken burger             11           None             0       0\n",
              "304           Beef burger             10  Mineral water             3       1\n",
              "305           Beef burger              9          Coffe             2       1\n",
              "306           Beef burger             11           Coke             0       1\n",
              "307           Beef burger              8  Mineral water            10       0\n",
              "308           Beef burger              7  Mineral water             5       1\n",
              "309           Beef burger             11  Mineral water             9       0\n",
              "310           Beef burger              2          Coffe             2       0\n",
              "311           Beef burger              1           None             1       0\n",
              "\n",
              "[312 rows x 5 columns]"
            ]
          },
          "metadata": {
            "tags": []
          },
          "execution_count": 13
        }
      ]
    },
    {
      "cell_type": "code",
      "metadata": {
        "id": "BALeP3EUuH6v",
        "colab_type": "code",
        "outputId": "b52bbb8e-d0e8-4cd4-c414-9d6650056ee3",
        "colab": {
          "base_uri": "https://localhost:8080/",
          "height": 178
        }
      },
      "source": [
        "data.info()"
      ],
      "execution_count": 0,
      "outputs": [
        {
          "output_type": "stream",
          "text": [
            "<class 'pandas.core.frame.DataFrame'>\n",
            "RangeIndex: 312 entries, 0 to 311\n",
            "Data columns (total 5 columns):\n",
            "Type Burger      312 non-null object\n",
            "Amount Burger    312 non-null int64\n",
            "Type Drink       312 non-null object\n",
            "Amount Drink     312 non-null int64\n",
            "Gender           312 non-null int64\n",
            "dtypes: int64(3), object(2)\n",
            "memory usage: 12.3+ KB\n"
          ],
          "name": "stdout"
        }
      ]
    },
    {
      "cell_type": "code",
      "metadata": {
        "id": "3OiFozavuDti",
        "colab_type": "code",
        "outputId": "dbf590e4-65cf-4a5a-b288-d1925e612cb1",
        "colab": {
          "base_uri": "https://localhost:8080/",
          "height": 188
        }
      },
      "source": [
        "x=pd.get_dummies(data)\n",
        "x.head()\n",
        "#rest=resto.drop(columns=['Timestamp'])"
      ],
      "execution_count": 0,
      "outputs": [
        {
          "output_type": "execute_result",
          "data": {
            "text/html": [
              "<div>\n",
              "<style scoped>\n",
              "    .dataframe tbody tr th:only-of-type {\n",
              "        vertical-align: middle;\n",
              "    }\n",
              "\n",
              "    .dataframe tbody tr th {\n",
              "        vertical-align: top;\n",
              "    }\n",
              "\n",
              "    .dataframe thead th {\n",
              "        text-align: right;\n",
              "    }\n",
              "</style>\n",
              "<table border=\"1\" class=\"dataframe\">\n",
              "  <thead>\n",
              "    <tr style=\"text-align: right;\">\n",
              "      <th></th>\n",
              "      <th>Amount Burger</th>\n",
              "      <th>Amount Drink</th>\n",
              "      <th>Gender</th>\n",
              "      <th>Type Burger_Beef burger</th>\n",
              "      <th>Type Burger_Cheese burger</th>\n",
              "      <th>Type Burger_Chicken burger</th>\n",
              "      <th>Type Burger_Double cheese burger</th>\n",
              "      <th>Type Drink_Coffe</th>\n",
              "      <th>Type Drink_Coke</th>\n",
              "      <th>Type Drink_Mineral water</th>\n",
              "      <th>Type Drink_None</th>\n",
              "    </tr>\n",
              "  </thead>\n",
              "  <tbody>\n",
              "    <tr>\n",
              "      <th>0</th>\n",
              "      <td>6</td>\n",
              "      <td>3</td>\n",
              "      <td>1</td>\n",
              "      <td>1</td>\n",
              "      <td>0</td>\n",
              "      <td>0</td>\n",
              "      <td>0</td>\n",
              "      <td>0</td>\n",
              "      <td>0</td>\n",
              "      <td>1</td>\n",
              "      <td>0</td>\n",
              "    </tr>\n",
              "    <tr>\n",
              "      <th>1</th>\n",
              "      <td>12</td>\n",
              "      <td>10</td>\n",
              "      <td>0</td>\n",
              "      <td>0</td>\n",
              "      <td>1</td>\n",
              "      <td>0</td>\n",
              "      <td>0</td>\n",
              "      <td>0</td>\n",
              "      <td>1</td>\n",
              "      <td>0</td>\n",
              "      <td>0</td>\n",
              "    </tr>\n",
              "    <tr>\n",
              "      <th>2</th>\n",
              "      <td>10</td>\n",
              "      <td>5</td>\n",
              "      <td>0</td>\n",
              "      <td>0</td>\n",
              "      <td>0</td>\n",
              "      <td>0</td>\n",
              "      <td>1</td>\n",
              "      <td>0</td>\n",
              "      <td>0</td>\n",
              "      <td>1</td>\n",
              "      <td>0</td>\n",
              "    </tr>\n",
              "    <tr>\n",
              "      <th>3</th>\n",
              "      <td>9</td>\n",
              "      <td>9</td>\n",
              "      <td>0</td>\n",
              "      <td>0</td>\n",
              "      <td>0</td>\n",
              "      <td>1</td>\n",
              "      <td>0</td>\n",
              "      <td>1</td>\n",
              "      <td>0</td>\n",
              "      <td>0</td>\n",
              "      <td>0</td>\n",
              "    </tr>\n",
              "    <tr>\n",
              "      <th>4</th>\n",
              "      <td>11</td>\n",
              "      <td>3</td>\n",
              "      <td>1</td>\n",
              "      <td>0</td>\n",
              "      <td>1</td>\n",
              "      <td>0</td>\n",
              "      <td>0</td>\n",
              "      <td>0</td>\n",
              "      <td>1</td>\n",
              "      <td>0</td>\n",
              "      <td>0</td>\n",
              "    </tr>\n",
              "  </tbody>\n",
              "</table>\n",
              "</div>"
            ],
            "text/plain": [
              "   Amount Burger  Amount Drink  ...  Type Drink_Mineral water  Type Drink_None\n",
              "0              6             3  ...                         1                0\n",
              "1             12            10  ...                         0                0\n",
              "2             10             5  ...                         1                0\n",
              "3              9             9  ...                         0                0\n",
              "4             11             3  ...                         0                0\n",
              "\n",
              "[5 rows x 11 columns]"
            ]
          },
          "metadata": {
            "tags": []
          },
          "execution_count": 15
        }
      ]
    },
    {
      "cell_type": "code",
      "metadata": {
        "id": "wioPi6NluNxp",
        "colab_type": "code",
        "outputId": "97ab7fb3-f9cd-42c0-e1ff-0f87155c54fb",
        "colab": {
          "base_uri": "https://localhost:8080/",
          "height": 274
        }
      },
      "source": [
        "x.info()"
      ],
      "execution_count": 0,
      "outputs": [
        {
          "output_type": "stream",
          "text": [
            "<class 'pandas.core.frame.DataFrame'>\n",
            "RangeIndex: 312 entries, 0 to 311\n",
            "Data columns (total 11 columns):\n",
            "Amount Burger                       312 non-null int64\n",
            "Amount Drink                        312 non-null int64\n",
            "Gender                              312 non-null int64\n",
            "Type Burger_Beef burger             312 non-null uint8\n",
            "Type Burger_Cheese burger           312 non-null uint8\n",
            "Type Burger_Chicken burger          312 non-null uint8\n",
            "Type Burger_Double cheese burger    312 non-null uint8\n",
            "Type Drink_Coffe                    312 non-null uint8\n",
            "Type Drink_Coke                     312 non-null uint8\n",
            "Type Drink_Mineral water            312 non-null uint8\n",
            "Type Drink_None                     312 non-null uint8\n",
            "dtypes: int64(3), uint8(8)\n",
            "memory usage: 9.8 KB\n"
          ],
          "name": "stdout"
        }
      ]
    },
    {
      "cell_type": "code",
      "metadata": {
        "id": "0fPvoW1Zsr0-",
        "colab_type": "code",
        "outputId": "8cc486a3-5689-4c2a-8232-dd5158bcc041",
        "colab": {
          "base_uri": "https://localhost:8080/",
          "height": 114
        }
      },
      "source": [
        "y = rest[\"Payment\"]\n",
        "y[0:5]"
      ],
      "execution_count": 0,
      "outputs": [
        {
          "output_type": "execute_result",
          "data": {
            "text/plain": [
              "0        DANA\n",
              "1        DANA\n",
              "2    LINK AJA\n",
              "3        DANA\n",
              "4        DANA\n",
              "Name: Payment, dtype: object"
            ]
          },
          "metadata": {
            "tags": []
          },
          "execution_count": 17
        }
      ]
    },
    {
      "cell_type": "code",
      "metadata": {
        "id": "9q6VqO_Jst8D",
        "colab_type": "code",
        "colab": {}
      },
      "source": [
        "from sklearn.model_selection import train_test_split"
      ],
      "execution_count": 0,
      "outputs": []
    },
    {
      "cell_type": "code",
      "metadata": {
        "id": "ONv7ikYBsvxd",
        "colab_type": "code",
        "colab": {}
      },
      "source": [
        "x_trainset, x_testset, y_trainset, y_testset = train_test_split(x, y, test_size=0.3, random_state=3)"
      ],
      "execution_count": 0,
      "outputs": []
    },
    {
      "cell_type": "code",
      "metadata": {
        "id": "3VUilc2GsxVB",
        "colab_type": "code",
        "outputId": "dba46b57-c1e2-4e90-db9f-11bbf7c85ad6",
        "colab": {
          "base_uri": "https://localhost:8080/",
          "height": 114
        }
      },
      "source": [
        "RestoTree = DecisionTreeClassifier(criterion=\"gini\", max_depth = 10)\n",
        "RestoTree # it shows the default parameters"
      ],
      "execution_count": 0,
      "outputs": [
        {
          "output_type": "execute_result",
          "data": {
            "text/plain": [
              "DecisionTreeClassifier(class_weight=None, criterion='gini', max_depth=10,\n",
              "                       max_features=None, max_leaf_nodes=None,\n",
              "                       min_impurity_decrease=0.0, min_impurity_split=None,\n",
              "                       min_samples_leaf=1, min_samples_split=2,\n",
              "                       min_weight_fraction_leaf=0.0, presort=False,\n",
              "                       random_state=None, splitter='best')"
            ]
          },
          "metadata": {
            "tags": []
          },
          "execution_count": 20
        }
      ]
    },
    {
      "cell_type": "code",
      "metadata": {
        "id": "cXytr_Mqs2Yt",
        "colab_type": "code",
        "outputId": "31b470e7-ab5e-4f80-f40c-c0c45e118bf9",
        "colab": {
          "base_uri": "https://localhost:8080/",
          "height": 114
        }
      },
      "source": [
        "RestoTree.fit(x_trainset,y_trainset)"
      ],
      "execution_count": 0,
      "outputs": [
        {
          "output_type": "execute_result",
          "data": {
            "text/plain": [
              "DecisionTreeClassifier(class_weight=None, criterion='gini', max_depth=10,\n",
              "                       max_features=None, max_leaf_nodes=None,\n",
              "                       min_impurity_decrease=0.0, min_impurity_split=None,\n",
              "                       min_samples_leaf=1, min_samples_split=2,\n",
              "                       min_weight_fraction_leaf=0.0, presort=False,\n",
              "                       random_state=None, splitter='best')"
            ]
          },
          "metadata": {
            "tags": []
          },
          "execution_count": 21
        }
      ]
    },
    {
      "cell_type": "code",
      "metadata": {
        "id": "AoaItq_Es6E3",
        "colab_type": "code",
        "colab": {}
      },
      "source": [
        "predTree = RestoTree.predict(x_testset)"
      ],
      "execution_count": 0,
      "outputs": []
    },
    {
      "cell_type": "code",
      "metadata": {
        "id": "uRFES5nPs_Lp",
        "colab_type": "code",
        "outputId": "e1796040-e8c0-47c8-dfe9-c7b6282f982d",
        "colab": {
          "base_uri": "https://localhost:8080/",
          "height": 130
        }
      },
      "source": [
        "print (predTree [0:5])\n",
        "print (y_testset [0:5])"
      ],
      "execution_count": 0,
      "outputs": [
        {
          "output_type": "stream",
          "text": [
            "['DANA' 'LINK AJA' 'GOPAY' 'LINK AJA' 'LINK AJA']\n",
            "196    TUNAI\n",
            "245    TUNAI\n",
            "214      OVO\n",
            "238      OVO\n",
            "105    GOPAY\n",
            "Name: Payment, dtype: object\n"
          ],
          "name": "stdout"
        }
      ]
    },
    {
      "cell_type": "code",
      "metadata": {
        "id": "uYG2bRWitBCx",
        "colab_type": "code",
        "outputId": "b344f089-4034-4006-db89-1bae4279f59a",
        "colab": {
          "base_uri": "https://localhost:8080/",
          "height": 34
        }
      },
      "source": [
        "from sklearn import metrics\n",
        "import matplotlib.pyplot as plt\n",
        "print(\"DecisionTrees's Accuracy: \", metrics.accuracy_score(y_testset, predTree))"
      ],
      "execution_count": 0,
      "outputs": [
        {
          "output_type": "stream",
          "text": [
            "DecisionTrees's Accuracy:  0.22340425531914893\n"
          ],
          "name": "stdout"
        }
      ]
    },
    {
      "cell_type": "code",
      "metadata": {
        "id": "-b0u75W5tCub",
        "colab_type": "code",
        "outputId": "af934811-6a58-4c3b-dfb2-9533e4d508c0",
        "colab": {
          "base_uri": "https://localhost:8080/",
          "height": 50
        }
      },
      "source": [
        "!apt-get -qq install -y graphviz && pip install -q pydotplus\n",
        "from sklearn.externals.six import StringIO\n",
        "import pydotplus\n",
        "import matplotlib.image as mpimg\n",
        "from sklearn import tree\n",
        "%matplotlib inline "
      ],
      "execution_count": 0,
      "outputs": [
        {
          "output_type": "stream",
          "text": [
            "/usr/local/lib/python3.6/dist-packages/sklearn/externals/six.py:31: DeprecationWarning: The module is deprecated in version 0.21 and will be removed in version 0.23 since we've dropped support for Python 2.7. Please rely on the official version of six (https://pypi.org/project/six/).\n",
            "  \"(https://pypi.org/project/six/).\", DeprecationWarning)\n"
          ],
          "name": "stderr"
        }
      ]
    },
    {
      "cell_type": "code",
      "metadata": {
        "id": "STc8g6DKtE9V",
        "colab_type": "code",
        "colab": {}
      },
      "source": [
        "dot_data = StringIO()\n",
        "filename = \"restotree.png\"\n",
        "featureNames = resto.columns\n",
        "targetNames = resto['Payment'].unique().tolist()"
      ],
      "execution_count": 0,
      "outputs": []
    },
    {
      "cell_type": "code",
      "metadata": {
        "id": "RJ0af7yOxixq",
        "colab_type": "code",
        "colab": {}
      },
      "source": [
        "clf = tree.DecisionTreeClassifier()\n",
        "clf = clf.fit(x, y)"
      ],
      "execution_count": 0,
      "outputs": []
    },
    {
      "cell_type": "code",
      "metadata": {
        "id": "BXeGWsZFtMf1",
        "colab_type": "code",
        "outputId": "cc766e9d-83e0-41e6-84f1-7a80ecef6784",
        "colab": {
          "base_uri": "https://localhost:8080/",
          "height": 1000
        }
      },
      "source": [
        "tree.plot_tree(clf.fit(x, y)) "
      ],
      "execution_count": 0,
      "outputs": [
        {
          "output_type": "execute_result",
          "data": {
            "text/plain": [
              "[Text(152.03094827586207, 208.38, 'X[0] <= 1.5\\ngini = 0.799\\nsamples = 312\\nvalue = [64, 65, 67, 52, 64]'),\n",
              " Text(65.8055172413793, 190.26, 'X[7] <= 0.5\\ngini = 0.734\\nsamples = 41\\nvalue = [6, 5, 11, 3, 16]'),\n",
              " Text(42.715862068965514, 172.14, 'X[2] <= 0.5\\ngini = 0.71\\nsamples = 20\\nvalue = [0, 3, 7, 3, 7]'),\n",
              " Text(24.24413793103448, 154.01999999999998, 'X[9] <= 0.5\\ngini = 0.615\\nsamples = 13\\nvalue = [0, 0, 5, 2, 6]'),\n",
              " Text(15.008275862068965, 135.89999999999998, 'gini = 0.628\\nsamples = 11\\nvalue = [0, 0, 4, 2, 5]'),\n",
              " Text(33.48, 135.89999999999998, 'gini = 0.5\\nsamples = 2\\nvalue = [0, 0, 1, 0, 1]'),\n",
              " Text(61.18758620689655, 154.01999999999998, 'X[1] <= 1.5\\ngini = 0.694\\nsamples = 7\\nvalue = [0, 3, 2, 1, 1]'),\n",
              " Text(51.95172413793103, 135.89999999999998, 'gini = 0.667\\nsamples = 6\\nvalue = [0, 3, 1, 1, 1]'),\n",
              " Text(70.42344827586207, 135.89999999999998, 'gini = 0.0\\nsamples = 1\\nvalue = [0, 0, 1, 0, 0]'),\n",
              " Text(88.8951724137931, 172.14, 'X[2] <= 0.5\\ngini = 0.689\\nsamples = 21\\nvalue = [6, 2, 4, 0, 9]'),\n",
              " Text(79.65931034482759, 154.01999999999998, 'gini = 0.0\\nsamples = 1\\nvalue = [0, 1, 0, 0, 0]'),\n",
              " Text(98.13103448275862, 154.01999999999998, 'gini = 0.665\\nsamples = 20\\nvalue = [6, 1, 4, 0, 9]'),\n",
              " Text(238.2563793103448, 190.26, 'X[0] <= 10.5\\ngini = 0.798\\nsamples = 271\\nvalue = [58, 60, 56, 49, 48]'),\n",
              " Text(178.6562068965517, 172.14, 'X[7] <= 0.5\\ngini = 0.795\\nsamples = 221\\nvalue = [40, 56, 47, 40, 38]'),\n",
              " Text(128.72482758620689, 154.01999999999998, 'X[1] <= 8.0\\ngini = 0.786\\nsamples = 154\\nvalue = [25, 45, 32, 31, 21]'),\n",
              " Text(88.8951724137931, 135.89999999999998, 'X[0] <= 4.0\\ngini = 0.783\\nsamples = 142\\nvalue = [23, 44, 29, 26, 20]'),\n",
              " Text(36.94344827586207, 117.77999999999999, 'X[3] <= 0.5\\ngini = 0.768\\nsamples = 33\\nvalue = [4, 8, 8, 10, 3]'),\n",
              " Text(18.471724137931034, 99.66, 'X[8] <= 0.5\\ngini = 0.776\\nsamples = 19\\nvalue = [3, 6, 4, 4, 2]'),\n",
              " Text(9.235862068965517, 81.53999999999999, 'gini = 0.719\\nsamples = 8\\nvalue = [1, 3, 2, 2, 0]'),\n",
              " Text(27.70758620689655, 81.53999999999999, 'gini = 0.793\\nsamples = 11\\nvalue = [2, 3, 2, 2, 2]'),\n",
              " Text(55.4151724137931, 99.66, 'X[2] <= 0.5\\ngini = 0.704\\nsamples = 14\\nvalue = [1, 2, 4, 6, 1]'),\n",
              " Text(46.179310344827584, 81.53999999999999, 'X[1] <= 2.5\\ngini = 0.7\\nsamples = 10\\nvalue = [0, 2, 3, 4, 1]'),\n",
              " Text(36.94344827586207, 63.41999999999999, 'gini = 0.0\\nsamples = 1\\nvalue = [0, 1, 0, 0, 0]'),\n",
              " Text(55.4151724137931, 63.41999999999999, 'gini = 0.667\\nsamples = 9\\nvalue = [0, 1, 3, 4, 1]'),\n",
              " Text(64.65103448275862, 81.53999999999999, 'gini = 0.625\\nsamples = 4\\nvalue = [1, 0, 1, 2, 0]'),\n",
              " Text(140.84689655172414, 117.77999999999999, 'X[0] <= 9.0\\ngini = 0.778\\nsamples = 109\\nvalue = [19, 36, 21, 16, 17]'),\n",
              " Text(115.44827586206895, 99.66, 'X[6] <= 0.5\\ngini = 0.776\\nsamples = 89\\nvalue = [15, 29, 19, 11, 15]'),\n",
              " Text(92.35862068965517, 81.53999999999999, 'X[0] <= 5.5\\ngini = 0.769\\nsamples = 68\\nvalue = [10, 24, 13, 9, 12]'),\n",
              " Text(73.88689655172413, 63.41999999999999, 'X[5] <= 0.5\\ngini = 0.724\\nsamples = 14\\nvalue = [2, 6, 1, 2, 3]'),\n",
              " Text(64.65103448275862, 45.29999999999998, 'gini = 0.735\\nsamples = 7\\nvalue = [1, 3, 1, 1, 1]'),\n",
              " Text(83.12275862068965, 45.29999999999998, 'gini = 0.694\\nsamples = 7\\nvalue = [1, 3, 0, 1, 2]'),\n",
              " Text(110.8303448275862, 63.41999999999999, 'X[0] <= 6.5\\ngini = 0.773\\nsamples = 54\\nvalue = [8, 18, 12, 7, 9]'),\n",
              " Text(101.59448275862069, 45.29999999999998, 'gini = 0.78\\nsamples = 20\\nvalue = [4, 6, 4, 2, 4]'),\n",
              " Text(120.06620689655172, 45.29999999999998, 'X[5] <= 0.5\\ngini = 0.763\\nsamples = 34\\nvalue = [4, 12, 8, 5, 5]'),\n",
              " Text(110.8303448275862, 27.17999999999998, 'X[1] <= 6.0\\ngini = 0.772\\nsamples = 18\\nvalue = [2, 6, 4, 3, 3]'),\n",
              " Text(101.59448275862069, 9.059999999999974, 'gini = 0.75\\nsamples = 4\\nvalue = [0, 1, 1, 1, 1]'),\n",
              " Text(120.06620689655172, 9.059999999999974, 'gini = 0.765\\nsamples = 14\\nvalue = [2, 5, 3, 2, 2]'),\n",
              " Text(129.30206896551724, 27.17999999999998, 'gini = 0.75\\nsamples = 16\\nvalue = [2, 6, 4, 2, 2]'),\n",
              " Text(138.53793103448277, 81.53999999999999, 'X[2] <= 0.5\\ngini = 0.776\\nsamples = 21\\nvalue = [5, 5, 6, 2, 3]'),\n",
              " Text(129.30206896551724, 63.41999999999999, 'gini = 0.719\\nsamples = 8\\nvalue = [2, 1, 3, 0, 2]'),\n",
              " Text(147.77379310344827, 63.41999999999999, 'gini = 0.769\\nsamples = 13\\nvalue = [3, 4, 3, 2, 1]'),\n",
              " Text(166.2455172413793, 99.66, 'X[3] <= 0.5\\ngini = 0.755\\nsamples = 20\\nvalue = [4, 7, 2, 5, 2]'),\n",
              " Text(157.00965517241377, 81.53999999999999, 'gini = 0.758\\nsamples = 16\\nvalue = [3, 6, 2, 3, 2]'),\n",
              " Text(175.48137931034483, 81.53999999999999, 'gini = 0.625\\nsamples = 4\\nvalue = [1, 1, 0, 2, 0]'),\n",
              " Text(168.55448275862068, 135.89999999999998, 'X[4] <= 0.5\\ngini = 0.722\\nsamples = 12\\nvalue = [2, 1, 3, 5, 1]'),\n",
              " Text(159.31862068965518, 117.77999999999999, 'gini = 0.75\\nsamples = 4\\nvalue = [1, 1, 0, 1, 1]'),\n",
              " Text(177.7903448275862, 117.77999999999999, 'gini = 0.594\\nsamples = 8\\nvalue = [1, 0, 3, 4, 0]'),\n",
              " Text(228.58758620689653, 154.01999999999998, 'X[0] <= 4.0\\ngini = 0.79\\nsamples = 67\\nvalue = [15, 11, 15, 9, 17]'),\n",
              " Text(205.49793103448275, 135.89999999999998, 'X[0] <= 2.5\\ngini = 0.727\\nsamples = 22\\nvalue = [9, 5, 3, 1, 4]'),\n",
              " Text(196.26206896551724, 117.77999999999999, 'gini = 0.444\\nsamples = 3\\nvalue = [2, 1, 0, 0, 0]'),\n",
              " Text(214.73379310344828, 117.77999999999999, 'gini = 0.748\\nsamples = 19\\nvalue = [7, 4, 3, 1, 4]'),\n",
              " Text(251.67724137931035, 135.89999999999998, 'X[1] <= 3.5\\ngini = 0.778\\nsamples = 45\\nvalue = [6, 6, 12, 8, 13]'),\n",
              " Text(233.2055172413793, 117.77999999999999, 'X[2] <= 0.5\\ngini = 0.75\\nsamples = 20\\nvalue = [4, 1, 5, 3, 7]'),\n",
              " Text(223.96965517241378, 99.66, 'gini = 0.742\\nsamples = 16\\nvalue = [3, 1, 4, 2, 6]'),\n",
              " Text(242.44137931034481, 99.66, 'gini = 0.75\\nsamples = 4\\nvalue = [1, 0, 1, 1, 1]'),\n",
              " Text(270.1489655172414, 117.77999999999999, 'X[1] <= 7.0\\ngini = 0.778\\nsamples = 25\\nvalue = [2, 5, 7, 5, 6]'),\n",
              " Text(260.9131034482759, 99.66, 'gini = 0.781\\nsamples = 8\\nvalue = [1, 1, 2, 2, 2]'),\n",
              " Text(279.3848275862069, 99.66, 'gini = 0.768\\nsamples = 17\\nvalue = [1, 4, 5, 3, 4]'),\n",
              " Text(297.85655172413794, 172.14, 'X[1] <= 1.5\\ngini = 0.759\\nsamples = 50\\nvalue = [18, 4, 9, 9, 10]'),\n",
              " Text(279.3848275862069, 154.01999999999998, 'X[5] <= 0.5\\ngini = 0.758\\nsamples = 16\\nvalue = [4, 2, 4, 1, 5]'),\n",
              " Text(270.1489655172414, 135.89999999999998, 'gini = 0.625\\nsamples = 4\\nvalue = [0, 1, 1, 0, 2]'),\n",
              " Text(288.6206896551724, 135.89999999999998, 'gini = 0.75\\nsamples = 12\\nvalue = [4, 1, 3, 1, 3]'),\n",
              " Text(316.32827586206895, 154.01999999999998, 'X[2] <= 0.5\\ngini = 0.728\\nsamples = 34\\nvalue = [14, 2, 5, 8, 5]'),\n",
              " Text(307.09241379310345, 135.89999999999998, 'X[3] <= 0.5\\ngini = 0.771\\nsamples = 21\\nvalue = [6, 2, 4, 6, 3]'),\n",
              " Text(297.85655172413794, 117.77999999999999, 'gini = 0.775\\nsamples = 17\\nvalue = [5, 2, 4, 4, 2]'),\n",
              " Text(316.32827586206895, 117.77999999999999, 'gini = 0.625\\nsamples = 4\\nvalue = [1, 0, 0, 2, 1]'),\n",
              " Text(325.56413793103445, 135.89999999999998, 'gini = 0.568\\nsamples = 13\\nvalue = [8, 0, 1, 2, 2]')]"
            ]
          },
          "metadata": {
            "tags": []
          },
          "execution_count": 29
        },
        {
          "output_type": "display_data",
          "data": {
            "image/png": "[encoded data removed]",
            "text/plain": [
              "<Figure size 432x288 with 1 Axes>"
            ]
          },
          "metadata": {
            "tags": []
          }
        }
      ]
    },
    {
      "cell_type": "code",
      "metadata": {
        "id": "a4fc3Zl9yoPI",
        "colab_type": "code",
        "outputId": "1b046fe3-98b1-45a7-ace0-c7b1e5ad9a79",
        "colab": {
          "base_uri": "https://localhost:8080/",
          "height": 34
        }
      },
      "source": [
        "import graphviz\n",
        "dot_data = tree.export_graphviz(clf, out_file=None) \n",
        "graph = graphviz.Source(dot_data) \n",
        "graph.render(\"resto\") "
      ],
      "execution_count": 0,
      "outputs": [
        {
          "output_type": "execute_result",
          "data": {
            "text/plain": [
              "'resto.pdf'"
            ]
          },
          "metadata": {
            "tags": []
          },
          "execution_count": 30
        }
      ]
    },
    {
      "cell_type": "code",
      "metadata": {
        "id": "entcE_0I5cC-",
        "colab_type": "code",
        "colab": {}
      },
      "source": [
        "LINK AJA    67\n",
        "GOPAY       65\n",
        "DANA        64\n",
        "TUNAI       64\n",
        "OVO         52"
      ],
      "execution_count": 0,
      "outputs": []
    },
    {
      "cell_type": "code",
      "metadata": {
        "id": "INlZhBgwzOud",
        "colab_type": "code",
        "outputId": "ebd4e3f7-9c63-4692-bb37-ee2c90b6f887",
        "colab": {
          "base_uri": "https://localhost:8080/",
          "height": 1000
        }
      },
      "source": [
        "plt.figure(figsize=(5,5))\n",
        "dot_data = tree.export_graphviz(clf, out_file=None, \n",
        "                                feature_names=x.columns,  \n",
        "                                class_names=['LINK AJA','GOPAY','DANA', 'TUNAI','OVO'],  \n",
        "                                filled=True, rounded=True,  \n",
        "                                special_characters=True)  \n",
        "graph = graphviz.Source(dot_data)\n",
        "graph"
      ],
      "execution_count": 0,
      "outputs": [
        {
          "output_type": "execute_result",
          "data": {
            "text/plain": [
              "<graphviz.files.Source at 0x7f3eccba7c18>"
            ],
            "image/svg+xml": "<?xml version=\"1.0\" encoding=\"UTF-8\" standalone=\"no\"?>\n<!DOCTYPE svg PUBLIC \"-//W3C//DTD SVG 1.1//EN\"\n \"http://www.w3.org/Graphics/SVG/1.1/DTD/svg11.dtd\">\n<!-- Generated by graphviz version 2.40.1 (20161225.0304)\n -->\n<!-- Title: Tree Pages: 1 -->\n<svg width=\"2456pt\" height=\"1385pt\"\n viewBox=\"0.00 0.00 2456.00 1385.00\" xmlns=\"http://www.w3.org/2000/svg\" xmlns:xlink=\"http://www.w3.org/1999/xlink\">\n<g id=\"graph0\" class=\"graph\" transform=\"scale(1 1) rotate(0) translate(4 1381)\">\n<title>Tree</title>\n<polygon fill=\"#ffffff\" stroke=\"transparent\" points=\"-4,4 -4,-1381 2452,-1381 2452,4 -4,4\"/>\n<!-- 0 -->\n<g id=\"node1\" class=\"node\">\n<title>0</title>\n<path fill=\"#fdffff\" stroke=\"#000000\" d=\"M1099,-1377C1099,-1377 935,-1377 935,-1377 929,-1377 923,-1371 923,-1365 923,-1365 923,-1306 923,-1306 923,-1300 929,-1294 935,-1294 935,-1294 1099,-1294 1099,-1294 1105,-1294 1111,-1300 1111,-1306 1111,-1306 1111,-1365 1111,-1365 1111,-1371 1105,-1377 1099,-1377\"/>\n<text text-anchor=\"start\" x=\"950.5\" y=\"-1361.8\" font-family=\"Helvetica,sans-Serif\" font-size=\"14.00\" fill=\"#000000\">Amount Burger ≤ 1.5</text>\n<text text-anchor=\"start\" x=\"979\" y=\"-1346.8\" font-family=\"Helvetica,sans-Serif\" font-size=\"14.00\" fill=\"#000000\">gini = 0.799</text>\n<text text-anchor=\"start\" x=\"969\" y=\"-1331.8\" font-family=\"Helvetica,sans-Serif\" font-size=\"14.00\" fill=\"#000000\">samples = 312</text>\n<text text-anchor=\"start\" x=\"931\" y=\"-1316.8\" font-family=\"Helvetica,sans-Serif\" font-size=\"14.00\" fill=\"#000000\">value = [64, 65, 67, 52, 64]</text>\n<text text-anchor=\"start\" x=\"971.5\" y=\"-1301.8\" font-family=\"Helvetica,sans-Serif\" font-size=\"14.00\" fill=\"#000000\">class = DANA</text>\n</g>\n<!-- 1 -->\n<g id=\"node2\" class=\"node\">\n<title>1</title>\n<path fill=\"#fbdef4\" stroke=\"#000000\" d=\"M913,-1258C913,-1258 773,-1258 773,-1258 767,-1258 761,-1252 761,-1246 761,-1246 761,-1187 761,-1187 761,-1181 767,-1175 773,-1175 773,-1175 913,-1175 913,-1175 919,-1175 925,-1181 925,-1187 925,-1187 925,-1246 925,-1246 925,-1252 919,-1258 913,-1258\"/>\n<text text-anchor=\"start\" x=\"769\" y=\"-1242.8\" font-family=\"Helvetica,sans-Serif\" font-size=\"14.00\" fill=\"#000000\">Type Drink_Coffe ≤ 0.5</text>\n<text text-anchor=\"start\" x=\"805\" y=\"-1227.8\" font-family=\"Helvetica,sans-Serif\" font-size=\"14.00\" fill=\"#000000\">gini = 0.734</text>\n<text text-anchor=\"start\" x=\"799\" y=\"-1212.8\" font-family=\"Helvetica,sans-Serif\" font-size=\"14.00\" fill=\"#000000\">samples = 41</text>\n<text text-anchor=\"start\" x=\"769.5\" y=\"-1197.8\" font-family=\"Helvetica,sans-Serif\" font-size=\"14.00\" fill=\"#000000\">value = [6, 5, 11, 3, 16]</text>\n<text text-anchor=\"start\" x=\"802\" y=\"-1182.8\" font-family=\"Helvetica,sans-Serif\" font-size=\"14.00\" fill=\"#000000\">class = OVO</text>\n</g>\n<!-- 0&#45;&gt;1 -->\n<g id=\"edge1\" class=\"edge\">\n<title>0&#45;&gt;1</title>\n<path fill=\"none\" stroke=\"#000000\" d=\"M956.1432,-1293.8796C941.9706,-1284.1868 926.7775,-1273.7961 912.2712,-1263.8752\"/>\n<polygon fill=\"#000000\" stroke=\"#000000\" points=\"914.0525,-1260.8531 903.8224,-1258.0969 910.1008,-1266.6311 914.0525,-1260.8531\"/>\n<text text-anchor=\"middle\" x=\"908.4347\" y=\"-1278.9678\" font-family=\"Helvetica,sans-Serif\" font-size=\"14.00\" fill=\"#000000\">True</text>\n</g>\n<!-- 12 -->\n<g id=\"node13\" class=\"node\">\n<title>12</title>\n<path fill=\"#fefffd\" stroke=\"#000000\" d=\"M1389,-1258C1389,-1258 1225,-1258 1225,-1258 1219,-1258 1213,-1252 1213,-1246 1213,-1246 1213,-1187 1213,-1187 1213,-1181 1219,-1175 1225,-1175 1225,-1175 1389,-1175 1389,-1175 1395,-1175 1401,-1181 1401,-1187 1401,-1187 1401,-1246 1401,-1246 1401,-1252 1395,-1258 1389,-1258\"/>\n<text text-anchor=\"start\" x=\"1236\" y=\"-1242.8\" font-family=\"Helvetica,sans-Serif\" font-size=\"14.00\" fill=\"#000000\">Amount Burger ≤ 10.5</text>\n<text text-anchor=\"start\" x=\"1269\" y=\"-1227.8\" font-family=\"Helvetica,sans-Serif\" font-size=\"14.00\" fill=\"#000000\">gini = 0.798</text>\n<text text-anchor=\"start\" x=\"1259\" y=\"-1212.8\" font-family=\"Helvetica,sans-Serif\" font-size=\"14.00\" fill=\"#000000\">samples = 271</text>\n<text text-anchor=\"start\" x=\"1221\" y=\"-1197.8\" font-family=\"Helvetica,sans-Serif\" font-size=\"14.00\" fill=\"#000000\">value = [58, 60, 56, 49, 48]</text>\n<text text-anchor=\"start\" x=\"1257\" y=\"-1182.8\" font-family=\"Helvetica,sans-Serif\" font-size=\"14.00\" fill=\"#000000\">class = GOPAY</text>\n</g>\n<!-- 0&#45;&gt;12 -->\n<g id=\"edge12\" class=\"edge\">\n<title>0&#45;&gt;12</title>\n<path fill=\"none\" stroke=\"#000000\" d=\"M1111.1547,-1296.8641C1140.6814,-1284.748 1173.4289,-1271.3102 1203.5609,-1258.9457\"/>\n<polygon fill=\"#000000\" stroke=\"#000000\" points=\"1204.8991,-1262.1798 1212.8218,-1255.1455 1202.2417,-1255.7039 1204.8991,-1262.1798\"/>\n<text text-anchor=\"middle\" x=\"1203.1784\" y=\"-1274.5108\" font-family=\"Helvetica,sans-Serif\" font-size=\"14.00\" fill=\"#000000\">False</text>\n</g>\n<!-- 2 -->\n<g id=\"node3\" class=\"node\">\n<title>2</title>\n<path fill=\"#ffffff\" stroke=\"#000000\" d=\"M663,-1139C663,-1139 541,-1139 541,-1139 535,-1139 529,-1133 529,-1127 529,-1127 529,-1068 529,-1068 529,-1062 535,-1056 541,-1056 541,-1056 663,-1056 663,-1056 669,-1056 675,-1062 675,-1068 675,-1068 675,-1127 675,-1127 675,-1133 669,-1139 663,-1139\"/>\n<text text-anchor=\"start\" x=\"559.5\" y=\"-1123.8\" font-family=\"Helvetica,sans-Serif\" font-size=\"14.00\" fill=\"#000000\">Gender ≤ 0.5</text>\n<text text-anchor=\"start\" x=\"568.5\" y=\"-1108.8\" font-family=\"Helvetica,sans-Serif\" font-size=\"14.00\" fill=\"#000000\">gini = 0.71</text>\n<text text-anchor=\"start\" x=\"558\" y=\"-1093.8\" font-family=\"Helvetica,sans-Serif\" font-size=\"14.00\" fill=\"#000000\">samples = 20</text>\n<text text-anchor=\"start\" x=\"537\" y=\"-1078.8\" font-family=\"Helvetica,sans-Serif\" font-size=\"14.00\" fill=\"#000000\">value = [0, 3, 7, 3, 7]</text>\n<text text-anchor=\"start\" x=\"556.5\" y=\"-1063.8\" font-family=\"Helvetica,sans-Serif\" font-size=\"14.00\" fill=\"#000000\">class = DANA</text>\n</g>\n<!-- 1&#45;&gt;2 -->\n<g id=\"edge2\" class=\"edge\">\n<title>1&#45;&gt;2</title>\n<path fill=\"none\" stroke=\"#000000\" d=\"M760.7355,-1175.8798C735.9608,-1163.6466 708.7804,-1150.2256 684.0215,-1138.0002\"/>\n<polygon fill=\"#000000\" stroke=\"#000000\" points=\"685.5344,-1134.8439 675.0182,-1133.5546 682.4351,-1141.1204 685.5344,-1134.8439\"/>\n</g>\n<!-- 9 -->\n<g id=\"node10\" class=\"node\">\n<title>9</title>\n<path fill=\"#fad7f2\" stroke=\"#000000\" d=\"M904,-1139C904,-1139 782,-1139 782,-1139 776,-1139 770,-1133 770,-1127 770,-1127 770,-1068 770,-1068 770,-1062 776,-1056 782,-1056 782,-1056 904,-1056 904,-1056 910,-1056 916,-1062 916,-1068 916,-1068 916,-1127 916,-1127 916,-1133 910,-1139 904,-1139\"/>\n<text text-anchor=\"start\" x=\"800.5\" y=\"-1123.8\" font-family=\"Helvetica,sans-Serif\" font-size=\"14.00\" fill=\"#000000\">Gender ≤ 0.5</text>\n<text text-anchor=\"start\" x=\"805\" y=\"-1108.8\" font-family=\"Helvetica,sans-Serif\" font-size=\"14.00\" fill=\"#000000\">gini = 0.689</text>\n<text text-anchor=\"start\" x=\"799\" y=\"-1093.8\" font-family=\"Helvetica,sans-Serif\" font-size=\"14.00\" fill=\"#000000\">samples = 21</text>\n<text text-anchor=\"start\" x=\"778\" y=\"-1078.8\" font-family=\"Helvetica,sans-Serif\" font-size=\"14.00\" fill=\"#000000\">value = [6, 2, 4, 0, 9]</text>\n<text text-anchor=\"start\" x=\"802\" y=\"-1063.8\" font-family=\"Helvetica,sans-Serif\" font-size=\"14.00\" fill=\"#000000\">class = OVO</text>\n</g>\n<!-- 1&#45;&gt;9 -->\n<g id=\"edge9\" class=\"edge\">\n<title>1&#45;&gt;9</title>\n<path fill=\"none\" stroke=\"#000000\" d=\"M843,-1174.8796C843,-1166.6838 843,-1157.9891 843,-1149.5013\"/>\n<polygon fill=\"#000000\" stroke=\"#000000\" points=\"846.5001,-1149.298 843,-1139.2981 839.5001,-1149.2981 846.5001,-1149.298\"/>\n</g>\n<!-- 3 -->\n<g id=\"node4\" class=\"node\">\n<title>3</title>\n<path fill=\"#fce6f7\" stroke=\"#000000\" d=\"M479,-1020C479,-1020 287,-1020 287,-1020 281,-1020 275,-1014 275,-1008 275,-1008 275,-949 275,-949 275,-943 281,-937 287,-937 287,-937 479,-937 479,-937 485,-937 491,-943 491,-949 491,-949 491,-1008 491,-1008 491,-1014 485,-1020 479,-1020\"/>\n<text text-anchor=\"start\" x=\"283\" y=\"-1004.8\" font-family=\"Helvetica,sans-Serif\" font-size=\"14.00\" fill=\"#000000\">Type Drink_Mineral water ≤ 0.5</text>\n<text text-anchor=\"start\" x=\"345\" y=\"-989.8\" font-family=\"Helvetica,sans-Serif\" font-size=\"14.00\" fill=\"#000000\">gini = 0.615</text>\n<text text-anchor=\"start\" x=\"339\" y=\"-974.8\" font-family=\"Helvetica,sans-Serif\" font-size=\"14.00\" fill=\"#000000\">samples = 13</text>\n<text text-anchor=\"start\" x=\"318\" y=\"-959.8\" font-family=\"Helvetica,sans-Serif\" font-size=\"14.00\" fill=\"#000000\">value = [0, 0, 5, 2, 6]</text>\n<text text-anchor=\"start\" x=\"342\" y=\"-944.8\" font-family=\"Helvetica,sans-Serif\" font-size=\"14.00\" fill=\"#000000\">class = OVO</text>\n</g>\n<!-- 2&#45;&gt;3 -->\n<g id=\"edge3\" class=\"edge\">\n<title>2&#45;&gt;3</title>\n<path fill=\"none\" stroke=\"#000000\" d=\"M528.7717,-1057.7093C509.47,-1047.2211 488.4731,-1035.8119 468.5832,-1025.0041\"/>\n<polygon fill=\"#000000\" stroke=\"#000000\" points=\"469.9902,-1021.7853 459.5325,-1020.0862 466.648,-1027.936 469.9902,-1021.7853\"/>\n</g>\n<!-- 6 -->\n<g id=\"node7\" class=\"node\">\n<title>6</title>\n<path fill=\"#e5fad7\" stroke=\"#000000\" d=\"M663,-1020C663,-1020 541,-1020 541,-1020 535,-1020 529,-1014 529,-1008 529,-1008 529,-949 529,-949 529,-943 535,-937 541,-937 541,-937 663,-937 663,-937 669,-937 675,-943 675,-949 675,-949 675,-1008 675,-1008 675,-1014 669,-1020 663,-1020\"/>\n<text text-anchor=\"start\" x=\"540\" y=\"-1004.8\" font-family=\"Helvetica,sans-Serif\" font-size=\"14.00\" fill=\"#000000\">Amount Drink ≤ 1.5</text>\n<text text-anchor=\"start\" x=\"564\" y=\"-989.8\" font-family=\"Helvetica,sans-Serif\" font-size=\"14.00\" fill=\"#000000\">gini = 0.694</text>\n<text text-anchor=\"start\" x=\"562.5\" y=\"-974.8\" font-family=\"Helvetica,sans-Serif\" font-size=\"14.00\" fill=\"#000000\">samples = 7</text>\n<text text-anchor=\"start\" x=\"537\" y=\"-959.8\" font-family=\"Helvetica,sans-Serif\" font-size=\"14.00\" fill=\"#000000\">value = [0, 3, 2, 1, 1]</text>\n<text text-anchor=\"start\" x=\"552\" y=\"-944.8\" font-family=\"Helvetica,sans-Serif\" font-size=\"14.00\" fill=\"#000000\">class = GOPAY</text>\n</g>\n<!-- 2&#45;&gt;6 -->\n<g id=\"edge6\" class=\"edge\">\n<title>2&#45;&gt;6</title>\n<path fill=\"none\" stroke=\"#000000\" d=\"M602,-1055.8796C602,-1047.6838 602,-1038.9891 602,-1030.5013\"/>\n<polygon fill=\"#000000\" stroke=\"#000000\" points=\"605.5001,-1030.298 602,-1020.2981 598.5001,-1030.2981 605.5001,-1030.298\"/>\n</g>\n<!-- 4 -->\n<g id=\"node5\" class=\"node\">\n<title>4</title>\n<path fill=\"#fbe3f6\" stroke=\"#000000\" d=\"M280,-893.5C280,-893.5 158,-893.5 158,-893.5 152,-893.5 146,-887.5 146,-881.5 146,-881.5 146,-837.5 146,-837.5 146,-831.5 152,-825.5 158,-825.5 158,-825.5 280,-825.5 280,-825.5 286,-825.5 292,-831.5 292,-837.5 292,-837.5 292,-881.5 292,-881.5 292,-887.5 286,-893.5 280,-893.5\"/>\n<text text-anchor=\"start\" x=\"181\" y=\"-878.3\" font-family=\"Helvetica,sans-Serif\" font-size=\"14.00\" fill=\"#000000\">gini = 0.628</text>\n<text text-anchor=\"start\" x=\"175\" y=\"-863.3\" font-family=\"Helvetica,sans-Serif\" font-size=\"14.00\" fill=\"#000000\">samples = 11</text>\n<text text-anchor=\"start\" x=\"154\" y=\"-848.3\" font-family=\"Helvetica,sans-Serif\" font-size=\"14.00\" fill=\"#000000\">value = [0, 0, 4, 2, 5]</text>\n<text text-anchor=\"start\" x=\"178\" y=\"-833.3\" font-family=\"Helvetica,sans-Serif\" font-size=\"14.00\" fill=\"#000000\">class = OVO</text>\n</g>\n<!-- 3&#45;&gt;4 -->\n<g id=\"edge4\" class=\"edge\">\n<title>3&#45;&gt;4</title>\n<path fill=\"none\" stroke=\"#000000\" d=\"M325.6408,-936.8796C309.0439,-924.8368 290.9625,-911.7167 274.4824,-899.7586\"/>\n<polygon fill=\"#000000\" stroke=\"#000000\" points=\"276.176,-896.6632 266.0267,-893.623 272.0649,-902.3288 276.176,-896.6632\"/>\n</g>\n<!-- 5 -->\n<g id=\"node6\" class=\"node\">\n<title>5</title>\n<path fill=\"#ffffff\" stroke=\"#000000\" d=\"M444,-893.5C444,-893.5 322,-893.5 322,-893.5 316,-893.5 310,-887.5 310,-881.5 310,-881.5 310,-837.5 310,-837.5 310,-831.5 316,-825.5 322,-825.5 322,-825.5 444,-825.5 444,-825.5 450,-825.5 456,-831.5 456,-837.5 456,-837.5 456,-881.5 456,-881.5 456,-887.5 450,-893.5 444,-893.5\"/>\n<text text-anchor=\"start\" x=\"353.5\" y=\"-878.3\" font-family=\"Helvetica,sans-Serif\" font-size=\"14.00\" fill=\"#000000\">gini = 0.5</text>\n<text text-anchor=\"start\" x=\"343.5\" y=\"-863.3\" font-family=\"Helvetica,sans-Serif\" font-size=\"14.00\" fill=\"#000000\">samples = 2</text>\n<text text-anchor=\"start\" x=\"318\" y=\"-848.3\" font-family=\"Helvetica,sans-Serif\" font-size=\"14.00\" fill=\"#000000\">value = [0, 0, 1, 0, 1]</text>\n<text text-anchor=\"start\" x=\"337.5\" y=\"-833.3\" font-family=\"Helvetica,sans-Serif\" font-size=\"14.00\" fill=\"#000000\">class = DANA</text>\n</g>\n<!-- 3&#45;&gt;5 -->\n<g id=\"edge5\" class=\"edge\">\n<title>3&#45;&gt;5</title>\n<path fill=\"none\" stroke=\"#000000\" d=\"M383,-936.8796C383,-926.2134 383,-914.7021 383,-903.9015\"/>\n<polygon fill=\"#000000\" stroke=\"#000000\" points=\"386.5001,-903.8149 383,-893.8149 379.5001,-903.815 386.5001,-903.8149\"/>\n</g>\n<!-- 7 -->\n<g id=\"node8\" class=\"node\">\n<title>7</title>\n<path fill=\"#caf5b0\" stroke=\"#000000\" d=\"M608,-893.5C608,-893.5 486,-893.5 486,-893.5 480,-893.5 474,-887.5 474,-881.5 474,-881.5 474,-837.5 474,-837.5 474,-831.5 480,-825.5 486,-825.5 486,-825.5 608,-825.5 608,-825.5 614,-825.5 620,-831.5 620,-837.5 620,-837.5 620,-881.5 620,-881.5 620,-887.5 614,-893.5 608,-893.5\"/>\n<text text-anchor=\"start\" x=\"509\" y=\"-878.3\" font-family=\"Helvetica,sans-Serif\" font-size=\"14.00\" fill=\"#000000\">gini = 0.667</text>\n<text text-anchor=\"start\" x=\"507.5\" y=\"-863.3\" font-family=\"Helvetica,sans-Serif\" font-size=\"14.00\" fill=\"#000000\">samples = 6</text>\n<text text-anchor=\"start\" x=\"482\" y=\"-848.3\" font-family=\"Helvetica,sans-Serif\" font-size=\"14.00\" fill=\"#000000\">value = [0, 3, 1, 1, 1]</text>\n<text text-anchor=\"start\" x=\"497\" y=\"-833.3\" font-family=\"Helvetica,sans-Serif\" font-size=\"14.00\" fill=\"#000000\">class = GOPAY</text>\n</g>\n<!-- 6&#45;&gt;7 -->\n<g id=\"edge7\" class=\"edge\">\n<title>6&#45;&gt;7</title>\n<path fill=\"none\" stroke=\"#000000\" d=\"M582.7637,-936.8796C577.6814,-925.8835 572.1841,-913.9893 567.0595,-902.9015\"/>\n<polygon fill=\"#000000\" stroke=\"#000000\" points=\"570.2324,-901.4239 562.8598,-893.8149 563.8782,-904.3607 570.2324,-901.4239\"/>\n</g>\n<!-- 8 -->\n<g id=\"node9\" class=\"node\">\n<title>8</title>\n<path fill=\"#39e5c5\" stroke=\"#000000\" d=\"M772,-893.5C772,-893.5 650,-893.5 650,-893.5 644,-893.5 638,-887.5 638,-881.5 638,-881.5 638,-837.5 638,-837.5 638,-831.5 644,-825.5 650,-825.5 650,-825.5 772,-825.5 772,-825.5 778,-825.5 784,-831.5 784,-837.5 784,-837.5 784,-881.5 784,-881.5 784,-887.5 778,-893.5 772,-893.5\"/>\n<text text-anchor=\"start\" x=\"681.5\" y=\"-878.3\" font-family=\"Helvetica,sans-Serif\" font-size=\"14.00\" fill=\"#000000\">gini = 0.0</text>\n<text text-anchor=\"start\" x=\"671.5\" y=\"-863.3\" font-family=\"Helvetica,sans-Serif\" font-size=\"14.00\" fill=\"#000000\">samples = 1</text>\n<text text-anchor=\"start\" x=\"646\" y=\"-848.3\" font-family=\"Helvetica,sans-Serif\" font-size=\"14.00\" fill=\"#000000\">value = [0, 0, 1, 0, 0]</text>\n<text text-anchor=\"start\" x=\"665.5\" y=\"-833.3\" font-family=\"Helvetica,sans-Serif\" font-size=\"14.00\" fill=\"#000000\">class = DANA</text>\n</g>\n<!-- 6&#45;&gt;8 -->\n<g id=\"edge8\" class=\"edge\">\n<title>6&#45;&gt;8</title>\n<path fill=\"none\" stroke=\"#000000\" d=\"M640.1229,-936.8796C650.6986,-925.3337 662.1812,-912.7976 672.7633,-901.2446\"/>\n<polygon fill=\"#000000\" stroke=\"#000000\" points=\"675.3951,-903.5531 679.5687,-893.8149 670.2333,-898.825 675.3951,-903.5531\"/>\n</g>\n<!-- 10 -->\n<g id=\"node11\" class=\"node\">\n<title>10</title>\n<path fill=\"#7be539\" stroke=\"#000000\" d=\"M847,-1012.5C847,-1012.5 725,-1012.5 725,-1012.5 719,-1012.5 713,-1006.5 713,-1000.5 713,-1000.5 713,-956.5 713,-956.5 713,-950.5 719,-944.5 725,-944.5 725,-944.5 847,-944.5 847,-944.5 853,-944.5 859,-950.5 859,-956.5 859,-956.5 859,-1000.5 859,-1000.5 859,-1006.5 853,-1012.5 847,-1012.5\"/>\n<text text-anchor=\"start\" x=\"756.5\" y=\"-997.3\" font-family=\"Helvetica,sans-Serif\" font-size=\"14.00\" fill=\"#000000\">gini = 0.0</text>\n<text text-anchor=\"start\" x=\"746.5\" y=\"-982.3\" font-family=\"Helvetica,sans-Serif\" font-size=\"14.00\" fill=\"#000000\">samples = 1</text>\n<text text-anchor=\"start\" x=\"721\" y=\"-967.3\" font-family=\"Helvetica,sans-Serif\" font-size=\"14.00\" fill=\"#000000\">value = [0, 1, 0, 0, 0]</text>\n<text text-anchor=\"start\" x=\"736\" y=\"-952.3\" font-family=\"Helvetica,sans-Serif\" font-size=\"14.00\" fill=\"#000000\">class = GOPAY</text>\n</g>\n<!-- 9&#45;&gt;10 -->\n<g id=\"edge10\" class=\"edge\">\n<title>9&#45;&gt;10</title>\n<path fill=\"none\" stroke=\"#000000\" d=\"M823.0642,-1055.8796C817.7971,-1044.8835 812.0999,-1032.9893 806.789,-1021.9015\"/>\n<polygon fill=\"#000000\" stroke=\"#000000\" points=\"809.9131,-1020.3217 802.4366,-1012.8149 803.6,-1023.3457 809.9131,-1020.3217\"/>\n</g>\n<!-- 11 -->\n<g id=\"node12\" class=\"node\">\n<title>11</title>\n<path fill=\"#f9d5f2\" stroke=\"#000000\" d=\"M1011,-1012.5C1011,-1012.5 889,-1012.5 889,-1012.5 883,-1012.5 877,-1006.5 877,-1000.5 877,-1000.5 877,-956.5 877,-956.5 877,-950.5 883,-944.5 889,-944.5 889,-944.5 1011,-944.5 1011,-944.5 1017,-944.5 1023,-950.5 1023,-956.5 1023,-956.5 1023,-1000.5 1023,-1000.5 1023,-1006.5 1017,-1012.5 1011,-1012.5\"/>\n<text text-anchor=\"start\" x=\"912\" y=\"-997.3\" font-family=\"Helvetica,sans-Serif\" font-size=\"14.00\" fill=\"#000000\">gini = 0.665</text>\n<text text-anchor=\"start\" x=\"906\" y=\"-982.3\" font-family=\"Helvetica,sans-Serif\" font-size=\"14.00\" fill=\"#000000\">samples = 20</text>\n<text text-anchor=\"start\" x=\"885\" y=\"-967.3\" font-family=\"Helvetica,sans-Serif\" font-size=\"14.00\" fill=\"#000000\">value = [6, 1, 4, 0, 9]</text>\n<text text-anchor=\"start\" x=\"909\" y=\"-952.3\" font-family=\"Helvetica,sans-Serif\" font-size=\"14.00\" fill=\"#000000\">class = OVO</text>\n</g>\n<!-- 9&#45;&gt;11 -->\n<g id=\"edge11\" class=\"edge\">\n<title>9&#45;&gt;11</title>\n<path fill=\"none\" stroke=\"#000000\" d=\"M880.4234,-1055.8796C890.7061,-1044.4436 901.8623,-1032.0363 912.1679,-1020.575\"/>\n<polygon fill=\"#000000\" stroke=\"#000000\" points=\"915.0618,-1022.5912 919.1454,-1012.8149 909.8565,-1017.9108 915.0618,-1022.5912\"/>\n</g>\n<!-- 13 -->\n<g id=\"node14\" class=\"node\">\n<title>13</title>\n<path fill=\"#f8fef5\" stroke=\"#000000\" d=\"M1389,-1139C1389,-1139 1225,-1139 1225,-1139 1219,-1139 1213,-1133 1213,-1127 1213,-1127 1213,-1068 1213,-1068 1213,-1062 1219,-1056 1225,-1056 1225,-1056 1389,-1056 1389,-1056 1395,-1056 1401,-1062 1401,-1068 1401,-1068 1401,-1127 1401,-1127 1401,-1133 1395,-1139 1389,-1139\"/>\n<text text-anchor=\"start\" x=\"1233\" y=\"-1123.8\" font-family=\"Helvetica,sans-Serif\" font-size=\"14.00\" fill=\"#000000\">Type Drink_Coffe ≤ 0.5</text>\n<text text-anchor=\"start\" x=\"1269\" y=\"-1108.8\" font-family=\"Helvetica,sans-Serif\" font-size=\"14.00\" fill=\"#000000\">gini = 0.795</text>\n<text text-anchor=\"start\" x=\"1259\" y=\"-1093.8\" font-family=\"Helvetica,sans-Serif\" font-size=\"14.00\" fill=\"#000000\">samples = 221</text>\n<text text-anchor=\"start\" x=\"1221\" y=\"-1078.8\" font-family=\"Helvetica,sans-Serif\" font-size=\"14.00\" fill=\"#000000\">value = [40, 56, 47, 40, 38]</text>\n<text text-anchor=\"start\" x=\"1257\" y=\"-1063.8\" font-family=\"Helvetica,sans-Serif\" font-size=\"14.00\" fill=\"#000000\">class = GOPAY</text>\n</g>\n<!-- 12&#45;&gt;13 -->\n<g id=\"edge13\" class=\"edge\">\n<title>12&#45;&gt;13</title>\n<path fill=\"none\" stroke=\"#000000\" d=\"M1307,-1174.8796C1307,-1166.6838 1307,-1157.9891 1307,-1149.5013\"/>\n<polygon fill=\"#000000\" stroke=\"#000000\" points=\"1310.5001,-1149.298 1307,-1139.2981 1303.5001,-1149.2981 1310.5001,-1149.298\"/>\n</g>\n<!-- 58 -->\n<g id=\"node59\" class=\"node\">\n<title>58</title>\n<path fill=\"#fae6d7\" stroke=\"#000000\" d=\"M1956.5,-1139C1956.5,-1139 1817.5,-1139 1817.5,-1139 1811.5,-1139 1805.5,-1133 1805.5,-1127 1805.5,-1127 1805.5,-1068 1805.5,-1068 1805.5,-1062 1811.5,-1056 1817.5,-1056 1817.5,-1056 1956.5,-1056 1956.5,-1056 1962.5,-1056 1968.5,-1062 1968.5,-1068 1968.5,-1068 1968.5,-1127 1968.5,-1127 1968.5,-1133 1962.5,-1139 1956.5,-1139\"/>\n<text text-anchor=\"start\" x=\"1825\" y=\"-1123.8\" font-family=\"Helvetica,sans-Serif\" font-size=\"14.00\" fill=\"#000000\">Amount Drink ≤ 1.5</text>\n<text text-anchor=\"start\" x=\"1849\" y=\"-1108.8\" font-family=\"Helvetica,sans-Serif\" font-size=\"14.00\" fill=\"#000000\">gini = 0.759</text>\n<text text-anchor=\"start\" x=\"1843\" y=\"-1093.8\" font-family=\"Helvetica,sans-Serif\" font-size=\"14.00\" fill=\"#000000\">samples = 50</text>\n<text text-anchor=\"start\" x=\"1813.5\" y=\"-1078.8\" font-family=\"Helvetica,sans-Serif\" font-size=\"14.00\" fill=\"#000000\">value = [18, 4, 9, 9, 10]</text>\n<text text-anchor=\"start\" x=\"1831\" y=\"-1063.8\" font-family=\"Helvetica,sans-Serif\" font-size=\"14.00\" fill=\"#000000\">class = LINK AJA</text>\n</g>\n<!-- 12&#45;&gt;58 -->\n<g id=\"edge58\" class=\"edge\">\n<title>12&#45;&gt;58</title>\n<path fill=\"none\" stroke=\"#000000\" d=\"M1401.1546,-1197.1821C1509.8812,-1174.8744 1687.5522,-1138.4212 1795.2499,-1116.3246\"/>\n<polygon fill=\"#000000\" stroke=\"#000000\" points=\"1796.0352,-1119.7365 1805.1276,-1114.298 1794.6282,-1112.8793 1796.0352,-1119.7365\"/>\n</g>\n<!-- 14 -->\n<g id=\"node15\" class=\"node\">\n<title>14</title>\n<path fill=\"#f1fcea\" stroke=\"#000000\" d=\"M1257,-1020C1257,-1020 1093,-1020 1093,-1020 1087,-1020 1081,-1014 1081,-1008 1081,-1008 1081,-949 1081,-949 1081,-943 1087,-937 1093,-937 1093,-937 1257,-937 1257,-937 1263,-937 1269,-943 1269,-949 1269,-949 1269,-1008 1269,-1008 1269,-1014 1263,-1020 1257,-1020\"/>\n<text text-anchor=\"start\" x=\"1113\" y=\"-1004.8\" font-family=\"Helvetica,sans-Serif\" font-size=\"14.00\" fill=\"#000000\">Amount Drink ≤ 8.0</text>\n<text text-anchor=\"start\" x=\"1137\" y=\"-989.8\" font-family=\"Helvetica,sans-Serif\" font-size=\"14.00\" fill=\"#000000\">gini = 0.786</text>\n<text text-anchor=\"start\" x=\"1127\" y=\"-974.8\" font-family=\"Helvetica,sans-Serif\" font-size=\"14.00\" fill=\"#000000\">samples = 154</text>\n<text text-anchor=\"start\" x=\"1089\" y=\"-959.8\" font-family=\"Helvetica,sans-Serif\" font-size=\"14.00\" fill=\"#000000\">value = [25, 45, 32, 31, 21]</text>\n<text text-anchor=\"start\" x=\"1125\" y=\"-944.8\" font-family=\"Helvetica,sans-Serif\" font-size=\"14.00\" fill=\"#000000\">class = GOPAY</text>\n</g>\n<!-- 13&#45;&gt;14 -->\n<g id=\"edge14\" class=\"edge\">\n<title>13&#45;&gt;14</title>\n<path fill=\"none\" stroke=\"#000000\" d=\"M1260.8328,-1055.8796C1250.5429,-1046.6031 1239.544,-1036.6874 1228.9713,-1027.1559\"/>\n<polygon fill=\"#000000\" stroke=\"#000000\" points=\"1231.1352,-1024.3944 1221.3642,-1020.2981 1226.4481,-1029.5935 1231.1352,-1024.3944\"/>\n</g>\n<!-- 47 -->\n<g id=\"node48\" class=\"node\">\n<title>47</title>\n<path fill=\"#fef7fd\" stroke=\"#000000\" d=\"M1516.5,-1020C1516.5,-1020 1361.5,-1020 1361.5,-1020 1355.5,-1020 1349.5,-1014 1349.5,-1008 1349.5,-1008 1349.5,-949 1349.5,-949 1349.5,-943 1355.5,-937 1361.5,-937 1361.5,-937 1516.5,-937 1516.5,-937 1522.5,-937 1528.5,-943 1528.5,-949 1528.5,-949 1528.5,-1008 1528.5,-1008 1528.5,-1014 1522.5,-1020 1516.5,-1020\"/>\n<text text-anchor=\"start\" x=\"1372.5\" y=\"-1004.8\" font-family=\"Helvetica,sans-Serif\" font-size=\"14.00\" fill=\"#000000\">Amount Burger ≤ 4.0</text>\n<text text-anchor=\"start\" x=\"1405.5\" y=\"-989.8\" font-family=\"Helvetica,sans-Serif\" font-size=\"14.00\" fill=\"#000000\">gini = 0.79</text>\n<text text-anchor=\"start\" x=\"1395\" y=\"-974.8\" font-family=\"Helvetica,sans-Serif\" font-size=\"14.00\" fill=\"#000000\">samples = 67</text>\n<text text-anchor=\"start\" x=\"1357.5\" y=\"-959.8\" font-family=\"Helvetica,sans-Serif\" font-size=\"14.00\" fill=\"#000000\">value = [15, 11, 15, 9, 17]</text>\n<text text-anchor=\"start\" x=\"1398\" y=\"-944.8\" font-family=\"Helvetica,sans-Serif\" font-size=\"14.00\" fill=\"#000000\">class = OVO</text>\n</g>\n<!-- 13&#45;&gt;47 -->\n<g id=\"edge47\" class=\"edge\">\n<title>13&#45;&gt;47</title>\n<path fill=\"none\" stroke=\"#000000\" d=\"M1353.1672,-1055.8796C1363.4571,-1046.6031 1374.456,-1036.6874 1385.0287,-1027.1559\"/>\n<polygon fill=\"#000000\" stroke=\"#000000\" points=\"1387.5519,-1029.5935 1392.6358,-1020.2981 1382.8648,-1024.3944 1387.5519,-1029.5935\"/>\n</g>\n<!-- 15 -->\n<g id=\"node16\" class=\"node\">\n<title>15</title>\n<path fill=\"#edfce5\" stroke=\"#000000\" d=\"M978,-901C978,-901 814,-901 814,-901 808,-901 802,-895 802,-889 802,-889 802,-830 802,-830 802,-824 808,-818 814,-818 814,-818 978,-818 978,-818 984,-818 990,-824 990,-830 990,-830 990,-889 990,-889 990,-895 984,-901 978,-901\"/>\n<text text-anchor=\"start\" x=\"829.5\" y=\"-885.8\" font-family=\"Helvetica,sans-Serif\" font-size=\"14.00\" fill=\"#000000\">Amount Burger ≤ 4.0</text>\n<text text-anchor=\"start\" x=\"858\" y=\"-870.8\" font-family=\"Helvetica,sans-Serif\" font-size=\"14.00\" fill=\"#000000\">gini = 0.783</text>\n<text text-anchor=\"start\" x=\"848\" y=\"-855.8\" font-family=\"Helvetica,sans-Serif\" font-size=\"14.00\" fill=\"#000000\">samples = 142</text>\n<text text-anchor=\"start\" x=\"810\" y=\"-840.8\" font-family=\"Helvetica,sans-Serif\" font-size=\"14.00\" fill=\"#000000\">value = [23, 44, 29, 26, 20]</text>\n<text text-anchor=\"start\" x=\"846\" y=\"-825.8\" font-family=\"Helvetica,sans-Serif\" font-size=\"14.00\" fill=\"#000000\">class = GOPAY</text>\n</g>\n<!-- 14&#45;&gt;15 -->\n<g id=\"edge15\" class=\"edge\">\n<title>14&#45;&gt;15</title>\n<path fill=\"none\" stroke=\"#000000\" d=\"M1080.9323,-938.3779C1054.7526,-927.2117 1026.1765,-915.0233 999.488,-903.6401\"/>\n<polygon fill=\"#000000\" stroke=\"#000000\" points=\"1000.7052,-900.3542 990.1338,-899.6503 997.9589,-906.793 1000.7052,-900.3542\"/>\n</g>\n<!-- 44 -->\n<g id=\"node45\" class=\"node\">\n<title>44</title>\n<path fill=\"#d4d3f9\" stroke=\"#000000\" d=\"M1281,-901C1281,-901 1069,-901 1069,-901 1063,-901 1057,-895 1057,-889 1057,-889 1057,-830 1057,-830 1057,-824 1063,-818 1069,-818 1069,-818 1281,-818 1281,-818 1287,-818 1293,-824 1293,-830 1293,-830 1293,-889 1293,-889 1293,-895 1287,-901 1281,-901\"/>\n<text text-anchor=\"start\" x=\"1065\" y=\"-885.8\" font-family=\"Helvetica,sans-Serif\" font-size=\"14.00\" fill=\"#000000\">Type Burger_Cheese burger ≤ 0.5</text>\n<text text-anchor=\"start\" x=\"1137\" y=\"-870.8\" font-family=\"Helvetica,sans-Serif\" font-size=\"14.00\" fill=\"#000000\">gini = 0.722</text>\n<text text-anchor=\"start\" x=\"1131\" y=\"-855.8\" font-family=\"Helvetica,sans-Serif\" font-size=\"14.00\" fill=\"#000000\">samples = 12</text>\n<text text-anchor=\"start\" x=\"1110\" y=\"-840.8\" font-family=\"Helvetica,sans-Serif\" font-size=\"14.00\" fill=\"#000000\">value = [2, 1, 3, 5, 1]</text>\n<text text-anchor=\"start\" x=\"1128\" y=\"-825.8\" font-family=\"Helvetica,sans-Serif\" font-size=\"14.00\" fill=\"#000000\">class = TUNAI</text>\n</g>\n<!-- 14&#45;&gt;44 -->\n<g id=\"edge44\" class=\"edge\">\n<title>14&#45;&gt;44</title>\n<path fill=\"none\" stroke=\"#000000\" d=\"M1175,-936.8796C1175,-928.6838 1175,-919.9891 1175,-911.5013\"/>\n<polygon fill=\"#000000\" stroke=\"#000000\" points=\"1178.5001,-911.298 1175,-901.2981 1171.5001,-911.2981 1178.5001,-911.298\"/>\n</g>\n<!-- 16 -->\n<g id=\"node17\" class=\"node\">\n<title>16</title>\n<path fill=\"#efeffd\" stroke=\"#000000\" d=\"M582.5,-782C582.5,-782 391.5,-782 391.5,-782 385.5,-782 379.5,-776 379.5,-770 379.5,-770 379.5,-711 379.5,-711 379.5,-705 385.5,-699 391.5,-699 391.5,-699 582.5,-699 582.5,-699 588.5,-699 594.5,-705 594.5,-711 594.5,-711 594.5,-770 594.5,-770 594.5,-776 588.5,-782 582.5,-782\"/>\n<text text-anchor=\"start\" x=\"387.5\" y=\"-766.8\" font-family=\"Helvetica,sans-Serif\" font-size=\"14.00\" fill=\"#000000\">Type Burger_Beef burger ≤ 0.5</text>\n<text text-anchor=\"start\" x=\"449\" y=\"-751.8\" font-family=\"Helvetica,sans-Serif\" font-size=\"14.00\" fill=\"#000000\">gini = 0.768</text>\n<text text-anchor=\"start\" x=\"443\" y=\"-736.8\" font-family=\"Helvetica,sans-Serif\" font-size=\"14.00\" fill=\"#000000\">samples = 33</text>\n<text text-anchor=\"start\" x=\"417.5\" y=\"-721.8\" font-family=\"Helvetica,sans-Serif\" font-size=\"14.00\" fill=\"#000000\">value = [4, 8, 8, 10, 3]</text>\n<text text-anchor=\"start\" x=\"440\" y=\"-706.8\" font-family=\"Helvetica,sans-Serif\" font-size=\"14.00\" fill=\"#000000\">class = TUNAI</text>\n</g>\n<!-- 15&#45;&gt;16 -->\n<g id=\"edge16\" class=\"edge\">\n<title>15&#45;&gt;16</title>\n<path fill=\"none\" stroke=\"#000000\" d=\"M801.8885,-820.99C798.9005,-819.9569 795.9323,-818.9572 793,-818 731.5634,-797.9447 661.7948,-779.9208 604.4076,-766.3125\"/>\n<polygon fill=\"#000000\" stroke=\"#000000\" points=\"605.1124,-762.8828 594.5761,-763.9956 603.5066,-769.6962 605.1124,-762.8828\"/>\n</g>\n<!-- 25 -->\n<g id=\"node26\" class=\"node\">\n<title>25</title>\n<path fill=\"#e8fbdd\" stroke=\"#000000\" d=\"M943,-782C943,-782 779,-782 779,-782 773,-782 767,-776 767,-770 767,-770 767,-711 767,-711 767,-705 773,-699 779,-699 779,-699 943,-699 943,-699 949,-699 955,-705 955,-711 955,-711 955,-770 955,-770 955,-776 949,-782 943,-782\"/>\n<text text-anchor=\"start\" x=\"794.5\" y=\"-766.8\" font-family=\"Helvetica,sans-Serif\" font-size=\"14.00\" fill=\"#000000\">Amount Burger ≤ 9.0</text>\n<text text-anchor=\"start\" x=\"823\" y=\"-751.8\" font-family=\"Helvetica,sans-Serif\" font-size=\"14.00\" fill=\"#000000\">gini = 0.778</text>\n<text text-anchor=\"start\" x=\"813\" y=\"-736.8\" font-family=\"Helvetica,sans-Serif\" font-size=\"14.00\" fill=\"#000000\">samples = 109</text>\n<text text-anchor=\"start\" x=\"775\" y=\"-721.8\" font-family=\"Helvetica,sans-Serif\" font-size=\"14.00\" fill=\"#000000\">value = [19, 36, 21, 16, 17]</text>\n<text text-anchor=\"start\" x=\"811\" y=\"-706.8\" font-family=\"Helvetica,sans-Serif\" font-size=\"14.00\" fill=\"#000000\">class = GOPAY</text>\n</g>\n<!-- 15&#45;&gt;25 -->\n<g id=\"edge25\" class=\"edge\">\n<title>15&#45;&gt;25</title>\n<path fill=\"none\" stroke=\"#000000\" d=\"M883.7587,-817.8796C881.2952,-809.5037 878.6784,-800.6067 876.13,-791.942\"/>\n<polygon fill=\"#000000\" stroke=\"#000000\" points=\"879.4731,-790.9041 873.2936,-782.2981 872.7575,-792.8793 879.4731,-790.9041\"/>\n</g>\n<!-- 17 -->\n<g id=\"node18\" class=\"node\">\n<title>17</title>\n<path fill=\"#edfce5\" stroke=\"#000000\" d=\"M307,-663C307,-663 167,-663 167,-663 161,-663 155,-657 155,-651 155,-651 155,-592 155,-592 155,-586 161,-580 167,-580 167,-580 307,-580 307,-580 313,-580 319,-586 319,-592 319,-592 319,-651 319,-651 319,-657 313,-663 307,-663\"/>\n<text text-anchor=\"start\" x=\"163\" y=\"-647.8\" font-family=\"Helvetica,sans-Serif\" font-size=\"14.00\" fill=\"#000000\">Type Drink_Coke ≤ 0.5</text>\n<text text-anchor=\"start\" x=\"199\" y=\"-632.8\" font-family=\"Helvetica,sans-Serif\" font-size=\"14.00\" fill=\"#000000\">gini = 0.776</text>\n<text text-anchor=\"start\" x=\"193\" y=\"-617.8\" font-family=\"Helvetica,sans-Serif\" font-size=\"14.00\" fill=\"#000000\">samples = 19</text>\n<text text-anchor=\"start\" x=\"172\" y=\"-602.8\" font-family=\"Helvetica,sans-Serif\" font-size=\"14.00\" fill=\"#000000\">value = [3, 6, 4, 4, 2]</text>\n<text text-anchor=\"start\" x=\"187\" y=\"-587.8\" font-family=\"Helvetica,sans-Serif\" font-size=\"14.00\" fill=\"#000000\">class = GOPAY</text>\n</g>\n<!-- 16&#45;&gt;17 -->\n<g id=\"edge17\" class=\"edge\">\n<title>16&#45;&gt;17</title>\n<path fill=\"none\" stroke=\"#000000\" d=\"M399.5621,-698.8796C376.5656,-687.9332 351.6993,-676.0968 328.4959,-665.052\"/>\n<polygon fill=\"#000000\" stroke=\"#000000\" points=\"329.8854,-661.8372 319.3518,-660.6995 326.8768,-668.1577 329.8854,-661.8372\"/>\n</g>\n<!-- 20 -->\n<g id=\"node21\" class=\"node\">\n<title>20</title>\n<path fill=\"#d8d7fa\" stroke=\"#000000\" d=\"M548,-663C548,-663 426,-663 426,-663 420,-663 414,-657 414,-651 414,-651 414,-592 414,-592 414,-586 420,-580 426,-580 426,-580 548,-580 548,-580 554,-580 560,-586 560,-592 560,-592 560,-651 560,-651 560,-657 554,-663 548,-663\"/>\n<text text-anchor=\"start\" x=\"444.5\" y=\"-647.8\" font-family=\"Helvetica,sans-Serif\" font-size=\"14.00\" fill=\"#000000\">Gender ≤ 0.5</text>\n<text text-anchor=\"start\" x=\"449\" y=\"-632.8\" font-family=\"Helvetica,sans-Serif\" font-size=\"14.00\" fill=\"#000000\">gini = 0.704</text>\n<text text-anchor=\"start\" x=\"443\" y=\"-617.8\" font-family=\"Helvetica,sans-Serif\" font-size=\"14.00\" fill=\"#000000\">samples = 14</text>\n<text text-anchor=\"start\" x=\"422\" y=\"-602.8\" font-family=\"Helvetica,sans-Serif\" font-size=\"14.00\" fill=\"#000000\">value = [1, 2, 4, 6, 1]</text>\n<text text-anchor=\"start\" x=\"440\" y=\"-587.8\" font-family=\"Helvetica,sans-Serif\" font-size=\"14.00\" fill=\"#000000\">class = TUNAI</text>\n</g>\n<!-- 16&#45;&gt;20 -->\n<g id=\"edge20\" class=\"edge\">\n<title>16&#45;&gt;20</title>\n<path fill=\"none\" stroke=\"#000000\" d=\"M487,-698.8796C487,-690.6838 487,-681.9891 487,-673.5013\"/>\n<polygon fill=\"#000000\" stroke=\"#000000\" points=\"490.5001,-673.298 487,-663.2981 483.5001,-673.2981 490.5001,-673.298\"/>\n</g>\n<!-- 18 -->\n<g id=\"node19\" class=\"node\">\n<title>18</title>\n<path fill=\"#e9fbde\" stroke=\"#000000\" d=\"M134,-536.5C134,-536.5 12,-536.5 12,-536.5 6,-536.5 0,-530.5 0,-524.5 0,-524.5 0,-480.5 0,-480.5 0,-474.5 6,-468.5 12,-468.5 12,-468.5 134,-468.5 134,-468.5 140,-468.5 146,-474.5 146,-480.5 146,-480.5 146,-524.5 146,-524.5 146,-530.5 140,-536.5 134,-536.5\"/>\n<text text-anchor=\"start\" x=\"35\" y=\"-521.3\" font-family=\"Helvetica,sans-Serif\" font-size=\"14.00\" fill=\"#000000\">gini = 0.719</text>\n<text text-anchor=\"start\" x=\"33.5\" y=\"-506.3\" font-family=\"Helvetica,sans-Serif\" font-size=\"14.00\" fill=\"#000000\">samples = 8</text>\n<text text-anchor=\"start\" x=\"8\" y=\"-491.3\" font-family=\"Helvetica,sans-Serif\" font-size=\"14.00\" fill=\"#000000\">value = [1, 3, 2, 2, 0]</text>\n<text text-anchor=\"start\" x=\"23\" y=\"-476.3\" font-family=\"Helvetica,sans-Serif\" font-size=\"14.00\" fill=\"#000000\">class = GOPAY</text>\n</g>\n<!-- 17&#45;&gt;18 -->\n<g id=\"edge18\" class=\"edge\">\n<title>17&#45;&gt;18</title>\n<path fill=\"none\" stroke=\"#000000\" d=\"M179.6408,-579.8796C163.0439,-567.8368 144.9625,-554.7167 128.4824,-542.7586\"/>\n<polygon fill=\"#000000\" stroke=\"#000000\" points=\"130.176,-539.6632 120.0267,-536.623 126.0649,-545.3288 130.176,-539.6632\"/>\n</g>\n<!-- 19 -->\n<g id=\"node20\" class=\"node\">\n<title>19</title>\n<path fill=\"#f0fce9\" stroke=\"#000000\" d=\"M298,-536.5C298,-536.5 176,-536.5 176,-536.5 170,-536.5 164,-530.5 164,-524.5 164,-524.5 164,-480.5 164,-480.5 164,-474.5 170,-468.5 176,-468.5 176,-468.5 298,-468.5 298,-468.5 304,-468.5 310,-474.5 310,-480.5 310,-480.5 310,-524.5 310,-524.5 310,-530.5 304,-536.5 298,-536.5\"/>\n<text text-anchor=\"start\" x=\"199\" y=\"-521.3\" font-family=\"Helvetica,sans-Serif\" font-size=\"14.00\" fill=\"#000000\">gini = 0.793</text>\n<text text-anchor=\"start\" x=\"193\" y=\"-506.3\" font-family=\"Helvetica,sans-Serif\" font-size=\"14.00\" fill=\"#000000\">samples = 11</text>\n<text text-anchor=\"start\" x=\"172\" y=\"-491.3\" font-family=\"Helvetica,sans-Serif\" font-size=\"14.00\" fill=\"#000000\">value = [2, 3, 2, 2, 2]</text>\n<text text-anchor=\"start\" x=\"187\" y=\"-476.3\" font-family=\"Helvetica,sans-Serif\" font-size=\"14.00\" fill=\"#000000\">class = GOPAY</text>\n</g>\n<!-- 17&#45;&gt;19 -->\n<g id=\"edge19\" class=\"edge\">\n<title>17&#45;&gt;19</title>\n<path fill=\"none\" stroke=\"#000000\" d=\"M237,-579.8796C237,-569.2134 237,-557.7021 237,-546.9015\"/>\n<polygon fill=\"#000000\" stroke=\"#000000\" points=\"240.5001,-546.8149 237,-536.8149 233.5001,-546.815 240.5001,-546.8149\"/>\n</g>\n<!-- 21 -->\n<g id=\"node22\" class=\"node\">\n<title>21</title>\n<path fill=\"#e3e3fb\" stroke=\"#000000\" d=\"M462,-544C462,-544 340,-544 340,-544 334,-544 328,-538 328,-532 328,-532 328,-473 328,-473 328,-467 334,-461 340,-461 340,-461 462,-461 462,-461 468,-461 474,-467 474,-473 474,-473 474,-532 474,-532 474,-538 468,-544 462,-544\"/>\n<text text-anchor=\"start\" x=\"339\" y=\"-528.8\" font-family=\"Helvetica,sans-Serif\" font-size=\"14.00\" fill=\"#000000\">Amount Drink ≤ 2.5</text>\n<text text-anchor=\"start\" x=\"371.5\" y=\"-513.8\" font-family=\"Helvetica,sans-Serif\" font-size=\"14.00\" fill=\"#000000\">gini = 0.7</text>\n<text text-anchor=\"start\" x=\"357\" y=\"-498.8\" font-family=\"Helvetica,sans-Serif\" font-size=\"14.00\" fill=\"#000000\">samples = 10</text>\n<text text-anchor=\"start\" x=\"336\" y=\"-483.8\" font-family=\"Helvetica,sans-Serif\" font-size=\"14.00\" fill=\"#000000\">value = [0, 2, 3, 4, 1]</text>\n<text text-anchor=\"start\" x=\"354\" y=\"-468.8\" font-family=\"Helvetica,sans-Serif\" font-size=\"14.00\" fill=\"#000000\">class = TUNAI</text>\n</g>\n<!-- 20&#45;&gt;21 -->\n<g id=\"edge21\" class=\"edge\">\n<title>20&#45;&gt;21</title>\n<path fill=\"none\" stroke=\"#000000\" d=\"M456.9214,-579.8796C450.5428,-571.0534 443.746,-561.6485 437.1681,-552.5466\"/>\n<polygon fill=\"#000000\" stroke=\"#000000\" points=\"439.9012,-550.353 431.207,-544.2981 434.2277,-554.4532 439.9012,-550.353\"/>\n</g>\n<!-- 24 -->\n<g id=\"node25\" class=\"node\">\n<title>24</title>\n<path fill=\"#bebdf6\" stroke=\"#000000\" d=\"M626,-536.5C626,-536.5 504,-536.5 504,-536.5 498,-536.5 492,-530.5 492,-524.5 492,-524.5 492,-480.5 492,-480.5 492,-474.5 498,-468.5 504,-468.5 504,-468.5 626,-468.5 626,-468.5 632,-468.5 638,-474.5 638,-480.5 638,-480.5 638,-524.5 638,-524.5 638,-530.5 632,-536.5 626,-536.5\"/>\n<text text-anchor=\"start\" x=\"527\" y=\"-521.3\" font-family=\"Helvetica,sans-Serif\" font-size=\"14.00\" fill=\"#000000\">gini = 0.625</text>\n<text text-anchor=\"start\" x=\"525.5\" y=\"-506.3\" font-family=\"Helvetica,sans-Serif\" font-size=\"14.00\" fill=\"#000000\">samples = 4</text>\n<text text-anchor=\"start\" x=\"500\" y=\"-491.3\" font-family=\"Helvetica,sans-Serif\" font-size=\"14.00\" fill=\"#000000\">value = [1, 0, 1, 2, 0]</text>\n<text text-anchor=\"start\" x=\"518\" y=\"-476.3\" font-family=\"Helvetica,sans-Serif\" font-size=\"14.00\" fill=\"#000000\">class = TUNAI</text>\n</g>\n<!-- 20&#45;&gt;24 -->\n<g id=\"edge24\" class=\"edge\">\n<title>20&#45;&gt;24</title>\n<path fill=\"none\" stroke=\"#000000\" d=\"M514.2806,-579.8796C521.6323,-568.6636 529.5964,-556.5131 536.9874,-545.2372\"/>\n<polygon fill=\"#000000\" stroke=\"#000000\" points=\"539.9531,-547.0972 542.5079,-536.8149 534.0986,-543.2598 539.9531,-547.0972\"/>\n</g>\n<!-- 22 -->\n<g id=\"node23\" class=\"node\">\n<title>22</title>\n<path fill=\"#7be539\" stroke=\"#000000\" d=\"M298,-417.5C298,-417.5 176,-417.5 176,-417.5 170,-417.5 164,-411.5 164,-405.5 164,-405.5 164,-361.5 164,-361.5 164,-355.5 170,-349.5 176,-349.5 176,-349.5 298,-349.5 298,-349.5 304,-349.5 310,-355.5 310,-361.5 310,-361.5 310,-405.5 310,-405.5 310,-411.5 304,-417.5 298,-417.5\"/>\n<text text-anchor=\"start\" x=\"207.5\" y=\"-402.3\" font-family=\"Helvetica,sans-Serif\" font-size=\"14.00\" fill=\"#000000\">gini = 0.0</text>\n<text text-anchor=\"start\" x=\"197.5\" y=\"-387.3\" font-family=\"Helvetica,sans-Serif\" font-size=\"14.00\" fill=\"#000000\">samples = 1</text>\n<text text-anchor=\"start\" x=\"172\" y=\"-372.3\" font-family=\"Helvetica,sans-Serif\" font-size=\"14.00\" fill=\"#000000\">value = [0, 1, 0, 0, 0]</text>\n<text text-anchor=\"start\" x=\"187\" y=\"-357.3\" font-family=\"Helvetica,sans-Serif\" font-size=\"14.00\" fill=\"#000000\">class = GOPAY</text>\n</g>\n<!-- 21&#45;&gt;22 -->\n<g id=\"edge22\" class=\"edge\">\n<title>21&#45;&gt;22</title>\n<path fill=\"none\" stroke=\"#000000\" d=\"M343.6408,-460.8796C327.0439,-448.8368 308.9625,-435.7167 292.4824,-423.7586\"/>\n<polygon fill=\"#000000\" stroke=\"#000000\" points=\"294.176,-420.6632 284.0267,-417.623 290.0649,-426.3288 294.176,-420.6632\"/>\n</g>\n<!-- 23 -->\n<g id=\"node24\" class=\"node\">\n<title>23</title>\n<path fill=\"#dedefb\" stroke=\"#000000\" d=\"M462,-417.5C462,-417.5 340,-417.5 340,-417.5 334,-417.5 328,-411.5 328,-405.5 328,-405.5 328,-361.5 328,-361.5 328,-355.5 334,-349.5 340,-349.5 340,-349.5 462,-349.5 462,-349.5 468,-349.5 474,-355.5 474,-361.5 474,-361.5 474,-405.5 474,-405.5 474,-411.5 468,-417.5 462,-417.5\"/>\n<text text-anchor=\"start\" x=\"363\" y=\"-402.3\" font-family=\"Helvetica,sans-Serif\" font-size=\"14.00\" fill=\"#000000\">gini = 0.667</text>\n<text text-anchor=\"start\" x=\"361.5\" y=\"-387.3\" font-family=\"Helvetica,sans-Serif\" font-size=\"14.00\" fill=\"#000000\">samples = 9</text>\n<text text-anchor=\"start\" x=\"336\" y=\"-372.3\" font-family=\"Helvetica,sans-Serif\" font-size=\"14.00\" fill=\"#000000\">value = [0, 1, 3, 4, 1]</text>\n<text text-anchor=\"start\" x=\"354\" y=\"-357.3\" font-family=\"Helvetica,sans-Serif\" font-size=\"14.00\" fill=\"#000000\">class = TUNAI</text>\n</g>\n<!-- 21&#45;&gt;23 -->\n<g id=\"edge23\" class=\"edge\">\n<title>21&#45;&gt;23</title>\n<path fill=\"none\" stroke=\"#000000\" d=\"M401,-460.8796C401,-450.2134 401,-438.7021 401,-427.9015\"/>\n<polygon fill=\"#000000\" stroke=\"#000000\" points=\"404.5001,-427.8149 401,-417.8149 397.5001,-427.815 404.5001,-427.8149\"/>\n</g>\n<!-- 26 -->\n<g id=\"node27\" class=\"node\">\n<title>26</title>\n<path fill=\"#ecfbe3\" stroke=\"#000000\" d=\"M991,-663C991,-663 731,-663 731,-663 725,-663 719,-657 719,-651 719,-651 719,-592 719,-592 719,-586 725,-580 731,-580 731,-580 991,-580 991,-580 997,-580 1003,-586 1003,-592 1003,-592 1003,-651 1003,-651 1003,-657 997,-663 991,-663\"/>\n<text text-anchor=\"start\" x=\"727\" y=\"-647.8\" font-family=\"Helvetica,sans-Serif\" font-size=\"14.00\" fill=\"#000000\">Type Burger_Double cheese burger ≤ 0.5</text>\n<text text-anchor=\"start\" x=\"823\" y=\"-632.8\" font-family=\"Helvetica,sans-Serif\" font-size=\"14.00\" fill=\"#000000\">gini = 0.776</text>\n<text text-anchor=\"start\" x=\"817\" y=\"-617.8\" font-family=\"Helvetica,sans-Serif\" font-size=\"14.00\" fill=\"#000000\">samples = 89</text>\n<text text-anchor=\"start\" x=\"775\" y=\"-602.8\" font-family=\"Helvetica,sans-Serif\" font-size=\"14.00\" fill=\"#000000\">value = [15, 29, 19, 11, 15]</text>\n<text text-anchor=\"start\" x=\"811\" y=\"-587.8\" font-family=\"Helvetica,sans-Serif\" font-size=\"14.00\" fill=\"#000000\">class = GOPAY</text>\n</g>\n<!-- 25&#45;&gt;26 -->\n<g id=\"edge26\" class=\"edge\">\n<title>25&#45;&gt;26</title>\n<path fill=\"none\" stroke=\"#000000\" d=\"M861,-698.8796C861,-690.6838 861,-681.9891 861,-673.5013\"/>\n<polygon fill=\"#000000\" stroke=\"#000000\" points=\"864.5001,-673.298 861,-663.2981 857.5001,-673.2981 864.5001,-673.298\"/>\n</g>\n<!-- 41 -->\n<g id=\"node42\" class=\"node\">\n<title>41</title>\n<path fill=\"#edfce5\" stroke=\"#000000\" d=\"M1263.5,-663C1263.5,-663 1072.5,-663 1072.5,-663 1066.5,-663 1060.5,-657 1060.5,-651 1060.5,-651 1060.5,-592 1060.5,-592 1060.5,-586 1066.5,-580 1072.5,-580 1072.5,-580 1263.5,-580 1263.5,-580 1269.5,-580 1275.5,-586 1275.5,-592 1275.5,-592 1275.5,-651 1275.5,-651 1275.5,-657 1269.5,-663 1263.5,-663\"/>\n<text text-anchor=\"start\" x=\"1068.5\" y=\"-647.8\" font-family=\"Helvetica,sans-Serif\" font-size=\"14.00\" fill=\"#000000\">Type Burger_Beef burger ≤ 0.5</text>\n<text text-anchor=\"start\" x=\"1130\" y=\"-632.8\" font-family=\"Helvetica,sans-Serif\" font-size=\"14.00\" fill=\"#000000\">gini = 0.755</text>\n<text text-anchor=\"start\" x=\"1124\" y=\"-617.8\" font-family=\"Helvetica,sans-Serif\" font-size=\"14.00\" fill=\"#000000\">samples = 20</text>\n<text text-anchor=\"start\" x=\"1103\" y=\"-602.8\" font-family=\"Helvetica,sans-Serif\" font-size=\"14.00\" fill=\"#000000\">value = [4, 7, 2, 5, 2]</text>\n<text text-anchor=\"start\" x=\"1118\" y=\"-587.8\" font-family=\"Helvetica,sans-Serif\" font-size=\"14.00\" fill=\"#000000\">class = GOPAY</text>\n</g>\n<!-- 25&#45;&gt;41 -->\n<g id=\"edge41\" class=\"edge\">\n<title>25&#45;&gt;41</title>\n<path fill=\"none\" stroke=\"#000000\" d=\"M955.2694,-702.4302C958.2118,-701.2699 961.1275,-700.1242 964,-699 992.0523,-688.0214 1022.3583,-676.3863 1050.812,-665.5616\"/>\n<polygon fill=\"#000000\" stroke=\"#000000\" points=\"1052.2801,-668.7479 1060.3845,-661.9238 1049.7934,-662.2045 1052.2801,-668.7479\"/>\n</g>\n<!-- 27 -->\n<g id=\"node28\" class=\"node\">\n<title>27</title>\n<path fill=\"#e5fad7\" stroke=\"#000000\" d=\"M900.5,-544C900.5,-544 745.5,-544 745.5,-544 739.5,-544 733.5,-538 733.5,-532 733.5,-532 733.5,-473 733.5,-473 733.5,-467 739.5,-461 745.5,-461 745.5,-461 900.5,-461 900.5,-461 906.5,-461 912.5,-467 912.5,-473 912.5,-473 912.5,-532 912.5,-532 912.5,-538 906.5,-544 900.5,-544\"/>\n<text text-anchor=\"start\" x=\"756.5\" y=\"-528.8\" font-family=\"Helvetica,sans-Serif\" font-size=\"14.00\" fill=\"#000000\">Amount Burger ≤ 5.5</text>\n<text text-anchor=\"start\" x=\"785\" y=\"-513.8\" font-family=\"Helvetica,sans-Serif\" font-size=\"14.00\" fill=\"#000000\">gini = 0.769</text>\n<text text-anchor=\"start\" x=\"779\" y=\"-498.8\" font-family=\"Helvetica,sans-Serif\" font-size=\"14.00\" fill=\"#000000\">samples = 68</text>\n<text text-anchor=\"start\" x=\"741.5\" y=\"-483.8\" font-family=\"Helvetica,sans-Serif\" font-size=\"14.00\" fill=\"#000000\">value = [10, 24, 13, 9, 12]</text>\n<text text-anchor=\"start\" x=\"773\" y=\"-468.8\" font-family=\"Helvetica,sans-Serif\" font-size=\"14.00\" fill=\"#000000\">class = GOPAY</text>\n</g>\n<!-- 26&#45;&gt;27 -->\n<g id=\"edge27\" class=\"edge\">\n<title>26&#45;&gt;27</title>\n<path fill=\"none\" stroke=\"#000000\" d=\"M847.7094,-579.8796C845.0348,-571.5037 842.1937,-562.6067 839.4269,-553.942\"/>\n<polygon fill=\"#000000\" stroke=\"#000000\" points=\"842.7234,-552.7595 836.3473,-544.2981 836.0552,-554.8889 842.7234,-552.7595\"/>\n</g>\n<!-- 38 -->\n<g id=\"node39\" class=\"node\">\n<title>38</title>\n<path fill=\"#f3fdfb\" stroke=\"#000000\" d=\"M1065,-544C1065,-544 943,-544 943,-544 937,-544 931,-538 931,-532 931,-532 931,-473 931,-473 931,-467 937,-461 943,-461 943,-461 1065,-461 1065,-461 1071,-461 1077,-467 1077,-473 1077,-473 1077,-532 1077,-532 1077,-538 1071,-544 1065,-544\"/>\n<text text-anchor=\"start\" x=\"961.5\" y=\"-528.8\" font-family=\"Helvetica,sans-Serif\" font-size=\"14.00\" fill=\"#000000\">Gender ≤ 0.5</text>\n<text text-anchor=\"start\" x=\"966\" y=\"-513.8\" font-family=\"Helvetica,sans-Serif\" font-size=\"14.00\" fill=\"#000000\">gini = 0.776</text>\n<text text-anchor=\"start\" x=\"960\" y=\"-498.8\" font-family=\"Helvetica,sans-Serif\" font-size=\"14.00\" fill=\"#000000\">samples = 21</text>\n<text text-anchor=\"start\" x=\"939\" y=\"-483.8\" font-family=\"Helvetica,sans-Serif\" font-size=\"14.00\" fill=\"#000000\">value = [5, 5, 6, 2, 3]</text>\n<text text-anchor=\"start\" x=\"958.5\" y=\"-468.8\" font-family=\"Helvetica,sans-Serif\" font-size=\"14.00\" fill=\"#000000\">class = DANA</text>\n</g>\n<!-- 26&#45;&gt;38 -->\n<g id=\"edge38\" class=\"edge\">\n<title>26&#45;&gt;38</title>\n<path fill=\"none\" stroke=\"#000000\" d=\"M911.0145,-579.8796C922.2701,-570.513 934.3088,-560.4948 945.8646,-550.8784\"/>\n<polygon fill=\"#000000\" stroke=\"#000000\" points=\"948.3242,-553.385 953.7721,-544.2981 943.8466,-548.0043 948.3242,-553.385\"/>\n</g>\n<!-- 28 -->\n<g id=\"node29\" class=\"node\">\n<title>28</title>\n<path fill=\"#dbf8c9\" stroke=\"#000000\" d=\"M719.5,-425C719.5,-425 504.5,-425 504.5,-425 498.5,-425 492.5,-419 492.5,-413 492.5,-413 492.5,-354 492.5,-354 492.5,-348 498.5,-342 504.5,-342 504.5,-342 719.5,-342 719.5,-342 725.5,-342 731.5,-348 731.5,-354 731.5,-354 731.5,-413 731.5,-413 731.5,-419 725.5,-425 719.5,-425\"/>\n<text text-anchor=\"start\" x=\"500.5\" y=\"-409.8\" font-family=\"Helvetica,sans-Serif\" font-size=\"14.00\" fill=\"#000000\">Type Burger_Chicken burger ≤ 0.5</text>\n<text text-anchor=\"start\" x=\"574\" y=\"-394.8\" font-family=\"Helvetica,sans-Serif\" font-size=\"14.00\" fill=\"#000000\">gini = 0.724</text>\n<text text-anchor=\"start\" x=\"568\" y=\"-379.8\" font-family=\"Helvetica,sans-Serif\" font-size=\"14.00\" fill=\"#000000\">samples = 14</text>\n<text text-anchor=\"start\" x=\"547\" y=\"-364.8\" font-family=\"Helvetica,sans-Serif\" font-size=\"14.00\" fill=\"#000000\">value = [2, 6, 1, 2, 3]</text>\n<text text-anchor=\"start\" x=\"562\" y=\"-349.8\" font-family=\"Helvetica,sans-Serif\" font-size=\"14.00\" fill=\"#000000\">class = GOPAY</text>\n</g>\n<!-- 27&#45;&gt;28 -->\n<g id=\"edge28\" class=\"edge\">\n<title>27&#45;&gt;28</title>\n<path fill=\"none\" stroke=\"#000000\" d=\"M749.2024,-460.8796C731.5342,-450.915 712.5582,-440.2129 694.5237,-430.0418\"/>\n<polygon fill=\"#000000\" stroke=\"#000000\" points=\"696.1855,-426.9608 685.7559,-425.0969 692.7468,-433.058 696.1855,-426.9608\"/>\n</g>\n<!-- 31 -->\n<g id=\"node32\" class=\"node\">\n<title>31</title>\n<path fill=\"#ecfbe3\" stroke=\"#000000\" d=\"M900.5,-425C900.5,-425 761.5,-425 761.5,-425 755.5,-425 749.5,-419 749.5,-413 749.5,-413 749.5,-354 749.5,-354 749.5,-348 755.5,-342 761.5,-342 761.5,-342 900.5,-342 900.5,-342 906.5,-342 912.5,-348 912.5,-354 912.5,-354 912.5,-413 912.5,-413 912.5,-419 906.5,-425 900.5,-425\"/>\n<text text-anchor=\"start\" x=\"764.5\" y=\"-409.8\" font-family=\"Helvetica,sans-Serif\" font-size=\"14.00\" fill=\"#000000\">Amount Burger ≤ 6.5</text>\n<text text-anchor=\"start\" x=\"793\" y=\"-394.8\" font-family=\"Helvetica,sans-Serif\" font-size=\"14.00\" fill=\"#000000\">gini = 0.773</text>\n<text text-anchor=\"start\" x=\"787\" y=\"-379.8\" font-family=\"Helvetica,sans-Serif\" font-size=\"14.00\" fill=\"#000000\">samples = 54</text>\n<text text-anchor=\"start\" x=\"757.5\" y=\"-364.8\" font-family=\"Helvetica,sans-Serif\" font-size=\"14.00\" fill=\"#000000\">value = [8, 18, 12, 7, 9]</text>\n<text text-anchor=\"start\" x=\"781\" y=\"-349.8\" font-family=\"Helvetica,sans-Serif\" font-size=\"14.00\" fill=\"#000000\">class = GOPAY</text>\n</g>\n<!-- 27&#45;&gt;31 -->\n<g id=\"edge31\" class=\"edge\">\n<title>27&#45;&gt;31</title>\n<path fill=\"none\" stroke=\"#000000\" d=\"M825.798,-460.8796C826.349,-452.6838 826.9335,-443.9891 827.5041,-435.5013\"/>\n<polygon fill=\"#000000\" stroke=\"#000000\" points=\"831.0113,-435.5103 828.19,-425.2981 824.0271,-435.0408 831.0113,-435.5103\"/>\n</g>\n<!-- 29 -->\n<g id=\"node30\" class=\"node\">\n<title>29</title>\n<path fill=\"#d3f6bd\" stroke=\"#000000\" d=\"M523,-298.5C523,-298.5 401,-298.5 401,-298.5 395,-298.5 389,-292.5 389,-286.5 389,-286.5 389,-242.5 389,-242.5 389,-236.5 395,-230.5 401,-230.5 401,-230.5 523,-230.5 523,-230.5 529,-230.5 535,-236.5 535,-242.5 535,-242.5 535,-286.5 535,-286.5 535,-292.5 529,-298.5 523,-298.5\"/>\n<text text-anchor=\"start\" x=\"424\" y=\"-283.3\" font-family=\"Helvetica,sans-Serif\" font-size=\"14.00\" fill=\"#000000\">gini = 0.735</text>\n<text text-anchor=\"start\" x=\"422.5\" y=\"-268.3\" font-family=\"Helvetica,sans-Serif\" font-size=\"14.00\" fill=\"#000000\">samples = 7</text>\n<text text-anchor=\"start\" x=\"397\" y=\"-253.3\" font-family=\"Helvetica,sans-Serif\" font-size=\"14.00\" fill=\"#000000\">value = [1, 3, 1, 1, 1]</text>\n<text text-anchor=\"start\" x=\"412\" y=\"-238.3\" font-family=\"Helvetica,sans-Serif\" font-size=\"14.00\" fill=\"#000000\">class = GOPAY</text>\n</g>\n<!-- 28&#45;&gt;29 -->\n<g id=\"edge29\" class=\"edge\">\n<title>28&#45;&gt;29</title>\n<path fill=\"none\" stroke=\"#000000\" d=\"M559.5373,-341.8796C544.5678,-330.0038 528.2778,-317.0804 513.3741,-305.2568\"/>\n<polygon fill=\"#000000\" stroke=\"#000000\" points=\"515.2635,-302.2881 505.2541,-298.8149 510.913,-307.772 515.2635,-302.2881\"/>\n</g>\n<!-- 30 -->\n<g id=\"node31\" class=\"node\">\n<title>30</title>\n<path fill=\"#e5fad7\" stroke=\"#000000\" d=\"M687,-298.5C687,-298.5 565,-298.5 565,-298.5 559,-298.5 553,-292.5 553,-286.5 553,-286.5 553,-242.5 553,-242.5 553,-236.5 559,-230.5 565,-230.5 565,-230.5 687,-230.5 687,-230.5 693,-230.5 699,-236.5 699,-242.5 699,-242.5 699,-286.5 699,-286.5 699,-292.5 693,-298.5 687,-298.5\"/>\n<text text-anchor=\"start\" x=\"588\" y=\"-283.3\" font-family=\"Helvetica,sans-Serif\" font-size=\"14.00\" fill=\"#000000\">gini = 0.694</text>\n<text text-anchor=\"start\" x=\"586.5\" y=\"-268.3\" font-family=\"Helvetica,sans-Serif\" font-size=\"14.00\" fill=\"#000000\">samples = 7</text>\n<text text-anchor=\"start\" x=\"561\" y=\"-253.3\" font-family=\"Helvetica,sans-Serif\" font-size=\"14.00\" fill=\"#000000\">value = [1, 3, 0, 1, 2]</text>\n<text text-anchor=\"start\" x=\"576\" y=\"-238.3\" font-family=\"Helvetica,sans-Serif\" font-size=\"14.00\" fill=\"#000000\">class = GOPAY</text>\n</g>\n<!-- 28&#45;&gt;30 -->\n<g id=\"edge30\" class=\"edge\">\n<title>28&#45;&gt;30</title>\n<path fill=\"none\" stroke=\"#000000\" d=\"M616.8965,-341.8796C618.1514,-331.2134 619.5056,-319.7021 620.7763,-308.9015\"/>\n<polygon fill=\"#000000\" stroke=\"#000000\" points=\"624.2705,-309.1554 621.9629,-298.8149 617.3184,-308.3375 624.2705,-309.1554\"/>\n</g>\n<!-- 32 -->\n<g id=\"node33\" class=\"node\">\n<title>32</title>\n<path fill=\"#eefce6\" stroke=\"#000000\" d=\"M878,-298.5C878,-298.5 756,-298.5 756,-298.5 750,-298.5 744,-292.5 744,-286.5 744,-286.5 744,-242.5 744,-242.5 744,-236.5 750,-230.5 756,-230.5 756,-230.5 878,-230.5 878,-230.5 884,-230.5 890,-236.5 890,-242.5 890,-242.5 890,-286.5 890,-286.5 890,-292.5 884,-298.5 878,-298.5\"/>\n<text text-anchor=\"start\" x=\"783.5\" y=\"-283.3\" font-family=\"Helvetica,sans-Serif\" font-size=\"14.00\" fill=\"#000000\">gini = 0.78</text>\n<text text-anchor=\"start\" x=\"773\" y=\"-268.3\" font-family=\"Helvetica,sans-Serif\" font-size=\"14.00\" fill=\"#000000\">samples = 20</text>\n<text text-anchor=\"start\" x=\"752\" y=\"-253.3\" font-family=\"Helvetica,sans-Serif\" font-size=\"14.00\" fill=\"#000000\">value = [4, 6, 4, 2, 4]</text>\n<text text-anchor=\"start\" x=\"767\" y=\"-238.3\" font-family=\"Helvetica,sans-Serif\" font-size=\"14.00\" fill=\"#000000\">class = GOPAY</text>\n</g>\n<!-- 31&#45;&gt;32 -->\n<g id=\"edge32\" class=\"edge\">\n<title>31&#45;&gt;32</title>\n<path fill=\"none\" stroke=\"#000000\" d=\"M826.1035,-341.8796C824.8486,-331.2134 823.4944,-319.7021 822.2237,-308.9015\"/>\n<polygon fill=\"#000000\" stroke=\"#000000\" points=\"825.6816,-308.3375 821.0371,-298.8149 818.7295,-309.1554 825.6816,-308.3375\"/>\n</g>\n<!-- 33 -->\n<g id=\"node34\" class=\"node\">\n<title>33</title>\n<path fill=\"#ebfbe1\" stroke=\"#000000\" d=\"M1135.5,-306C1135.5,-306 920.5,-306 920.5,-306 914.5,-306 908.5,-300 908.5,-294 908.5,-294 908.5,-235 908.5,-235 908.5,-229 914.5,-223 920.5,-223 920.5,-223 1135.5,-223 1135.5,-223 1141.5,-223 1147.5,-229 1147.5,-235 1147.5,-235 1147.5,-294 1147.5,-294 1147.5,-300 1141.5,-306 1135.5,-306\"/>\n<text text-anchor=\"start\" x=\"916.5\" y=\"-290.8\" font-family=\"Helvetica,sans-Serif\" font-size=\"14.00\" fill=\"#000000\">Type Burger_Chicken burger ≤ 0.5</text>\n<text text-anchor=\"start\" x=\"990\" y=\"-275.8\" font-family=\"Helvetica,sans-Serif\" font-size=\"14.00\" fill=\"#000000\">gini = 0.763</text>\n<text text-anchor=\"start\" x=\"984\" y=\"-260.8\" font-family=\"Helvetica,sans-Serif\" font-size=\"14.00\" fill=\"#000000\">samples = 34</text>\n<text text-anchor=\"start\" x=\"958.5\" y=\"-245.8\" font-family=\"Helvetica,sans-Serif\" font-size=\"14.00\" fill=\"#000000\">value = [4, 12, 8, 5, 5]</text>\n<text text-anchor=\"start\" x=\"978\" y=\"-230.8\" font-family=\"Helvetica,sans-Serif\" font-size=\"14.00\" fill=\"#000000\">class = GOPAY</text>\n</g>\n<!-- 31&#45;&gt;33 -->\n<g id=\"edge33\" class=\"edge\">\n<title>31&#45;&gt;33</title>\n<path fill=\"none\" stroke=\"#000000\" d=\"M899.901,-341.8796C916.247,-332.0056 933.7919,-321.4075 950.4924,-311.3193\"/>\n<polygon fill=\"#000000\" stroke=\"#000000\" points=\"952.388,-314.2633 959.1379,-306.0969 948.7686,-308.2716 952.388,-314.2633\"/>\n</g>\n<!-- 34 -->\n<g id=\"node35\" class=\"node\">\n<title>34</title>\n<path fill=\"#ecfbe3\" stroke=\"#000000\" d=\"M1007,-187C1007,-187 885,-187 885,-187 879,-187 873,-181 873,-175 873,-175 873,-116 873,-116 873,-110 879,-104 885,-104 885,-104 1007,-104 1007,-104 1013,-104 1019,-110 1019,-116 1019,-116 1019,-175 1019,-175 1019,-181 1013,-187 1007,-187\"/>\n<text text-anchor=\"start\" x=\"884\" y=\"-171.8\" font-family=\"Helvetica,sans-Serif\" font-size=\"14.00\" fill=\"#000000\">Amount Drink ≤ 6.0</text>\n<text text-anchor=\"start\" x=\"908\" y=\"-156.8\" font-family=\"Helvetica,sans-Serif\" font-size=\"14.00\" fill=\"#000000\">gini = 0.772</text>\n<text text-anchor=\"start\" x=\"902\" y=\"-141.8\" font-family=\"Helvetica,sans-Serif\" font-size=\"14.00\" fill=\"#000000\">samples = 18</text>\n<text text-anchor=\"start\" x=\"881\" y=\"-126.8\" font-family=\"Helvetica,sans-Serif\" font-size=\"14.00\" fill=\"#000000\">value = [2, 6, 4, 3, 3]</text>\n<text text-anchor=\"start\" x=\"896\" y=\"-111.8\" font-family=\"Helvetica,sans-Serif\" font-size=\"14.00\" fill=\"#000000\">class = GOPAY</text>\n</g>\n<!-- 33&#45;&gt;34 -->\n<g id=\"edge34\" class=\"edge\">\n<title>33&#45;&gt;34</title>\n<path fill=\"none\" stroke=\"#000000\" d=\"M999.3204,-222.8796C993.2385,-214.0534 986.7578,-204.6485 980.4859,-195.5466\"/>\n<polygon fill=\"#000000\" stroke=\"#000000\" points=\"983.3582,-193.5465 974.802,-187.2981 977.5941,-197.5184 983.3582,-193.5465\"/>\n</g>\n<!-- 37 -->\n<g id=\"node38\" class=\"node\">\n<title>37</title>\n<path fill=\"#e9fbde\" stroke=\"#000000\" d=\"M1171,-179.5C1171,-179.5 1049,-179.5 1049,-179.5 1043,-179.5 1037,-173.5 1037,-167.5 1037,-167.5 1037,-123.5 1037,-123.5 1037,-117.5 1043,-111.5 1049,-111.5 1049,-111.5 1171,-111.5 1171,-111.5 1177,-111.5 1183,-117.5 1183,-123.5 1183,-123.5 1183,-167.5 1183,-167.5 1183,-173.5 1177,-179.5 1171,-179.5\"/>\n<text text-anchor=\"start\" x=\"1076.5\" y=\"-164.3\" font-family=\"Helvetica,sans-Serif\" font-size=\"14.00\" fill=\"#000000\">gini = 0.75</text>\n<text text-anchor=\"start\" x=\"1066\" y=\"-149.3\" font-family=\"Helvetica,sans-Serif\" font-size=\"14.00\" fill=\"#000000\">samples = 16</text>\n<text text-anchor=\"start\" x=\"1045\" y=\"-134.3\" font-family=\"Helvetica,sans-Serif\" font-size=\"14.00\" fill=\"#000000\">value = [2, 6, 4, 2, 2]</text>\n<text text-anchor=\"start\" x=\"1060\" y=\"-119.3\" font-family=\"Helvetica,sans-Serif\" font-size=\"14.00\" fill=\"#000000\">class = GOPAY</text>\n</g>\n<!-- 33&#45;&gt;37 -->\n<g id=\"edge37\" class=\"edge\">\n<title>33&#45;&gt;37</title>\n<path fill=\"none\" stroke=\"#000000\" d=\"M1056.6796,-222.8796C1064.4083,-211.6636 1072.7809,-199.5131 1080.5508,-188.2372\"/>\n<polygon fill=\"#000000\" stroke=\"#000000\" points=\"1083.5623,-190.0353 1086.3544,-179.8149 1077.7982,-186.0634 1083.5623,-190.0353\"/>\n</g>\n<!-- 35 -->\n<g id=\"node36\" class=\"node\">\n<title>35</title>\n<path fill=\"#ffffff\" stroke=\"#000000\" d=\"M925,-68C925,-68 803,-68 803,-68 797,-68 791,-62 791,-56 791,-56 791,-12 791,-12 791,-6 797,0 803,0 803,0 925,0 925,0 931,0 937,-6 937,-12 937,-12 937,-56 937,-56 937,-62 931,-68 925,-68\"/>\n<text text-anchor=\"start\" x=\"830.5\" y=\"-52.8\" font-family=\"Helvetica,sans-Serif\" font-size=\"14.00\" fill=\"#000000\">gini = 0.75</text>\n<text text-anchor=\"start\" x=\"824.5\" y=\"-37.8\" font-family=\"Helvetica,sans-Serif\" font-size=\"14.00\" fill=\"#000000\">samples = 4</text>\n<text text-anchor=\"start\" x=\"799\" y=\"-22.8\" font-family=\"Helvetica,sans-Serif\" font-size=\"14.00\" fill=\"#000000\">value = [0, 1, 1, 1, 1]</text>\n<text text-anchor=\"start\" x=\"814\" y=\"-7.8\" font-family=\"Helvetica,sans-Serif\" font-size=\"14.00\" fill=\"#000000\">class = GOPAY</text>\n</g>\n<!-- 34&#45;&gt;35 -->\n<g id=\"edge35\" class=\"edge\">\n<title>34&#45;&gt;35</title>\n<path fill=\"none\" stroke=\"#000000\" d=\"M915.4662,-103.9815C908.8424,-94.9747 901.8279,-85.4367 895.1795,-76.3965\"/>\n<polygon fill=\"#000000\" stroke=\"#000000\" points=\"897.9426,-74.2461 889.1984,-68.2637 892.3034,-78.3933 897.9426,-74.2461\"/>\n</g>\n<!-- 36 -->\n<g id=\"node37\" class=\"node\">\n<title>36</title>\n<path fill=\"#e7fadb\" stroke=\"#000000\" d=\"M1089,-68C1089,-68 967,-68 967,-68 961,-68 955,-62 955,-56 955,-56 955,-12 955,-12 955,-6 961,0 967,0 967,0 1089,0 1089,0 1095,0 1101,-6 1101,-12 1101,-12 1101,-56 1101,-56 1101,-62 1095,-68 1089,-68\"/>\n<text text-anchor=\"start\" x=\"990\" y=\"-52.8\" font-family=\"Helvetica,sans-Serif\" font-size=\"14.00\" fill=\"#000000\">gini = 0.765</text>\n<text text-anchor=\"start\" x=\"984\" y=\"-37.8\" font-family=\"Helvetica,sans-Serif\" font-size=\"14.00\" fill=\"#000000\">samples = 14</text>\n<text text-anchor=\"start\" x=\"963\" y=\"-22.8\" font-family=\"Helvetica,sans-Serif\" font-size=\"14.00\" fill=\"#000000\">value = [2, 5, 3, 2, 2]</text>\n<text text-anchor=\"start\" x=\"978\" y=\"-7.8\" font-family=\"Helvetica,sans-Serif\" font-size=\"14.00\" fill=\"#000000\">class = GOPAY</text>\n</g>\n<!-- 34&#45;&gt;36 -->\n<g id=\"edge36\" class=\"edge\">\n<title>34&#45;&gt;36</title>\n<path fill=\"none\" stroke=\"#000000\" d=\"M976.5338,-103.9815C983.1576,-94.9747 990.1721,-85.4367 996.8205,-76.3965\"/>\n<polygon fill=\"#000000\" stroke=\"#000000\" points=\"999.6966,-78.3933 1002.8016,-68.2637 994.0574,-74.2461 999.6966,-78.3933\"/>\n</g>\n<!-- 39 -->\n<g id=\"node40\" class=\"node\">\n<title>39</title>\n<path fill=\"#defbf5\" stroke=\"#000000\" d=\"M1065,-417.5C1065,-417.5 943,-417.5 943,-417.5 937,-417.5 931,-411.5 931,-405.5 931,-405.5 931,-361.5 931,-361.5 931,-355.5 937,-349.5 943,-349.5 943,-349.5 1065,-349.5 1065,-349.5 1071,-349.5 1077,-355.5 1077,-361.5 1077,-361.5 1077,-405.5 1077,-405.5 1077,-411.5 1071,-417.5 1065,-417.5\"/>\n<text text-anchor=\"start\" x=\"966\" y=\"-402.3\" font-family=\"Helvetica,sans-Serif\" font-size=\"14.00\" fill=\"#000000\">gini = 0.719</text>\n<text text-anchor=\"start\" x=\"964.5\" y=\"-387.3\" font-family=\"Helvetica,sans-Serif\" font-size=\"14.00\" fill=\"#000000\">samples = 8</text>\n<text text-anchor=\"start\" x=\"939\" y=\"-372.3\" font-family=\"Helvetica,sans-Serif\" font-size=\"14.00\" fill=\"#000000\">value = [2, 1, 3, 0, 2]</text>\n<text text-anchor=\"start\" x=\"958.5\" y=\"-357.3\" font-family=\"Helvetica,sans-Serif\" font-size=\"14.00\" fill=\"#000000\">class = DANA</text>\n</g>\n<!-- 38&#45;&gt;39 -->\n<g id=\"edge39\" class=\"edge\">\n<title>38&#45;&gt;39</title>\n<path fill=\"none\" stroke=\"#000000\" d=\"M1004,-460.8796C1004,-450.2134 1004,-438.7021 1004,-427.9015\"/>\n<polygon fill=\"#000000\" stroke=\"#000000\" points=\"1007.5001,-427.8149 1004,-417.8149 1000.5001,-427.815 1007.5001,-427.8149\"/>\n</g>\n<!-- 40 -->\n<g id=\"node41\" class=\"node\">\n<title>40</title>\n<path fill=\"#f2fceb\" stroke=\"#000000\" d=\"M1229,-417.5C1229,-417.5 1107,-417.5 1107,-417.5 1101,-417.5 1095,-411.5 1095,-405.5 1095,-405.5 1095,-361.5 1095,-361.5 1095,-355.5 1101,-349.5 1107,-349.5 1107,-349.5 1229,-349.5 1229,-349.5 1235,-349.5 1241,-355.5 1241,-361.5 1241,-361.5 1241,-405.5 1241,-405.5 1241,-411.5 1235,-417.5 1229,-417.5\"/>\n<text text-anchor=\"start\" x=\"1130\" y=\"-402.3\" font-family=\"Helvetica,sans-Serif\" font-size=\"14.00\" fill=\"#000000\">gini = 0.769</text>\n<text text-anchor=\"start\" x=\"1124\" y=\"-387.3\" font-family=\"Helvetica,sans-Serif\" font-size=\"14.00\" fill=\"#000000\">samples = 13</text>\n<text text-anchor=\"start\" x=\"1103\" y=\"-372.3\" font-family=\"Helvetica,sans-Serif\" font-size=\"14.00\" fill=\"#000000\">value = [3, 4, 3, 2, 1]</text>\n<text text-anchor=\"start\" x=\"1118\" y=\"-357.3\" font-family=\"Helvetica,sans-Serif\" font-size=\"14.00\" fill=\"#000000\">class = GOPAY</text>\n</g>\n<!-- 38&#45;&gt;40 -->\n<g id=\"edge40\" class=\"edge\">\n<title>38&#45;&gt;40</title>\n<path fill=\"none\" stroke=\"#000000\" d=\"M1061.3592,-460.8796C1077.9561,-448.8368 1096.0375,-435.7167 1112.5176,-423.7586\"/>\n<polygon fill=\"#000000\" stroke=\"#000000\" points=\"1114.9351,-426.3288 1120.9733,-417.623 1110.824,-420.6632 1114.9351,-426.3288\"/>\n</g>\n<!-- 42 -->\n<g id=\"node43\" class=\"node\">\n<title>42</title>\n<path fill=\"#e1f9d1\" stroke=\"#000000\" d=\"M1229,-536.5C1229,-536.5 1107,-536.5 1107,-536.5 1101,-536.5 1095,-530.5 1095,-524.5 1095,-524.5 1095,-480.5 1095,-480.5 1095,-474.5 1101,-468.5 1107,-468.5 1107,-468.5 1229,-468.5 1229,-468.5 1235,-468.5 1241,-474.5 1241,-480.5 1241,-480.5 1241,-524.5 1241,-524.5 1241,-530.5 1235,-536.5 1229,-536.5\"/>\n<text text-anchor=\"start\" x=\"1130\" y=\"-521.3\" font-family=\"Helvetica,sans-Serif\" font-size=\"14.00\" fill=\"#000000\">gini = 0.758</text>\n<text text-anchor=\"start\" x=\"1124\" y=\"-506.3\" font-family=\"Helvetica,sans-Serif\" font-size=\"14.00\" fill=\"#000000\">samples = 16</text>\n<text text-anchor=\"start\" x=\"1103\" y=\"-491.3\" font-family=\"Helvetica,sans-Serif\" font-size=\"14.00\" fill=\"#000000\">value = [3, 6, 2, 3, 2]</text>\n<text text-anchor=\"start\" x=\"1118\" y=\"-476.3\" font-family=\"Helvetica,sans-Serif\" font-size=\"14.00\" fill=\"#000000\">class = GOPAY</text>\n</g>\n<!-- 41&#45;&gt;42 -->\n<g id=\"edge42\" class=\"edge\">\n<title>41&#45;&gt;42</title>\n<path fill=\"none\" stroke=\"#000000\" d=\"M1168,-579.8796C1168,-569.2134 1168,-557.7021 1168,-546.9015\"/>\n<polygon fill=\"#000000\" stroke=\"#000000\" points=\"1171.5001,-546.8149 1168,-536.8149 1164.5001,-546.815 1171.5001,-546.8149\"/>\n</g>\n<!-- 43 -->\n<g id=\"node44\" class=\"node\">\n<title>43</title>\n<path fill=\"#bebdf6\" stroke=\"#000000\" d=\"M1393,-536.5C1393,-536.5 1271,-536.5 1271,-536.5 1265,-536.5 1259,-530.5 1259,-524.5 1259,-524.5 1259,-480.5 1259,-480.5 1259,-474.5 1265,-468.5 1271,-468.5 1271,-468.5 1393,-468.5 1393,-468.5 1399,-468.5 1405,-474.5 1405,-480.5 1405,-480.5 1405,-524.5 1405,-524.5 1405,-530.5 1399,-536.5 1393,-536.5\"/>\n<text text-anchor=\"start\" x=\"1294\" y=\"-521.3\" font-family=\"Helvetica,sans-Serif\" font-size=\"14.00\" fill=\"#000000\">gini = 0.625</text>\n<text text-anchor=\"start\" x=\"1292.5\" y=\"-506.3\" font-family=\"Helvetica,sans-Serif\" font-size=\"14.00\" fill=\"#000000\">samples = 4</text>\n<text text-anchor=\"start\" x=\"1267\" y=\"-491.3\" font-family=\"Helvetica,sans-Serif\" font-size=\"14.00\" fill=\"#000000\">value = [1, 1, 0, 2, 0]</text>\n<text text-anchor=\"start\" x=\"1285\" y=\"-476.3\" font-family=\"Helvetica,sans-Serif\" font-size=\"14.00\" fill=\"#000000\">class = TUNAI</text>\n</g>\n<!-- 41&#45;&gt;43 -->\n<g id=\"edge43\" class=\"edge\">\n<title>41&#45;&gt;43</title>\n<path fill=\"none\" stroke=\"#000000\" d=\"M1225.3592,-579.8796C1241.9561,-567.8368 1260.0375,-554.7167 1276.5176,-542.7586\"/>\n<polygon fill=\"#000000\" stroke=\"#000000\" points=\"1278.9351,-545.3288 1284.9733,-536.623 1274.824,-539.6632 1278.9351,-545.3288\"/>\n</g>\n<!-- 45 -->\n<g id=\"node46\" class=\"node\">\n<title>45</title>\n<path fill=\"#ffffff\" stroke=\"#000000\" d=\"M1107,-774.5C1107,-774.5 985,-774.5 985,-774.5 979,-774.5 973,-768.5 973,-762.5 973,-762.5 973,-718.5 973,-718.5 973,-712.5 979,-706.5 985,-706.5 985,-706.5 1107,-706.5 1107,-706.5 1113,-706.5 1119,-712.5 1119,-718.5 1119,-718.5 1119,-762.5 1119,-762.5 1119,-768.5 1113,-774.5 1107,-774.5\"/>\n<text text-anchor=\"start\" x=\"1012.5\" y=\"-759.3\" font-family=\"Helvetica,sans-Serif\" font-size=\"14.00\" fill=\"#000000\">gini = 0.75</text>\n<text text-anchor=\"start\" x=\"1006.5\" y=\"-744.3\" font-family=\"Helvetica,sans-Serif\" font-size=\"14.00\" fill=\"#000000\">samples = 4</text>\n<text text-anchor=\"start\" x=\"981\" y=\"-729.3\" font-family=\"Helvetica,sans-Serif\" font-size=\"14.00\" fill=\"#000000\">value = [1, 1, 0, 1, 1]</text>\n<text text-anchor=\"start\" x=\"990\" y=\"-714.3\" font-family=\"Helvetica,sans-Serif\" font-size=\"14.00\" fill=\"#000000\">class = LINK AJA</text>\n</g>\n<!-- 44&#45;&gt;45 -->\n<g id=\"edge45\" class=\"edge\">\n<title>44&#45;&gt;45</title>\n<path fill=\"none\" stroke=\"#000000\" d=\"M1129.8821,-817.8796C1117.2467,-806.2237 1103.5174,-793.5587 1090.895,-781.9148\"/>\n<polygon fill=\"#000000\" stroke=\"#000000\" points=\"1092.922,-779.0228 1083.1985,-774.8149 1088.1756,-784.168 1092.922,-779.0228\"/>\n</g>\n<!-- 46 -->\n<g id=\"node47\" class=\"node\">\n<title>46</title>\n<path fill=\"#d8d7fa\" stroke=\"#000000\" d=\"M1271,-774.5C1271,-774.5 1149,-774.5 1149,-774.5 1143,-774.5 1137,-768.5 1137,-762.5 1137,-762.5 1137,-718.5 1137,-718.5 1137,-712.5 1143,-706.5 1149,-706.5 1149,-706.5 1271,-706.5 1271,-706.5 1277,-706.5 1283,-712.5 1283,-718.5 1283,-718.5 1283,-762.5 1283,-762.5 1283,-768.5 1277,-774.5 1271,-774.5\"/>\n<text text-anchor=\"start\" x=\"1172\" y=\"-759.3\" font-family=\"Helvetica,sans-Serif\" font-size=\"14.00\" fill=\"#000000\">gini = 0.594</text>\n<text text-anchor=\"start\" x=\"1170.5\" y=\"-744.3\" font-family=\"Helvetica,sans-Serif\" font-size=\"14.00\" fill=\"#000000\">samples = 8</text>\n<text text-anchor=\"start\" x=\"1145\" y=\"-729.3\" font-family=\"Helvetica,sans-Serif\" font-size=\"14.00\" fill=\"#000000\">value = [1, 0, 3, 4, 0]</text>\n<text text-anchor=\"start\" x=\"1163\" y=\"-714.3\" font-family=\"Helvetica,sans-Serif\" font-size=\"14.00\" fill=\"#000000\">class = TUNAI</text>\n</g>\n<!-- 44&#45;&gt;46 -->\n<g id=\"edge46\" class=\"edge\">\n<title>44&#45;&gt;46</title>\n<path fill=\"none\" stroke=\"#000000\" d=\"M1187.2413,-817.8796C1190.4108,-807.1034 1193.8339,-795.4647 1197.0389,-784.5677\"/>\n<polygon fill=\"#000000\" stroke=\"#000000\" points=\"1200.4434,-785.3962 1199.9074,-774.8149 1193.7279,-783.421 1200.4434,-785.3962\"/>\n</g>\n<!-- 48 -->\n<g id=\"node49\" class=\"node\">\n<title>48</title>\n<path fill=\"#f9e1d0\" stroke=\"#000000\" d=\"M1501.5,-901C1501.5,-901 1376.5,-901 1376.5,-901 1370.5,-901 1364.5,-895 1364.5,-889 1364.5,-889 1364.5,-830 1364.5,-830 1364.5,-824 1370.5,-818 1376.5,-818 1376.5,-818 1501.5,-818 1501.5,-818 1507.5,-818 1513.5,-824 1513.5,-830 1513.5,-830 1513.5,-889 1513.5,-889 1513.5,-895 1507.5,-901 1501.5,-901\"/>\n<text text-anchor=\"start\" x=\"1372.5\" y=\"-885.8\" font-family=\"Helvetica,sans-Serif\" font-size=\"14.00\" fill=\"#000000\">Amount Burger ≤ 2.5</text>\n<text text-anchor=\"start\" x=\"1401\" y=\"-870.8\" font-family=\"Helvetica,sans-Serif\" font-size=\"14.00\" fill=\"#000000\">gini = 0.727</text>\n<text text-anchor=\"start\" x=\"1395\" y=\"-855.8\" font-family=\"Helvetica,sans-Serif\" font-size=\"14.00\" fill=\"#000000\">samples = 22</text>\n<text text-anchor=\"start\" x=\"1374\" y=\"-840.8\" font-family=\"Helvetica,sans-Serif\" font-size=\"14.00\" fill=\"#000000\">value = [9, 5, 3, 1, 4]</text>\n<text text-anchor=\"start\" x=\"1383\" y=\"-825.8\" font-family=\"Helvetica,sans-Serif\" font-size=\"14.00\" fill=\"#000000\">class = LINK AJA</text>\n</g>\n<!-- 47&#45;&gt;48 -->\n<g id=\"edge48\" class=\"edge\">\n<title>47&#45;&gt;48</title>\n<path fill=\"none\" stroke=\"#000000\" d=\"M1439,-936.8796C1439,-928.6838 1439,-919.9891 1439,-911.5013\"/>\n<polygon fill=\"#000000\" stroke=\"#000000\" points=\"1442.5001,-911.298 1439,-901.2981 1435.5001,-911.2981 1442.5001,-911.298\"/>\n</g>\n<!-- 51 -->\n<g id=\"node52\" class=\"node\">\n<title>51</title>\n<path fill=\"#fef9fd\" stroke=\"#000000\" d=\"M1709.5,-901C1709.5,-901 1570.5,-901 1570.5,-901 1564.5,-901 1558.5,-895 1558.5,-889 1558.5,-889 1558.5,-830 1558.5,-830 1558.5,-824 1564.5,-818 1570.5,-818 1570.5,-818 1709.5,-818 1709.5,-818 1715.5,-818 1721.5,-824 1721.5,-830 1721.5,-830 1721.5,-889 1721.5,-889 1721.5,-895 1715.5,-901 1709.5,-901\"/>\n<text text-anchor=\"start\" x=\"1578\" y=\"-885.8\" font-family=\"Helvetica,sans-Serif\" font-size=\"14.00\" fill=\"#000000\">Amount Drink ≤ 3.5</text>\n<text text-anchor=\"start\" x=\"1602\" y=\"-870.8\" font-family=\"Helvetica,sans-Serif\" font-size=\"14.00\" fill=\"#000000\">gini = 0.778</text>\n<text text-anchor=\"start\" x=\"1596\" y=\"-855.8\" font-family=\"Helvetica,sans-Serif\" font-size=\"14.00\" fill=\"#000000\">samples = 45</text>\n<text text-anchor=\"start\" x=\"1566.5\" y=\"-840.8\" font-family=\"Helvetica,sans-Serif\" font-size=\"14.00\" fill=\"#000000\">value = [6, 6, 12, 8, 13]</text>\n<text text-anchor=\"start\" x=\"1599\" y=\"-825.8\" font-family=\"Helvetica,sans-Serif\" font-size=\"14.00\" fill=\"#000000\">class = OVO</text>\n</g>\n<!-- 47&#45;&gt;51 -->\n<g id=\"edge51\" class=\"edge\">\n<title>47&#45;&gt;51</title>\n<path fill=\"none\" stroke=\"#000000\" d=\"M1509.3,-936.8796C1525.9779,-927.0056 1543.879,-916.4075 1560.9186,-906.3193\"/>\n<polygon fill=\"#000000\" stroke=\"#000000\" points=\"1562.9177,-909.2032 1569.7396,-901.0969 1559.3515,-903.1797 1562.9177,-909.2032\"/>\n</g>\n<!-- 49 -->\n<g id=\"node50\" class=\"node\">\n<title>49</title>\n<path fill=\"#f2c09c\" stroke=\"#000000\" d=\"M1435,-774.5C1435,-774.5 1313,-774.5 1313,-774.5 1307,-774.5 1301,-768.5 1301,-762.5 1301,-762.5 1301,-718.5 1301,-718.5 1301,-712.5 1307,-706.5 1313,-706.5 1313,-706.5 1435,-706.5 1435,-706.5 1441,-706.5 1447,-712.5 1447,-718.5 1447,-718.5 1447,-762.5 1447,-762.5 1447,-768.5 1441,-774.5 1435,-774.5\"/>\n<text text-anchor=\"start\" x=\"1336\" y=\"-759.3\" font-family=\"Helvetica,sans-Serif\" font-size=\"14.00\" fill=\"#000000\">gini = 0.444</text>\n<text text-anchor=\"start\" x=\"1334.5\" y=\"-744.3\" font-family=\"Helvetica,sans-Serif\" font-size=\"14.00\" fill=\"#000000\">samples = 3</text>\n<text text-anchor=\"start\" x=\"1309\" y=\"-729.3\" font-family=\"Helvetica,sans-Serif\" font-size=\"14.00\" fill=\"#000000\">value = [2, 1, 0, 0, 0]</text>\n<text text-anchor=\"start\" x=\"1318\" y=\"-714.3\" font-family=\"Helvetica,sans-Serif\" font-size=\"14.00\" fill=\"#000000\">class = LINK AJA</text>\n</g>\n<!-- 48&#45;&gt;49 -->\n<g id=\"edge49\" class=\"edge\">\n<title>48&#45;&gt;49</title>\n<path fill=\"none\" stroke=\"#000000\" d=\"M1416.2662,-817.8796C1410.2599,-806.8835 1403.763,-794.9893 1397.7067,-783.9015\"/>\n<polygon fill=\"#000000\" stroke=\"#000000\" points=\"1400.6088,-781.9133 1392.7435,-774.8149 1394.4655,-785.2689 1400.6088,-781.9133\"/>\n</g>\n<!-- 50 -->\n<g id=\"node51\" class=\"node\">\n<title>50</title>\n<path fill=\"#fae6d7\" stroke=\"#000000\" d=\"M1599,-774.5C1599,-774.5 1477,-774.5 1477,-774.5 1471,-774.5 1465,-768.5 1465,-762.5 1465,-762.5 1465,-718.5 1465,-718.5 1465,-712.5 1471,-706.5 1477,-706.5 1477,-706.5 1599,-706.5 1599,-706.5 1605,-706.5 1611,-712.5 1611,-718.5 1611,-718.5 1611,-762.5 1611,-762.5 1611,-768.5 1605,-774.5 1599,-774.5\"/>\n<text text-anchor=\"start\" x=\"1500\" y=\"-759.3\" font-family=\"Helvetica,sans-Serif\" font-size=\"14.00\" fill=\"#000000\">gini = 0.748</text>\n<text text-anchor=\"start\" x=\"1494\" y=\"-744.3\" font-family=\"Helvetica,sans-Serif\" font-size=\"14.00\" fill=\"#000000\">samples = 19</text>\n<text text-anchor=\"start\" x=\"1473\" y=\"-729.3\" font-family=\"Helvetica,sans-Serif\" font-size=\"14.00\" fill=\"#000000\">value = [7, 4, 3, 1, 4]</text>\n<text text-anchor=\"start\" x=\"1482\" y=\"-714.3\" font-family=\"Helvetica,sans-Serif\" font-size=\"14.00\" fill=\"#000000\">class = LINK AJA</text>\n</g>\n<!-- 48&#45;&gt;50 -->\n<g id=\"edge50\" class=\"edge\">\n<title>48&#45;&gt;50</title>\n<path fill=\"none\" stroke=\"#000000\" d=\"M1473.6254,-817.8796C1483.1393,-806.4436 1493.4614,-794.0363 1502.9965,-782.575\"/>\n<polygon fill=\"#000000\" stroke=\"#000000\" points=\"1505.7474,-784.7409 1509.4523,-774.8149 1500.3661,-780.264 1505.7474,-784.7409\"/>\n</g>\n<!-- 52 -->\n<g id=\"node53\" class=\"node\">\n<title>52</title>\n<path fill=\"#fce5f7\" stroke=\"#000000\" d=\"M1763,-782C1763,-782 1641,-782 1641,-782 1635,-782 1629,-776 1629,-770 1629,-770 1629,-711 1629,-711 1629,-705 1635,-699 1641,-699 1641,-699 1763,-699 1763,-699 1769,-699 1775,-705 1775,-711 1775,-711 1775,-770 1775,-770 1775,-776 1769,-782 1763,-782\"/>\n<text text-anchor=\"start\" x=\"1659.5\" y=\"-766.8\" font-family=\"Helvetica,sans-Serif\" font-size=\"14.00\" fill=\"#000000\">Gender ≤ 0.5</text>\n<text text-anchor=\"start\" x=\"1668.5\" y=\"-751.8\" font-family=\"Helvetica,sans-Serif\" font-size=\"14.00\" fill=\"#000000\">gini = 0.75</text>\n<text text-anchor=\"start\" x=\"1658\" y=\"-736.8\" font-family=\"Helvetica,sans-Serif\" font-size=\"14.00\" fill=\"#000000\">samples = 20</text>\n<text text-anchor=\"start\" x=\"1637\" y=\"-721.8\" font-family=\"Helvetica,sans-Serif\" font-size=\"14.00\" fill=\"#000000\">value = [4, 1, 5, 3, 7]</text>\n<text text-anchor=\"start\" x=\"1661\" y=\"-706.8\" font-family=\"Helvetica,sans-Serif\" font-size=\"14.00\" fill=\"#000000\">class = OVO</text>\n</g>\n<!-- 51&#45;&gt;52 -->\n<g id=\"edge52\" class=\"edge\">\n<title>51&#45;&gt;52</title>\n<path fill=\"none\" stroke=\"#000000\" d=\"M1661.6846,-817.8796C1666.1423,-809.3236 1670.8834,-800.2238 1675.4894,-791.3833\"/>\n<polygon fill=\"#000000\" stroke=\"#000000\" points=\"1678.7062,-792.7838 1680.2229,-782.2981 1672.4983,-789.5494 1678.7062,-792.7838\"/>\n</g>\n<!-- 55 -->\n<g id=\"node56\" class=\"node\">\n<title>55</title>\n<path fill=\"#f5fefc\" stroke=\"#000000\" d=\"M1927,-782C1927,-782 1805,-782 1805,-782 1799,-782 1793,-776 1793,-770 1793,-770 1793,-711 1793,-711 1793,-705 1799,-699 1805,-699 1805,-699 1927,-699 1927,-699 1933,-699 1939,-705 1939,-711 1939,-711 1939,-770 1939,-770 1939,-776 1933,-782 1927,-782\"/>\n<text text-anchor=\"start\" x=\"1804\" y=\"-766.8\" font-family=\"Helvetica,sans-Serif\" font-size=\"14.00\" fill=\"#000000\">Amount Drink ≤ 7.0</text>\n<text text-anchor=\"start\" x=\"1828\" y=\"-751.8\" font-family=\"Helvetica,sans-Serif\" font-size=\"14.00\" fill=\"#000000\">gini = 0.778</text>\n<text text-anchor=\"start\" x=\"1822\" y=\"-736.8\" font-family=\"Helvetica,sans-Serif\" font-size=\"14.00\" fill=\"#000000\">samples = 25</text>\n<text text-anchor=\"start\" x=\"1801\" y=\"-721.8\" font-family=\"Helvetica,sans-Serif\" font-size=\"14.00\" fill=\"#000000\">value = [2, 5, 7, 5, 6]</text>\n<text text-anchor=\"start\" x=\"1820.5\" y=\"-706.8\" font-family=\"Helvetica,sans-Serif\" font-size=\"14.00\" fill=\"#000000\">class = DANA</text>\n</g>\n<!-- 51&#45;&gt;55 -->\n<g id=\"edge55\" class=\"edge\">\n<title>51&#45;&gt;55</title>\n<path fill=\"none\" stroke=\"#000000\" d=\"M1719.0438,-817.8796C1739.9828,-806.8542 1762.6367,-794.9258 1783.742,-783.8128\"/>\n<polygon fill=\"#000000\" stroke=\"#000000\" points=\"1785.4652,-786.8611 1792.6828,-779.1051 1782.2038,-780.6673 1785.4652,-786.8611\"/>\n</g>\n<!-- 53 -->\n<g id=\"node54\" class=\"node\">\n<title>53</title>\n<path fill=\"#fbdef4\" stroke=\"#000000\" d=\"M1599,-655.5C1599,-655.5 1477,-655.5 1477,-655.5 1471,-655.5 1465,-649.5 1465,-643.5 1465,-643.5 1465,-599.5 1465,-599.5 1465,-593.5 1471,-587.5 1477,-587.5 1477,-587.5 1599,-587.5 1599,-587.5 1605,-587.5 1611,-593.5 1611,-599.5 1611,-599.5 1611,-643.5 1611,-643.5 1611,-649.5 1605,-655.5 1599,-655.5\"/>\n<text text-anchor=\"start\" x=\"1500\" y=\"-640.3\" font-family=\"Helvetica,sans-Serif\" font-size=\"14.00\" fill=\"#000000\">gini = 0.742</text>\n<text text-anchor=\"start\" x=\"1494\" y=\"-625.3\" font-family=\"Helvetica,sans-Serif\" font-size=\"14.00\" fill=\"#000000\">samples = 16</text>\n<text text-anchor=\"start\" x=\"1473\" y=\"-610.3\" font-family=\"Helvetica,sans-Serif\" font-size=\"14.00\" fill=\"#000000\">value = [3, 1, 4, 2, 6]</text>\n<text text-anchor=\"start\" x=\"1497\" y=\"-595.3\" font-family=\"Helvetica,sans-Serif\" font-size=\"14.00\" fill=\"#000000\">class = OVO</text>\n</g>\n<!-- 52&#45;&gt;53 -->\n<g id=\"edge53\" class=\"edge\">\n<title>52&#45;&gt;53</title>\n<path fill=\"none\" stroke=\"#000000\" d=\"M1644.6408,-698.8796C1628.0439,-686.8368 1609.9625,-673.7167 1593.4824,-661.7586\"/>\n<polygon fill=\"#000000\" stroke=\"#000000\" points=\"1595.176,-658.6632 1585.0267,-655.623 1591.0649,-664.3288 1595.176,-658.6632\"/>\n</g>\n<!-- 54 -->\n<g id=\"node55\" class=\"node\">\n<title>54</title>\n<path fill=\"#ffffff\" stroke=\"#000000\" d=\"M1763,-655.5C1763,-655.5 1641,-655.5 1641,-655.5 1635,-655.5 1629,-649.5 1629,-643.5 1629,-643.5 1629,-599.5 1629,-599.5 1629,-593.5 1635,-587.5 1641,-587.5 1641,-587.5 1763,-587.5 1763,-587.5 1769,-587.5 1775,-593.5 1775,-599.5 1775,-599.5 1775,-643.5 1775,-643.5 1775,-649.5 1769,-655.5 1763,-655.5\"/>\n<text text-anchor=\"start\" x=\"1668.5\" y=\"-640.3\" font-family=\"Helvetica,sans-Serif\" font-size=\"14.00\" fill=\"#000000\">gini = 0.75</text>\n<text text-anchor=\"start\" x=\"1662.5\" y=\"-625.3\" font-family=\"Helvetica,sans-Serif\" font-size=\"14.00\" fill=\"#000000\">samples = 4</text>\n<text text-anchor=\"start\" x=\"1637\" y=\"-610.3\" font-family=\"Helvetica,sans-Serif\" font-size=\"14.00\" fill=\"#000000\">value = [1, 0, 1, 1, 1]</text>\n<text text-anchor=\"start\" x=\"1646\" y=\"-595.3\" font-family=\"Helvetica,sans-Serif\" font-size=\"14.00\" fill=\"#000000\">class = LINK AJA</text>\n</g>\n<!-- 52&#45;&gt;54 -->\n<g id=\"edge54\" class=\"edge\">\n<title>52&#45;&gt;54</title>\n<path fill=\"none\" stroke=\"#000000\" d=\"M1702,-698.8796C1702,-688.2134 1702,-676.7021 1702,-665.9015\"/>\n<polygon fill=\"#000000\" stroke=\"#000000\" points=\"1705.5001,-665.8149 1702,-655.8149 1698.5001,-665.815 1705.5001,-665.8149\"/>\n</g>\n<!-- 56 -->\n<g id=\"node57\" class=\"node\">\n<title>56</title>\n<path fill=\"#ffffff\" stroke=\"#000000\" d=\"M1927,-655.5C1927,-655.5 1805,-655.5 1805,-655.5 1799,-655.5 1793,-649.5 1793,-643.5 1793,-643.5 1793,-599.5 1793,-599.5 1793,-593.5 1799,-587.5 1805,-587.5 1805,-587.5 1927,-587.5 1927,-587.5 1933,-587.5 1939,-593.5 1939,-599.5 1939,-599.5 1939,-643.5 1939,-643.5 1939,-649.5 1933,-655.5 1927,-655.5\"/>\n<text text-anchor=\"start\" x=\"1828\" y=\"-640.3\" font-family=\"Helvetica,sans-Serif\" font-size=\"14.00\" fill=\"#000000\">gini = 0.781</text>\n<text text-anchor=\"start\" x=\"1826.5\" y=\"-625.3\" font-family=\"Helvetica,sans-Serif\" font-size=\"14.00\" fill=\"#000000\">samples = 8</text>\n<text text-anchor=\"start\" x=\"1801\" y=\"-610.3\" font-family=\"Helvetica,sans-Serif\" font-size=\"14.00\" fill=\"#000000\">value = [1, 1, 2, 2, 2]</text>\n<text text-anchor=\"start\" x=\"1820.5\" y=\"-595.3\" font-family=\"Helvetica,sans-Serif\" font-size=\"14.00\" fill=\"#000000\">class = DANA</text>\n</g>\n<!-- 55&#45;&gt;56 -->\n<g id=\"edge56\" class=\"edge\">\n<title>55&#45;&gt;56</title>\n<path fill=\"none\" stroke=\"#000000\" d=\"M1866,-698.8796C1866,-688.2134 1866,-676.7021 1866,-665.9015\"/>\n<polygon fill=\"#000000\" stroke=\"#000000\" points=\"1869.5001,-665.8149 1866,-655.8149 1862.5001,-665.815 1869.5001,-665.8149\"/>\n</g>\n<!-- 57 -->\n<g id=\"node58\" class=\"node\">\n<title>57</title>\n<path fill=\"#f0fdfb\" stroke=\"#000000\" d=\"M2091,-655.5C2091,-655.5 1969,-655.5 1969,-655.5 1963,-655.5 1957,-649.5 1957,-643.5 1957,-643.5 1957,-599.5 1957,-599.5 1957,-593.5 1963,-587.5 1969,-587.5 1969,-587.5 2091,-587.5 2091,-587.5 2097,-587.5 2103,-593.5 2103,-599.5 2103,-599.5 2103,-643.5 2103,-643.5 2103,-649.5 2097,-655.5 2091,-655.5\"/>\n<text text-anchor=\"start\" x=\"1992\" y=\"-640.3\" font-family=\"Helvetica,sans-Serif\" font-size=\"14.00\" fill=\"#000000\">gini = 0.768</text>\n<text text-anchor=\"start\" x=\"1986\" y=\"-625.3\" font-family=\"Helvetica,sans-Serif\" font-size=\"14.00\" fill=\"#000000\">samples = 17</text>\n<text text-anchor=\"start\" x=\"1965\" y=\"-610.3\" font-family=\"Helvetica,sans-Serif\" font-size=\"14.00\" fill=\"#000000\">value = [1, 4, 5, 3, 4]</text>\n<text text-anchor=\"start\" x=\"1984.5\" y=\"-595.3\" font-family=\"Helvetica,sans-Serif\" font-size=\"14.00\" fill=\"#000000\">class = DANA</text>\n</g>\n<!-- 55&#45;&gt;57 -->\n<g id=\"edge57\" class=\"edge\">\n<title>55&#45;&gt;57</title>\n<path fill=\"none\" stroke=\"#000000\" d=\"M1923.3592,-698.8796C1939.9561,-686.8368 1958.0375,-673.7167 1974.5176,-661.7586\"/>\n<polygon fill=\"#000000\" stroke=\"#000000\" points=\"1976.9351,-664.3288 1982.9733,-655.623 1972.824,-658.6632 1976.9351,-664.3288\"/>\n</g>\n<!-- 59 -->\n<g id=\"node60\" class=\"node\">\n<title>59</title>\n<path fill=\"#fdeefa\" stroke=\"#000000\" d=\"M1994.5,-1020C1994.5,-1020 1779.5,-1020 1779.5,-1020 1773.5,-1020 1767.5,-1014 1767.5,-1008 1767.5,-1008 1767.5,-949 1767.5,-949 1767.5,-943 1773.5,-937 1779.5,-937 1779.5,-937 1994.5,-937 1994.5,-937 2000.5,-937 2006.5,-943 2006.5,-949 2006.5,-949 2006.5,-1008 2006.5,-1008 2006.5,-1014 2000.5,-1020 1994.5,-1020\"/>\n<text text-anchor=\"start\" x=\"1775.5\" y=\"-1004.8\" font-family=\"Helvetica,sans-Serif\" font-size=\"14.00\" fill=\"#000000\">Type Burger_Chicken burger ≤ 0.5</text>\n<text text-anchor=\"start\" x=\"1849\" y=\"-989.8\" font-family=\"Helvetica,sans-Serif\" font-size=\"14.00\" fill=\"#000000\">gini = 0.758</text>\n<text text-anchor=\"start\" x=\"1843\" y=\"-974.8\" font-family=\"Helvetica,sans-Serif\" font-size=\"14.00\" fill=\"#000000\">samples = 16</text>\n<text text-anchor=\"start\" x=\"1822\" y=\"-959.8\" font-family=\"Helvetica,sans-Serif\" font-size=\"14.00\" fill=\"#000000\">value = [4, 2, 4, 1, 5]</text>\n<text text-anchor=\"start\" x=\"1846\" y=\"-944.8\" font-family=\"Helvetica,sans-Serif\" font-size=\"14.00\" fill=\"#000000\">class = OVO</text>\n</g>\n<!-- 58&#45;&gt;59 -->\n<g id=\"edge59\" class=\"edge\">\n<title>58&#45;&gt;59</title>\n<path fill=\"none\" stroke=\"#000000\" d=\"M1887,-1055.8796C1887,-1047.6838 1887,-1038.9891 1887,-1030.5013\"/>\n<polygon fill=\"#000000\" stroke=\"#000000\" points=\"1890.5001,-1030.298 1887,-1020.2981 1883.5001,-1030.2981 1890.5001,-1030.298\"/>\n</g>\n<!-- 62 -->\n<g id=\"node63\" class=\"node\">\n<title>62</title>\n<path fill=\"#f9e2d1\" stroke=\"#000000\" d=\"M2241.5,-1020C2241.5,-1020 2110.5,-1020 2110.5,-1020 2104.5,-1020 2098.5,-1014 2098.5,-1008 2098.5,-1008 2098.5,-949 2098.5,-949 2098.5,-943 2104.5,-937 2110.5,-937 2110.5,-937 2241.5,-937 2241.5,-937 2247.5,-937 2253.5,-943 2253.5,-949 2253.5,-949 2253.5,-1008 2253.5,-1008 2253.5,-1014 2247.5,-1020 2241.5,-1020\"/>\n<text text-anchor=\"start\" x=\"2133.5\" y=\"-1004.8\" font-family=\"Helvetica,sans-Serif\" font-size=\"14.00\" fill=\"#000000\">Gender ≤ 0.5</text>\n<text text-anchor=\"start\" x=\"2138\" y=\"-989.8\" font-family=\"Helvetica,sans-Serif\" font-size=\"14.00\" fill=\"#000000\">gini = 0.728</text>\n<text text-anchor=\"start\" x=\"2132\" y=\"-974.8\" font-family=\"Helvetica,sans-Serif\" font-size=\"14.00\" fill=\"#000000\">samples = 34</text>\n<text text-anchor=\"start\" x=\"2106.5\" y=\"-959.8\" font-family=\"Helvetica,sans-Serif\" font-size=\"14.00\" fill=\"#000000\">value = [14, 2, 5, 8, 5]</text>\n<text text-anchor=\"start\" x=\"2120\" y=\"-944.8\" font-family=\"Helvetica,sans-Serif\" font-size=\"14.00\" fill=\"#000000\">class = LINK AJA</text>\n</g>\n<!-- 58&#45;&gt;62 -->\n<g id=\"edge62\" class=\"edge\">\n<title>58&#45;&gt;62</title>\n<path fill=\"none\" stroke=\"#000000\" d=\"M1968.657,-1063.8765C2006.0486,-1048.48 2050.4125,-1030.2125 2088.4896,-1014.5337\"/>\n<polygon fill=\"#000000\" stroke=\"#000000\" points=\"2090.1126,-1017.6506 2098.0267,-1010.6066 2087.4473,-1011.1778 2090.1126,-1017.6506\"/>\n</g>\n<!-- 60 -->\n<g id=\"node61\" class=\"node\">\n<title>60</title>\n<path fill=\"#f6bdea\" stroke=\"#000000\" d=\"M1874,-893.5C1874,-893.5 1752,-893.5 1752,-893.5 1746,-893.5 1740,-887.5 1740,-881.5 1740,-881.5 1740,-837.5 1740,-837.5 1740,-831.5 1746,-825.5 1752,-825.5 1752,-825.5 1874,-825.5 1874,-825.5 1880,-825.5 1886,-831.5 1886,-837.5 1886,-837.5 1886,-881.5 1886,-881.5 1886,-887.5 1880,-893.5 1874,-893.5\"/>\n<text text-anchor=\"start\" x=\"1775\" y=\"-878.3\" font-family=\"Helvetica,sans-Serif\" font-size=\"14.00\" fill=\"#000000\">gini = 0.625</text>\n<text text-anchor=\"start\" x=\"1773.5\" y=\"-863.3\" font-family=\"Helvetica,sans-Serif\" font-size=\"14.00\" fill=\"#000000\">samples = 4</text>\n<text text-anchor=\"start\" x=\"1748\" y=\"-848.3\" font-family=\"Helvetica,sans-Serif\" font-size=\"14.00\" fill=\"#000000\">value = [0, 1, 1, 0, 2]</text>\n<text text-anchor=\"start\" x=\"1772\" y=\"-833.3\" font-family=\"Helvetica,sans-Serif\" font-size=\"14.00\" fill=\"#000000\">class = OVO</text>\n</g>\n<!-- 59&#45;&gt;60 -->\n<g id=\"edge60\" class=\"edge\">\n<title>59&#45;&gt;60</title>\n<path fill=\"none\" stroke=\"#000000\" d=\"M1861.1184,-936.8796C1854.2121,-925.7735 1846.7361,-913.7513 1839.7825,-902.5691\"/>\n<polygon fill=\"#000000\" stroke=\"#000000\" points=\"1842.5917,-900.4587 1834.3387,-893.8149 1836.6473,-904.1552 1842.5917,-900.4587\"/>\n</g>\n<!-- 61 -->\n<g id=\"node62\" class=\"node\">\n<title>61</title>\n<path fill=\"#fcf1e9\" stroke=\"#000000\" d=\"M2038,-893.5C2038,-893.5 1916,-893.5 1916,-893.5 1910,-893.5 1904,-887.5 1904,-881.5 1904,-881.5 1904,-837.5 1904,-837.5 1904,-831.5 1910,-825.5 1916,-825.5 1916,-825.5 2038,-825.5 2038,-825.5 2044,-825.5 2050,-831.5 2050,-837.5 2050,-837.5 2050,-881.5 2050,-881.5 2050,-887.5 2044,-893.5 2038,-893.5\"/>\n<text text-anchor=\"start\" x=\"1943.5\" y=\"-878.3\" font-family=\"Helvetica,sans-Serif\" font-size=\"14.00\" fill=\"#000000\">gini = 0.75</text>\n<text text-anchor=\"start\" x=\"1933\" y=\"-863.3\" font-family=\"Helvetica,sans-Serif\" font-size=\"14.00\" fill=\"#000000\">samples = 12</text>\n<text text-anchor=\"start\" x=\"1912\" y=\"-848.3\" font-family=\"Helvetica,sans-Serif\" font-size=\"14.00\" fill=\"#000000\">value = [4, 1, 3, 1, 3]</text>\n<text text-anchor=\"start\" x=\"1921\" y=\"-833.3\" font-family=\"Helvetica,sans-Serif\" font-size=\"14.00\" fill=\"#000000\">class = LINK AJA</text>\n</g>\n<!-- 59&#45;&gt;61 -->\n<g id=\"edge61\" class=\"edge\">\n<title>59&#45;&gt;61</title>\n<path fill=\"none\" stroke=\"#000000\" d=\"M1918.4776,-936.8796C1927.0435,-925.5536 1936.33,-913.2748 1944.9283,-901.9058\"/>\n<polygon fill=\"#000000\" stroke=\"#000000\" points=\"1947.8069,-903.902 1951.0475,-893.8149 1942.2238,-899.6795 1947.8069,-903.902\"/>\n</g>\n<!-- 63 -->\n<g id=\"node64\" class=\"node\">\n<title>63</title>\n<path fill=\"#ffffff\" stroke=\"#000000\" d=\"M2271.5,-901C2271.5,-901 2080.5,-901 2080.5,-901 2074.5,-901 2068.5,-895 2068.5,-889 2068.5,-889 2068.5,-830 2068.5,-830 2068.5,-824 2074.5,-818 2080.5,-818 2080.5,-818 2271.5,-818 2271.5,-818 2277.5,-818 2283.5,-824 2283.5,-830 2283.5,-830 2283.5,-889 2283.5,-889 2283.5,-895 2277.5,-901 2271.5,-901\"/>\n<text text-anchor=\"start\" x=\"2076.5\" y=\"-885.8\" font-family=\"Helvetica,sans-Serif\" font-size=\"14.00\" fill=\"#000000\">Type Burger_Beef burger ≤ 0.5</text>\n<text text-anchor=\"start\" x=\"2138\" y=\"-870.8\" font-family=\"Helvetica,sans-Serif\" font-size=\"14.00\" fill=\"#000000\">gini = 0.771</text>\n<text text-anchor=\"start\" x=\"2132\" y=\"-855.8\" font-family=\"Helvetica,sans-Serif\" font-size=\"14.00\" fill=\"#000000\">samples = 21</text>\n<text text-anchor=\"start\" x=\"2111\" y=\"-840.8\" font-family=\"Helvetica,sans-Serif\" font-size=\"14.00\" fill=\"#000000\">value = [6, 2, 4, 6, 3]</text>\n<text text-anchor=\"start\" x=\"2120\" y=\"-825.8\" font-family=\"Helvetica,sans-Serif\" font-size=\"14.00\" fill=\"#000000\">class = LINK AJA</text>\n</g>\n<!-- 62&#45;&gt;63 -->\n<g id=\"edge63\" class=\"edge\">\n<title>62&#45;&gt;63</title>\n<path fill=\"none\" stroke=\"#000000\" d=\"M2176,-936.8796C2176,-928.6838 2176,-919.9891 2176,-911.5013\"/>\n<polygon fill=\"#000000\" stroke=\"#000000\" points=\"2179.5001,-911.298 2176,-901.2981 2172.5001,-911.2981 2179.5001,-911.298\"/>\n</g>\n<!-- 66 -->\n<g id=\"node67\" class=\"node\">\n<title>66</title>\n<path fill=\"#f1ba93\" stroke=\"#000000\" d=\"M2436,-893.5C2436,-893.5 2314,-893.5 2314,-893.5 2308,-893.5 2302,-887.5 2302,-881.5 2302,-881.5 2302,-837.5 2302,-837.5 2302,-831.5 2308,-825.5 2314,-825.5 2314,-825.5 2436,-825.5 2436,-825.5 2442,-825.5 2448,-831.5 2448,-837.5 2448,-837.5 2448,-881.5 2448,-881.5 2448,-887.5 2442,-893.5 2436,-893.5\"/>\n<text text-anchor=\"start\" x=\"2337\" y=\"-878.3\" font-family=\"Helvetica,sans-Serif\" font-size=\"14.00\" fill=\"#000000\">gini = 0.568</text>\n<text text-anchor=\"start\" x=\"2331\" y=\"-863.3\" font-family=\"Helvetica,sans-Serif\" font-size=\"14.00\" fill=\"#000000\">samples = 13</text>\n<text text-anchor=\"start\" x=\"2310\" y=\"-848.3\" font-family=\"Helvetica,sans-Serif\" font-size=\"14.00\" fill=\"#000000\">value = [8, 0, 1, 2, 2]</text>\n<text text-anchor=\"start\" x=\"2319\" y=\"-833.3\" font-family=\"Helvetica,sans-Serif\" font-size=\"14.00\" fill=\"#000000\">class = LINK AJA</text>\n</g>\n<!-- 62&#45;&gt;66 -->\n<g id=\"edge66\" class=\"edge\">\n<title>62&#45;&gt;66</title>\n<path fill=\"none\" stroke=\"#000000\" d=\"M2245.6005,-936.8796C2266.2936,-924.5053 2288.8888,-910.9937 2309.3235,-898.7739\"/>\n<polygon fill=\"#000000\" stroke=\"#000000\" points=\"2311.1509,-901.7592 2317.9371,-893.623 2307.5583,-895.7515 2311.1509,-901.7592\"/>\n</g>\n<!-- 64 -->\n<g id=\"node65\" class=\"node\">\n<title>64</title>\n<path fill=\"#fdf5f0\" stroke=\"#000000\" d=\"M2141,-774.5C2141,-774.5 2019,-774.5 2019,-774.5 2013,-774.5 2007,-768.5 2007,-762.5 2007,-762.5 2007,-718.5 2007,-718.5 2007,-712.5 2013,-706.5 2019,-706.5 2019,-706.5 2141,-706.5 2141,-706.5 2147,-706.5 2153,-712.5 2153,-718.5 2153,-718.5 2153,-762.5 2153,-762.5 2153,-768.5 2147,-774.5 2141,-774.5\"/>\n<text text-anchor=\"start\" x=\"2042\" y=\"-759.3\" font-family=\"Helvetica,sans-Serif\" font-size=\"14.00\" fill=\"#000000\">gini = 0.775</text>\n<text text-anchor=\"start\" x=\"2036\" y=\"-744.3\" font-family=\"Helvetica,sans-Serif\" font-size=\"14.00\" fill=\"#000000\">samples = 17</text>\n<text text-anchor=\"start\" x=\"2015\" y=\"-729.3\" font-family=\"Helvetica,sans-Serif\" font-size=\"14.00\" fill=\"#000000\">value = [5, 2, 4, 4, 2]</text>\n<text text-anchor=\"start\" x=\"2024\" y=\"-714.3\" font-family=\"Helvetica,sans-Serif\" font-size=\"14.00\" fill=\"#000000\">class = LINK AJA</text>\n</g>\n<!-- 63&#45;&gt;64 -->\n<g id=\"edge64\" class=\"edge\">\n<title>63&#45;&gt;64</title>\n<path fill=\"none\" stroke=\"#000000\" d=\"M2142.4239,-817.8796C2133.2869,-806.5536 2123.3813,-794.2748 2114.2098,-782.9058\"/>\n<polygon fill=\"#000000\" stroke=\"#000000\" points=\"2116.6856,-780.4005 2107.6826,-774.8149 2111.2374,-784.7957 2116.6856,-780.4005\"/>\n</g>\n<!-- 65 -->\n<g id=\"node66\" class=\"node\">\n<title>65</title>\n<path fill=\"#bebdf6\" stroke=\"#000000\" d=\"M2305,-774.5C2305,-774.5 2183,-774.5 2183,-774.5 2177,-774.5 2171,-768.5 2171,-762.5 2171,-762.5 2171,-718.5 2171,-718.5 2171,-712.5 2177,-706.5 2183,-706.5 2183,-706.5 2305,-706.5 2305,-706.5 2311,-706.5 2317,-712.5 2317,-718.5 2317,-718.5 2317,-762.5 2317,-762.5 2317,-768.5 2311,-774.5 2305,-774.5\"/>\n<text text-anchor=\"start\" x=\"2206\" y=\"-759.3\" font-family=\"Helvetica,sans-Serif\" font-size=\"14.00\" fill=\"#000000\">gini = 0.625</text>\n<text text-anchor=\"start\" x=\"2204.5\" y=\"-744.3\" font-family=\"Helvetica,sans-Serif\" font-size=\"14.00\" fill=\"#000000\">samples = 4</text>\n<text text-anchor=\"start\" x=\"2179\" y=\"-729.3\" font-family=\"Helvetica,sans-Serif\" font-size=\"14.00\" fill=\"#000000\">value = [1, 0, 0, 2, 1]</text>\n<text text-anchor=\"start\" x=\"2197\" y=\"-714.3\" font-family=\"Helvetica,sans-Serif\" font-size=\"14.00\" fill=\"#000000\">class = TUNAI</text>\n</g>\n<!-- 63&#45;&gt;65 -->\n<g id=\"edge65\" class=\"edge\">\n<title>63&#45;&gt;65</title>\n<path fill=\"none\" stroke=\"#000000\" d=\"M2199.7831,-817.8796C2206.1294,-806.7735 2212.9993,-794.7513 2219.3891,-783.5691\"/>\n<polygon fill=\"#000000\" stroke=\"#000000\" points=\"2222.4689,-785.2339 2224.3915,-774.8149 2216.3912,-781.7609 2222.4689,-785.2339\"/>\n</g>\n</g>\n</svg>\n"
          },
          "metadata": {
            "tags": []
          },
          "execution_count": 31
        },
        {
          "output_type": "display_data",
          "data": {
            "text/plain": [
              "<Figure size 360x360 with 0 Axes>"
            ]
          },
          "metadata": {
            "tags": []
          }
        }
      ]
    },
    {
      "cell_type": "code",
      "metadata": {
        "id": "kcykNQlV0GSh",
        "colab_type": "code",
        "colab": {}
      },
      "source": [
        ""
      ],
      "execution_count": 0,
      "outputs": []
    }
  ]
}